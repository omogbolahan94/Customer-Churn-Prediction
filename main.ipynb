{
 "cells": [
  {
   "cell_type": "markdown",
   "id": "f29abf4c",
   "metadata": {},
   "source": [
    "# Customer Churn Prediction"
   ]
  },
  {
   "cell_type": "markdown",
   "id": "9b0c9cee",
   "metadata": {},
   "source": [
    "The purpose of this project is to predict if a customer will churn or not using classification machine learning model.\n",
    "\n",
    "This model is built a machine learning library: **Scikit-Learn**.\n",
    "\n",
    "Data Source: "
   ]
  },
  {
   "cell_type": "markdown",
   "id": "ec8627da",
   "metadata": {},
   "source": [
    "### Project Plan\n",
    "* Import the useful python libraries\n",
    "* Load the data\n",
    "* Preapre data: data cleaning and consistency in data\n",
    "* Validation framework\n",
    "* Exploratory Data Analysis (EDA): visualization and statistics\n",
    "* Feature Importance: Churn Rate and Risk Ratio\n",
    "* Use linear regression model for price prediction\n",
    "* Evaluate the performance of the model"
   ]
  },
  {
   "cell_type": "markdown",
   "id": "6cdfd746",
   "metadata": {},
   "source": [
    "### Improt Python Libraries"
   ]
  },
  {
   "cell_type": "code",
   "execution_count": 1,
   "id": "b81c52cc",
   "metadata": {},
   "outputs": [],
   "source": [
    "import numpy as np\n",
    "import pandas as pd\n",
    "import matplotlib.pyplot as plt\n",
    "import seaborn as sns\n",
    "\n",
    "%matplotlib inline"
   ]
  },
  {
   "cell_type": "markdown",
   "id": "11c5477a",
   "metadata": {},
   "source": [
    "### Load the data"
   ]
  },
  {
   "cell_type": "code",
   "execution_count": 2,
   "id": "48452d69",
   "metadata": {},
   "outputs": [],
   "source": [
    "df = pd.read_csv('Telco-Customer-Churn.csv')"
   ]
  },
  {
   "cell_type": "code",
   "execution_count": 3,
   "id": "1144f0ac",
   "metadata": {},
   "outputs": [
    {
     "data": {
      "text/html": [
       "<div>\n",
       "<style scoped>\n",
       "    .dataframe tbody tr th:only-of-type {\n",
       "        vertical-align: middle;\n",
       "    }\n",
       "\n",
       "    .dataframe tbody tr th {\n",
       "        vertical-align: top;\n",
       "    }\n",
       "\n",
       "    .dataframe thead th {\n",
       "        text-align: right;\n",
       "    }\n",
       "</style>\n",
       "<table border=\"1\" class=\"dataframe\">\n",
       "  <thead>\n",
       "    <tr style=\"text-align: right;\">\n",
       "      <th></th>\n",
       "      <th>customerID</th>\n",
       "      <th>gender</th>\n",
       "      <th>SeniorCitizen</th>\n",
       "      <th>Partner</th>\n",
       "      <th>Dependents</th>\n",
       "      <th>tenure</th>\n",
       "      <th>PhoneService</th>\n",
       "      <th>MultipleLines</th>\n",
       "      <th>InternetService</th>\n",
       "      <th>OnlineSecurity</th>\n",
       "      <th>...</th>\n",
       "      <th>DeviceProtection</th>\n",
       "      <th>TechSupport</th>\n",
       "      <th>StreamingTV</th>\n",
       "      <th>StreamingMovies</th>\n",
       "      <th>Contract</th>\n",
       "      <th>PaperlessBilling</th>\n",
       "      <th>PaymentMethod</th>\n",
       "      <th>MonthlyCharges</th>\n",
       "      <th>TotalCharges</th>\n",
       "      <th>Churn</th>\n",
       "    </tr>\n",
       "  </thead>\n",
       "  <tbody>\n",
       "    <tr>\n",
       "      <th>0</th>\n",
       "      <td>7590-VHVEG</td>\n",
       "      <td>Female</td>\n",
       "      <td>0</td>\n",
       "      <td>Yes</td>\n",
       "      <td>No</td>\n",
       "      <td>1</td>\n",
       "      <td>No</td>\n",
       "      <td>No phone service</td>\n",
       "      <td>DSL</td>\n",
       "      <td>No</td>\n",
       "      <td>...</td>\n",
       "      <td>No</td>\n",
       "      <td>No</td>\n",
       "      <td>No</td>\n",
       "      <td>No</td>\n",
       "      <td>Month-to-month</td>\n",
       "      <td>Yes</td>\n",
       "      <td>Electronic check</td>\n",
       "      <td>29.85</td>\n",
       "      <td>29.85</td>\n",
       "      <td>No</td>\n",
       "    </tr>\n",
       "    <tr>\n",
       "      <th>1</th>\n",
       "      <td>5575-GNVDE</td>\n",
       "      <td>Male</td>\n",
       "      <td>0</td>\n",
       "      <td>No</td>\n",
       "      <td>No</td>\n",
       "      <td>34</td>\n",
       "      <td>Yes</td>\n",
       "      <td>No</td>\n",
       "      <td>DSL</td>\n",
       "      <td>Yes</td>\n",
       "      <td>...</td>\n",
       "      <td>Yes</td>\n",
       "      <td>No</td>\n",
       "      <td>No</td>\n",
       "      <td>No</td>\n",
       "      <td>One year</td>\n",
       "      <td>No</td>\n",
       "      <td>Mailed check</td>\n",
       "      <td>56.95</td>\n",
       "      <td>1889.5</td>\n",
       "      <td>No</td>\n",
       "    </tr>\n",
       "    <tr>\n",
       "      <th>2</th>\n",
       "      <td>3668-QPYBK</td>\n",
       "      <td>Male</td>\n",
       "      <td>0</td>\n",
       "      <td>No</td>\n",
       "      <td>No</td>\n",
       "      <td>2</td>\n",
       "      <td>Yes</td>\n",
       "      <td>No</td>\n",
       "      <td>DSL</td>\n",
       "      <td>Yes</td>\n",
       "      <td>...</td>\n",
       "      <td>No</td>\n",
       "      <td>No</td>\n",
       "      <td>No</td>\n",
       "      <td>No</td>\n",
       "      <td>Month-to-month</td>\n",
       "      <td>Yes</td>\n",
       "      <td>Mailed check</td>\n",
       "      <td>53.85</td>\n",
       "      <td>108.15</td>\n",
       "      <td>Yes</td>\n",
       "    </tr>\n",
       "    <tr>\n",
       "      <th>3</th>\n",
       "      <td>7795-CFOCW</td>\n",
       "      <td>Male</td>\n",
       "      <td>0</td>\n",
       "      <td>No</td>\n",
       "      <td>No</td>\n",
       "      <td>45</td>\n",
       "      <td>No</td>\n",
       "      <td>No phone service</td>\n",
       "      <td>DSL</td>\n",
       "      <td>Yes</td>\n",
       "      <td>...</td>\n",
       "      <td>Yes</td>\n",
       "      <td>Yes</td>\n",
       "      <td>No</td>\n",
       "      <td>No</td>\n",
       "      <td>One year</td>\n",
       "      <td>No</td>\n",
       "      <td>Bank transfer (automatic)</td>\n",
       "      <td>42.30</td>\n",
       "      <td>1840.75</td>\n",
       "      <td>No</td>\n",
       "    </tr>\n",
       "    <tr>\n",
       "      <th>4</th>\n",
       "      <td>9237-HQITU</td>\n",
       "      <td>Female</td>\n",
       "      <td>0</td>\n",
       "      <td>No</td>\n",
       "      <td>No</td>\n",
       "      <td>2</td>\n",
       "      <td>Yes</td>\n",
       "      <td>No</td>\n",
       "      <td>Fiber optic</td>\n",
       "      <td>No</td>\n",
       "      <td>...</td>\n",
       "      <td>No</td>\n",
       "      <td>No</td>\n",
       "      <td>No</td>\n",
       "      <td>No</td>\n",
       "      <td>Month-to-month</td>\n",
       "      <td>Yes</td>\n",
       "      <td>Electronic check</td>\n",
       "      <td>70.70</td>\n",
       "      <td>151.65</td>\n",
       "      <td>Yes</td>\n",
       "    </tr>\n",
       "  </tbody>\n",
       "</table>\n",
       "<p>5 rows × 21 columns</p>\n",
       "</div>"
      ],
      "text/plain": [
       "   customerID  gender  SeniorCitizen Partner Dependents  tenure PhoneService  \\\n",
       "0  7590-VHVEG  Female              0     Yes         No       1           No   \n",
       "1  5575-GNVDE    Male              0      No         No      34          Yes   \n",
       "2  3668-QPYBK    Male              0      No         No       2          Yes   \n",
       "3  7795-CFOCW    Male              0      No         No      45           No   \n",
       "4  9237-HQITU  Female              0      No         No       2          Yes   \n",
       "\n",
       "      MultipleLines InternetService OnlineSecurity  ... DeviceProtection  \\\n",
       "0  No phone service             DSL             No  ...               No   \n",
       "1                No             DSL            Yes  ...              Yes   \n",
       "2                No             DSL            Yes  ...               No   \n",
       "3  No phone service             DSL            Yes  ...              Yes   \n",
       "4                No     Fiber optic             No  ...               No   \n",
       "\n",
       "  TechSupport StreamingTV StreamingMovies        Contract PaperlessBilling  \\\n",
       "0          No          No              No  Month-to-month              Yes   \n",
       "1          No          No              No        One year               No   \n",
       "2          No          No              No  Month-to-month              Yes   \n",
       "3         Yes          No              No        One year               No   \n",
       "4          No          No              No  Month-to-month              Yes   \n",
       "\n",
       "               PaymentMethod MonthlyCharges  TotalCharges Churn  \n",
       "0           Electronic check          29.85         29.85    No  \n",
       "1               Mailed check          56.95        1889.5    No  \n",
       "2               Mailed check          53.85        108.15   Yes  \n",
       "3  Bank transfer (automatic)          42.30       1840.75    No  \n",
       "4           Electronic check          70.70        151.65   Yes  \n",
       "\n",
       "[5 rows x 21 columns]"
      ]
     },
     "execution_count": 3,
     "metadata": {},
     "output_type": "execute_result"
    }
   ],
   "source": [
    "df.head()"
   ]
  },
  {
   "cell_type": "code",
   "execution_count": 4,
   "id": "c559bcff",
   "metadata": {},
   "outputs": [
    {
     "data": {
      "text/html": [
       "<div>\n",
       "<style scoped>\n",
       "    .dataframe tbody tr th:only-of-type {\n",
       "        vertical-align: middle;\n",
       "    }\n",
       "\n",
       "    .dataframe tbody tr th {\n",
       "        vertical-align: top;\n",
       "    }\n",
       "\n",
       "    .dataframe thead th {\n",
       "        text-align: right;\n",
       "    }\n",
       "</style>\n",
       "<table border=\"1\" class=\"dataframe\">\n",
       "  <thead>\n",
       "    <tr style=\"text-align: right;\">\n",
       "      <th></th>\n",
       "      <th>0</th>\n",
       "      <th>1</th>\n",
       "      <th>2</th>\n",
       "      <th>3</th>\n",
       "      <th>4</th>\n",
       "    </tr>\n",
       "  </thead>\n",
       "  <tbody>\n",
       "    <tr>\n",
       "      <th>customerID</th>\n",
       "      <td>7590-VHVEG</td>\n",
       "      <td>5575-GNVDE</td>\n",
       "      <td>3668-QPYBK</td>\n",
       "      <td>7795-CFOCW</td>\n",
       "      <td>9237-HQITU</td>\n",
       "    </tr>\n",
       "    <tr>\n",
       "      <th>gender</th>\n",
       "      <td>Female</td>\n",
       "      <td>Male</td>\n",
       "      <td>Male</td>\n",
       "      <td>Male</td>\n",
       "      <td>Female</td>\n",
       "    </tr>\n",
       "    <tr>\n",
       "      <th>SeniorCitizen</th>\n",
       "      <td>0</td>\n",
       "      <td>0</td>\n",
       "      <td>0</td>\n",
       "      <td>0</td>\n",
       "      <td>0</td>\n",
       "    </tr>\n",
       "    <tr>\n",
       "      <th>Partner</th>\n",
       "      <td>Yes</td>\n",
       "      <td>No</td>\n",
       "      <td>No</td>\n",
       "      <td>No</td>\n",
       "      <td>No</td>\n",
       "    </tr>\n",
       "    <tr>\n",
       "      <th>Dependents</th>\n",
       "      <td>No</td>\n",
       "      <td>No</td>\n",
       "      <td>No</td>\n",
       "      <td>No</td>\n",
       "      <td>No</td>\n",
       "    </tr>\n",
       "    <tr>\n",
       "      <th>tenure</th>\n",
       "      <td>1</td>\n",
       "      <td>34</td>\n",
       "      <td>2</td>\n",
       "      <td>45</td>\n",
       "      <td>2</td>\n",
       "    </tr>\n",
       "    <tr>\n",
       "      <th>PhoneService</th>\n",
       "      <td>No</td>\n",
       "      <td>Yes</td>\n",
       "      <td>Yes</td>\n",
       "      <td>No</td>\n",
       "      <td>Yes</td>\n",
       "    </tr>\n",
       "    <tr>\n",
       "      <th>MultipleLines</th>\n",
       "      <td>No phone service</td>\n",
       "      <td>No</td>\n",
       "      <td>No</td>\n",
       "      <td>No phone service</td>\n",
       "      <td>No</td>\n",
       "    </tr>\n",
       "    <tr>\n",
       "      <th>InternetService</th>\n",
       "      <td>DSL</td>\n",
       "      <td>DSL</td>\n",
       "      <td>DSL</td>\n",
       "      <td>DSL</td>\n",
       "      <td>Fiber optic</td>\n",
       "    </tr>\n",
       "    <tr>\n",
       "      <th>OnlineSecurity</th>\n",
       "      <td>No</td>\n",
       "      <td>Yes</td>\n",
       "      <td>Yes</td>\n",
       "      <td>Yes</td>\n",
       "      <td>No</td>\n",
       "    </tr>\n",
       "    <tr>\n",
       "      <th>OnlineBackup</th>\n",
       "      <td>Yes</td>\n",
       "      <td>No</td>\n",
       "      <td>Yes</td>\n",
       "      <td>No</td>\n",
       "      <td>No</td>\n",
       "    </tr>\n",
       "    <tr>\n",
       "      <th>DeviceProtection</th>\n",
       "      <td>No</td>\n",
       "      <td>Yes</td>\n",
       "      <td>No</td>\n",
       "      <td>Yes</td>\n",
       "      <td>No</td>\n",
       "    </tr>\n",
       "    <tr>\n",
       "      <th>TechSupport</th>\n",
       "      <td>No</td>\n",
       "      <td>No</td>\n",
       "      <td>No</td>\n",
       "      <td>Yes</td>\n",
       "      <td>No</td>\n",
       "    </tr>\n",
       "    <tr>\n",
       "      <th>StreamingTV</th>\n",
       "      <td>No</td>\n",
       "      <td>No</td>\n",
       "      <td>No</td>\n",
       "      <td>No</td>\n",
       "      <td>No</td>\n",
       "    </tr>\n",
       "    <tr>\n",
       "      <th>StreamingMovies</th>\n",
       "      <td>No</td>\n",
       "      <td>No</td>\n",
       "      <td>No</td>\n",
       "      <td>No</td>\n",
       "      <td>No</td>\n",
       "    </tr>\n",
       "    <tr>\n",
       "      <th>Contract</th>\n",
       "      <td>Month-to-month</td>\n",
       "      <td>One year</td>\n",
       "      <td>Month-to-month</td>\n",
       "      <td>One year</td>\n",
       "      <td>Month-to-month</td>\n",
       "    </tr>\n",
       "    <tr>\n",
       "      <th>PaperlessBilling</th>\n",
       "      <td>Yes</td>\n",
       "      <td>No</td>\n",
       "      <td>Yes</td>\n",
       "      <td>No</td>\n",
       "      <td>Yes</td>\n",
       "    </tr>\n",
       "    <tr>\n",
       "      <th>PaymentMethod</th>\n",
       "      <td>Electronic check</td>\n",
       "      <td>Mailed check</td>\n",
       "      <td>Mailed check</td>\n",
       "      <td>Bank transfer (automatic)</td>\n",
       "      <td>Electronic check</td>\n",
       "    </tr>\n",
       "    <tr>\n",
       "      <th>MonthlyCharges</th>\n",
       "      <td>29.85</td>\n",
       "      <td>56.95</td>\n",
       "      <td>53.85</td>\n",
       "      <td>42.3</td>\n",
       "      <td>70.7</td>\n",
       "    </tr>\n",
       "    <tr>\n",
       "      <th>TotalCharges</th>\n",
       "      <td>29.85</td>\n",
       "      <td>1889.5</td>\n",
       "      <td>108.15</td>\n",
       "      <td>1840.75</td>\n",
       "      <td>151.65</td>\n",
       "    </tr>\n",
       "    <tr>\n",
       "      <th>Churn</th>\n",
       "      <td>No</td>\n",
       "      <td>No</td>\n",
       "      <td>Yes</td>\n",
       "      <td>No</td>\n",
       "      <td>Yes</td>\n",
       "    </tr>\n",
       "  </tbody>\n",
       "</table>\n",
       "</div>"
      ],
      "text/plain": [
       "                                 0             1               2  \\\n",
       "customerID              7590-VHVEG    5575-GNVDE      3668-QPYBK   \n",
       "gender                      Female          Male            Male   \n",
       "SeniorCitizen                    0             0               0   \n",
       "Partner                        Yes            No              No   \n",
       "Dependents                      No            No              No   \n",
       "tenure                           1            34               2   \n",
       "PhoneService                    No           Yes             Yes   \n",
       "MultipleLines     No phone service            No              No   \n",
       "InternetService                DSL           DSL             DSL   \n",
       "OnlineSecurity                  No           Yes             Yes   \n",
       "OnlineBackup                   Yes            No             Yes   \n",
       "DeviceProtection                No           Yes              No   \n",
       "TechSupport                     No            No              No   \n",
       "StreamingTV                     No            No              No   \n",
       "StreamingMovies                 No            No              No   \n",
       "Contract            Month-to-month      One year  Month-to-month   \n",
       "PaperlessBilling               Yes            No             Yes   \n",
       "PaymentMethod     Electronic check  Mailed check    Mailed check   \n",
       "MonthlyCharges               29.85         56.95           53.85   \n",
       "TotalCharges                 29.85        1889.5          108.15   \n",
       "Churn                           No            No             Yes   \n",
       "\n",
       "                                          3                 4  \n",
       "customerID                       7795-CFOCW        9237-HQITU  \n",
       "gender                                 Male            Female  \n",
       "SeniorCitizen                             0                 0  \n",
       "Partner                                  No                No  \n",
       "Dependents                               No                No  \n",
       "tenure                                   45                 2  \n",
       "PhoneService                             No               Yes  \n",
       "MultipleLines              No phone service                No  \n",
       "InternetService                         DSL       Fiber optic  \n",
       "OnlineSecurity                          Yes                No  \n",
       "OnlineBackup                             No                No  \n",
       "DeviceProtection                        Yes                No  \n",
       "TechSupport                             Yes                No  \n",
       "StreamingTV                              No                No  \n",
       "StreamingMovies                          No                No  \n",
       "Contract                           One year    Month-to-month  \n",
       "PaperlessBilling                         No               Yes  \n",
       "PaymentMethod     Bank transfer (automatic)  Electronic check  \n",
       "MonthlyCharges                         42.3              70.7  \n",
       "TotalCharges                        1840.75            151.65  \n",
       "Churn                                    No               Yes  "
      ]
     },
     "execution_count": 4,
     "metadata": {},
     "output_type": "execute_result"
    }
   ],
   "source": [
    "df.head().T"
   ]
  },
  {
   "cell_type": "markdown",
   "id": "27d6b631",
   "metadata": {},
   "source": [
    "### Data Preparation"
   ]
  },
  {
   "cell_type": "markdown",
   "id": "1db7b7ef",
   "metadata": {},
   "source": [
    "###### Ensure all are in lower case and replaces every spaces with underscore"
   ]
  },
  {
   "cell_type": "code",
   "execution_count": 5,
   "id": "f4b9e92a",
   "metadata": {},
   "outputs": [],
   "source": [
    "df.columns = df.columns.str.lower().str.replace(' ', '_')"
   ]
  },
  {
   "cell_type": "markdown",
   "id": "2794f276",
   "metadata": {},
   "source": [
    "###### Ensure all values in each non-numerical columns are consistent: change to lower case"
   ]
  },
  {
   "cell_type": "code",
   "execution_count": 6,
   "id": "9662373f",
   "metadata": {},
   "outputs": [
    {
     "data": {
      "text/plain": [
       "['customerid',\n",
       " 'gender',\n",
       " 'partner',\n",
       " 'dependents',\n",
       " 'phoneservice',\n",
       " 'multiplelines',\n",
       " 'internetservice',\n",
       " 'onlinesecurity',\n",
       " 'onlinebackup',\n",
       " 'deviceprotection',\n",
       " 'techsupport',\n",
       " 'streamingtv',\n",
       " 'streamingmovies',\n",
       " 'contract',\n",
       " 'paperlessbilling',\n",
       " 'paymentmethod',\n",
       " 'totalcharges',\n",
       " 'churn']"
      ]
     },
     "execution_count": 6,
     "metadata": {},
     "output_type": "execute_result"
    }
   ],
   "source": [
    "strings_col = list(df.dtypes[df.dtypes == 'object'].index)\n",
    "strings_col"
   ]
  },
  {
   "cell_type": "code",
   "execution_count": 7,
   "id": "a34f56b9",
   "metadata": {},
   "outputs": [],
   "source": [
    "# the input of thelambda function is a series when apply function is used on a dataframe\n",
    "df = df.apply(lambda x: x.str.lower() if x.name in strings_col else x)"
   ]
  },
  {
   "cell_type": "code",
   "execution_count": 8,
   "id": "4fd6dc1d",
   "metadata": {},
   "outputs": [
    {
     "data": {
      "text/html": [
       "<div>\n",
       "<style scoped>\n",
       "    .dataframe tbody tr th:only-of-type {\n",
       "        vertical-align: middle;\n",
       "    }\n",
       "\n",
       "    .dataframe tbody tr th {\n",
       "        vertical-align: top;\n",
       "    }\n",
       "\n",
       "    .dataframe thead th {\n",
       "        text-align: right;\n",
       "    }\n",
       "</style>\n",
       "<table border=\"1\" class=\"dataframe\">\n",
       "  <thead>\n",
       "    <tr style=\"text-align: right;\">\n",
       "      <th></th>\n",
       "      <th>0</th>\n",
       "      <th>1</th>\n",
       "    </tr>\n",
       "  </thead>\n",
       "  <tbody>\n",
       "    <tr>\n",
       "      <th>customerid</th>\n",
       "      <td>7590-vhveg</td>\n",
       "      <td>5575-gnvde</td>\n",
       "    </tr>\n",
       "    <tr>\n",
       "      <th>gender</th>\n",
       "      <td>female</td>\n",
       "      <td>male</td>\n",
       "    </tr>\n",
       "    <tr>\n",
       "      <th>seniorcitizen</th>\n",
       "      <td>0</td>\n",
       "      <td>0</td>\n",
       "    </tr>\n",
       "    <tr>\n",
       "      <th>partner</th>\n",
       "      <td>yes</td>\n",
       "      <td>no</td>\n",
       "    </tr>\n",
       "    <tr>\n",
       "      <th>dependents</th>\n",
       "      <td>no</td>\n",
       "      <td>no</td>\n",
       "    </tr>\n",
       "    <tr>\n",
       "      <th>tenure</th>\n",
       "      <td>1</td>\n",
       "      <td>34</td>\n",
       "    </tr>\n",
       "    <tr>\n",
       "      <th>phoneservice</th>\n",
       "      <td>no</td>\n",
       "      <td>yes</td>\n",
       "    </tr>\n",
       "    <tr>\n",
       "      <th>multiplelines</th>\n",
       "      <td>no phone service</td>\n",
       "      <td>no</td>\n",
       "    </tr>\n",
       "    <tr>\n",
       "      <th>internetservice</th>\n",
       "      <td>dsl</td>\n",
       "      <td>dsl</td>\n",
       "    </tr>\n",
       "    <tr>\n",
       "      <th>onlinesecurity</th>\n",
       "      <td>no</td>\n",
       "      <td>yes</td>\n",
       "    </tr>\n",
       "    <tr>\n",
       "      <th>onlinebackup</th>\n",
       "      <td>yes</td>\n",
       "      <td>no</td>\n",
       "    </tr>\n",
       "    <tr>\n",
       "      <th>deviceprotection</th>\n",
       "      <td>no</td>\n",
       "      <td>yes</td>\n",
       "    </tr>\n",
       "    <tr>\n",
       "      <th>techsupport</th>\n",
       "      <td>no</td>\n",
       "      <td>no</td>\n",
       "    </tr>\n",
       "    <tr>\n",
       "      <th>streamingtv</th>\n",
       "      <td>no</td>\n",
       "      <td>no</td>\n",
       "    </tr>\n",
       "    <tr>\n",
       "      <th>streamingmovies</th>\n",
       "      <td>no</td>\n",
       "      <td>no</td>\n",
       "    </tr>\n",
       "    <tr>\n",
       "      <th>contract</th>\n",
       "      <td>month-to-month</td>\n",
       "      <td>one year</td>\n",
       "    </tr>\n",
       "    <tr>\n",
       "      <th>paperlessbilling</th>\n",
       "      <td>yes</td>\n",
       "      <td>no</td>\n",
       "    </tr>\n",
       "    <tr>\n",
       "      <th>paymentmethod</th>\n",
       "      <td>electronic check</td>\n",
       "      <td>mailed check</td>\n",
       "    </tr>\n",
       "    <tr>\n",
       "      <th>monthlycharges</th>\n",
       "      <td>29.85</td>\n",
       "      <td>56.95</td>\n",
       "    </tr>\n",
       "    <tr>\n",
       "      <th>totalcharges</th>\n",
       "      <td>29.85</td>\n",
       "      <td>1889.5</td>\n",
       "    </tr>\n",
       "    <tr>\n",
       "      <th>churn</th>\n",
       "      <td>no</td>\n",
       "      <td>no</td>\n",
       "    </tr>\n",
       "  </tbody>\n",
       "</table>\n",
       "</div>"
      ],
      "text/plain": [
       "                                 0             1\n",
       "customerid              7590-vhveg    5575-gnvde\n",
       "gender                      female          male\n",
       "seniorcitizen                    0             0\n",
       "partner                        yes            no\n",
       "dependents                      no            no\n",
       "tenure                           1            34\n",
       "phoneservice                    no           yes\n",
       "multiplelines     no phone service            no\n",
       "internetservice                dsl           dsl\n",
       "onlinesecurity                  no           yes\n",
       "onlinebackup                   yes            no\n",
       "deviceprotection                no           yes\n",
       "techsupport                     no            no\n",
       "streamingtv                     no            no\n",
       "streamingmovies                 no            no\n",
       "contract            month-to-month      one year\n",
       "paperlessbilling               yes            no\n",
       "paymentmethod     electronic check  mailed check\n",
       "monthlycharges               29.85         56.95\n",
       "totalcharges                 29.85        1889.5\n",
       "churn                           no            no"
      ]
     },
     "execution_count": 8,
     "metadata": {},
     "output_type": "execute_result"
    }
   ],
   "source": [
    "df.head(2).T"
   ]
  },
  {
   "cell_type": "markdown",
   "id": "81af9a4a",
   "metadata": {},
   "source": [
    "###### Data Integrity"
   ]
  },
  {
   "cell_type": "code",
   "execution_count": 9,
   "id": "490a71c5",
   "metadata": {},
   "outputs": [
    {
     "data": {
      "text/plain": [
       "customerid           object\n",
       "gender               object\n",
       "seniorcitizen         int64\n",
       "partner              object\n",
       "dependents           object\n",
       "tenure                int64\n",
       "phoneservice         object\n",
       "multiplelines        object\n",
       "internetservice      object\n",
       "onlinesecurity       object\n",
       "onlinebackup         object\n",
       "deviceprotection     object\n",
       "techsupport          object\n",
       "streamingtv          object\n",
       "streamingmovies      object\n",
       "contract             object\n",
       "paperlessbilling     object\n",
       "paymentmethod        object\n",
       "monthlycharges      float64\n",
       "totalcharges         object\n",
       "churn                object\n",
       "dtype: object"
      ]
     },
     "execution_count": 9,
     "metadata": {},
     "output_type": "execute_result"
    }
   ],
   "source": [
    "df.dtypes"
   ]
  },
  {
   "cell_type": "markdown",
   "id": "380a3840",
   "metadata": {},
   "source": [
    "I couldnt convert the `totalcharges` column to numerical type because some of its values are empty value like ' '"
   ]
  },
  {
   "cell_type": "code",
   "execution_count": 10,
   "id": "8f4accb4",
   "metadata": {},
   "outputs": [],
   "source": [
    "# total charges is an object type but holds numerical values: convert it\n",
    "df['totalcharges'] = pd.to_numeric(df['totalcharges'], errors='coerce')"
   ]
  },
  {
   "cell_type": "code",
   "execution_count": 11,
   "id": "3e0cc211",
   "metadata": {},
   "outputs": [],
   "source": [
    "# fill the missing values with zeroes:\n",
    "df['totalcharges'] = df['totalcharges'].fillna(0)"
   ]
  },
  {
   "cell_type": "markdown",
   "id": "2bda9c18",
   "metadata": {},
   "source": [
    "###### Convert the churn variable to numerical type"
   ]
  },
  {
   "cell_type": "code",
   "execution_count": 12,
   "id": "b498dc55",
   "metadata": {},
   "outputs": [],
   "source": [
    "# let yes be 1\n",
    "df['churn'] = (df['churn'] == 'yes').astype('int')"
   ]
  },
  {
   "cell_type": "markdown",
   "id": "c48ba7e5",
   "metadata": {},
   "source": [
    "### Validation Framework\n",
    "\n",
    "* Split the data into train, validation and test set using scikit-learn"
   ]
  },
  {
   "cell_type": "code",
   "execution_count": 13,
   "id": "14316769",
   "metadata": {},
   "outputs": [],
   "source": [
    "from sklearn.model_selection import train_test_split"
   ]
  },
  {
   "cell_type": "code",
   "execution_count": 14,
   "id": "36352b3f",
   "metadata": {},
   "outputs": [],
   "source": [
    "df_full_train, df_test = train_test_split(df, test_size=0.2, random_state=1)"
   ]
  },
  {
   "cell_type": "code",
   "execution_count": 15,
   "id": "0cffc7d9",
   "metadata": {},
   "outputs": [],
   "source": [
    "# splitting the df_full_train into train and validation set:\n",
    "# the validation set is 20% of the whole dataset, which is 25% of the df_full_train\n",
    "\n",
    "df_train, df_val = train_test_split(df_full_train, test_size=0.25, random_state=1)"
   ]
  },
  {
   "cell_type": "code",
   "execution_count": 16,
   "id": "61e9d07e",
   "metadata": {},
   "outputs": [
    {
     "data": {
      "text/plain": [
       "(4225, 1409, 1409)"
      ]
     },
     "execution_count": 16,
     "metadata": {},
     "output_type": "execute_result"
    }
   ],
   "source": [
    "len(df_train), len(df_val), len(df_test)"
   ]
  },
  {
   "cell_type": "code",
   "execution_count": 17,
   "id": "8f1925cd",
   "metadata": {},
   "outputs": [],
   "source": [
    "# obtain the churn values for train, val and test set\n",
    "y_train = df_train['churn']\n",
    "y_val = df_val['churn']\n",
    "y_test = df_test['churn']"
   ]
  },
  {
   "cell_type": "code",
   "execution_count": 18,
   "id": "001f43ab",
   "metadata": {},
   "outputs": [
    {
     "name": "stderr",
     "output_type": "stream",
     "text": [
      "C:\\Users\\USER\\anaconda3\\lib\\site-packages\\pandas\\core\\frame.py:4308: SettingWithCopyWarning: \n",
      "A value is trying to be set on a copy of a slice from a DataFrame\n",
      "\n",
      "See the caveats in the documentation: https://pandas.pydata.org/pandas-docs/stable/user_guide/indexing.html#returning-a-view-versus-a-copy\n",
      "  return super().drop(\n"
     ]
    }
   ],
   "source": [
    "# delete the churn variables from the train, val and test set set\n",
    "df_train.drop('churn', axis=1, inplace=True)\n",
    "df_val.drop('churn', axis=1, inplace=True)\n",
    "df_test.drop('churn', axis=1, inplace=True)"
   ]
  },
  {
   "cell_type": "markdown",
   "id": "fb3a7f74",
   "metadata": {},
   "source": [
    "### Exploratory Data Analysis\n",
    "* check for missing values\n",
    "* Look at the targte variables (churn)\n",
    "* Look at numerical and categorical variables"
   ]
  },
  {
   "cell_type": "code",
   "execution_count": 19,
   "id": "26343cb8",
   "metadata": {},
   "outputs": [],
   "source": [
    "# using the df_full_train: combination of train and validation set\n",
    "df_full_train = df_full_train.reset_index(drop=True)"
   ]
  },
  {
   "cell_type": "markdown",
   "id": "98701943",
   "metadata": {},
   "source": [
    "###### Check for missing values"
   ]
  },
  {
   "cell_type": "code",
   "execution_count": 20,
   "id": "7e0005be",
   "metadata": {},
   "outputs": [
    {
     "data": {
      "text/plain": [
       "customerid          0\n",
       "gender              0\n",
       "seniorcitizen       0\n",
       "partner             0\n",
       "dependents          0\n",
       "tenure              0\n",
       "phoneservice        0\n",
       "multiplelines       0\n",
       "internetservice     0\n",
       "onlinesecurity      0\n",
       "onlinebackup        0\n",
       "deviceprotection    0\n",
       "techsupport         0\n",
       "streamingtv         0\n",
       "streamingmovies     0\n",
       "contract            0\n",
       "paperlessbilling    0\n",
       "paymentmethod       0\n",
       "monthlycharges      0\n",
       "totalcharges        0\n",
       "churn               0\n",
       "dtype: int64"
      ]
     },
     "execution_count": 20,
     "metadata": {},
     "output_type": "execute_result"
    }
   ],
   "source": [
    "df_full_train.isna().sum()"
   ]
  },
  {
   "cell_type": "markdown",
   "id": "60d5741c",
   "metadata": {},
   "source": [
    "There is nomissing values in the dataset"
   ]
  },
  {
   "cell_type": "markdown",
   "id": "158d50ce",
   "metadata": {},
   "source": [
    "###### Distribution of the churning data"
   ]
  },
  {
   "cell_type": "code",
   "execution_count": 21,
   "id": "4d89773d",
   "metadata": {},
   "outputs": [
    {
     "data": {
      "text/plain": [
       "0    4113\n",
       "1    1521\n",
       "Name: churn, dtype: int64"
      ]
     },
     "execution_count": 21,
     "metadata": {},
     "output_type": "execute_result"
    }
   ],
   "source": [
    "# churn rate\n",
    "churn_count = df_full_train['churn'].value_counts()\n",
    "churn_count"
   ]
  },
  {
   "cell_type": "code",
   "execution_count": 22,
   "id": "95207d94",
   "metadata": {},
   "outputs": [
    {
     "data": {
      "image/png": "[encoded data removed]",
      "text/plain": [
       "<Figure size 432x288 with 1 Axes>"
      ]
     },
     "metadata": {
      "needs_background": "light"
     },
     "output_type": "display_data"
    }
   ],
   "source": [
    "ax = sns.barplot(x=churn_count.index, y=churn_count.values)\n",
    "plt.show()"
   ]
  },
  {
   "cell_type": "markdown",
   "id": "98abc9a1",
   "metadata": {},
   "source": [
    "The numbr of those who churn from the available full training set is: `1521`"
   ]
  },
  {
   "cell_type": "markdown",
   "id": "51b5cfbf",
   "metadata": {},
   "source": [
    "###### Get the numerical and categorical column"
   ]
  },
  {
   "cell_type": "code",
   "execution_count": 23,
   "id": "9842729e",
   "metadata": {},
   "outputs": [
    {
     "data": {
      "text/plain": [
       "customerid           object\n",
       "gender               object\n",
       "seniorcitizen         int64\n",
       "partner              object\n",
       "dependents           object\n",
       "tenure                int64\n",
       "phoneservice         object\n",
       "multiplelines        object\n",
       "internetservice      object\n",
       "onlinesecurity       object\n",
       "onlinebackup         object\n",
       "deviceprotection     object\n",
       "techsupport          object\n",
       "streamingtv          object\n",
       "streamingmovies      object\n",
       "contract             object\n",
       "paperlessbilling     object\n",
       "paymentmethod        object\n",
       "monthlycharges      float64\n",
       "totalcharges        float64\n",
       "churn                 int32\n",
       "dtype: object"
      ]
     },
     "execution_count": 23,
     "metadata": {},
     "output_type": "execute_result"
    }
   ],
   "source": [
    "df_full_train.dtypes"
   ]
  },
  {
   "cell_type": "code",
   "execution_count": 24,
   "id": "6c8a1339",
   "metadata": {},
   "outputs": [
    {
     "data": {
      "text/plain": [
       "Index(['seniorcitizen', 'tenure', 'monthlycharges', 'totalcharges', 'churn'], dtype='object')"
      ]
     },
     "execution_count": 24,
     "metadata": {},
     "output_type": "execute_result"
    }
   ],
   "source": [
    "df_full_train.dtypes[df_full_train.dtypes != 'object'].index"
   ]
  },
  {
   "cell_type": "code",
   "execution_count": 25,
   "id": "28034b71",
   "metadata": {},
   "outputs": [],
   "source": [
    "# copy and paste the result above and remove the unwanted numerical column: \n",
    "# churn is target and seniorcitizen is categorical\n",
    "numerical = ['tenure', 'monthlycharges', 'totalcharges']"
   ]
  },
  {
   "cell_type": "code",
   "execution_count": 26,
   "id": "bde728e0",
   "metadata": {},
   "outputs": [
    {
     "data": {
      "text/plain": [
       "Index(['customerid', 'gender', 'partner', 'dependents', 'phoneservice',\n",
       "       'multiplelines', 'internetservice', 'onlinesecurity', 'onlinebackup',\n",
       "       'deviceprotection', 'techsupport', 'streamingtv', 'streamingmovies',\n",
       "       'contract', 'paperlessbilling', 'paymentmethod'],\n",
       "      dtype='object')"
      ]
     },
     "execution_count": 26,
     "metadata": {},
     "output_type": "execute_result"
    }
   ],
   "source": [
    "df_full_train.dtypes[df_full_train.dtypes == 'object'].index"
   ]
  },
  {
   "cell_type": "code",
   "execution_count": 27,
   "id": "fb4220a5",
   "metadata": {},
   "outputs": [],
   "source": [
    "categorical = ['gender', 'seniorcitizen', 'partner', 'dependents', 'phoneservice',\n",
    "       'multiplelines', 'internetservice', 'onlinesecurity', 'onlinebackup',\n",
    "       'deviceprotection', 'techsupport', 'streamingtv', 'streamingmovies',\n",
    "       'contract', 'paperlessbilling', 'paymentmethod']"
   ]
  },
  {
   "cell_type": "code",
   "execution_count": 28,
   "id": "3624d86f",
   "metadata": {},
   "outputs": [
    {
     "data": {
      "text/plain": [
       "gender              2\n",
       "seniorcitizen       2\n",
       "partner             2\n",
       "dependents          2\n",
       "phoneservice        2\n",
       "multiplelines       3\n",
       "internetservice     3\n",
       "onlinesecurity      3\n",
       "onlinebackup        3\n",
       "deviceprotection    3\n",
       "techsupport         3\n",
       "streamingtv         3\n",
       "streamingmovies     3\n",
       "contract            3\n",
       "paperlessbilling    2\n",
       "paymentmethod       4\n",
       "dtype: int64"
      ]
     },
     "execution_count": 28,
     "metadata": {},
     "output_type": "execute_result"
    }
   ],
   "source": [
    "# unique values in the categorical features\n",
    "df_full_train[categorical].nunique()"
   ]
  },
  {
   "cell_type": "markdown",
   "id": "b36cadc3",
   "metadata": {},
   "source": [
    "### Feature Importance: Categorical variable\n",
    "\n",
    "Which features affect our target variables\n",
    "\n",
    "* Churn Rate\n",
    "* Risk Ratio\n",
    "* Mutual Information "
   ]
  },
  {
   "cell_type": "markdown",
   "id": "cb446fe5",
   "metadata": {},
   "source": [
    "###### Globsl Churn Rate"
   ]
  },
  {
   "cell_type": "code",
   "execution_count": 29,
   "id": "6ca39d72",
   "metadata": {},
   "outputs": [
    {
     "data": {
      "text/plain": [
       "0.27"
      ]
     },
     "execution_count": 29,
     "metadata": {},
     "output_type": "execute_result"
    }
   ],
   "source": [
    "global_churn_rate = round(df_full_train.churn.mean(), 3)\n",
    "global_churn_rate"
   ]
  },
  {
   "cell_type": "markdown",
   "id": "22c394e4",
   "metadata": {},
   "source": [
    "Each customers have 27% chances of churning"
   ]
  },
  {
   "cell_type": "markdown",
   "id": "1ebfe2c5",
   "metadata": {},
   "source": [
    "###### Churn rate wihin each group in each feature"
   ]
  },
  {
   "cell_type": "code",
   "execution_count": 30,
   "id": "ebfebd42",
   "metadata": {},
   "outputs": [
    {
     "name": "stdout",
     "output_type": "stream",
     "text": [
      "******************************\n",
      "gender Churn Rate\n",
      "******************************\n",
      "male: 0.263\n",
      "Difference of churn rate of 'male' category from the global churn rate: 0.007\n",
      "female: 0.277\n",
      "Difference of churn rate of 'female' category from the global churn rate: -0.007\n",
      "\n",
      "******************************\n",
      "seniorcitizen Churn Rate\n",
      "******************************\n",
      "0: 0.242\n",
      "Difference of churn rate of '0' category from the global churn rate: 0.028\n",
      "1: 0.413\n",
      "Difference of churn rate of '1' category from the global churn rate: -0.143\n",
      "\n",
      "******************************\n",
      "partner Churn Rate\n",
      "******************************\n",
      "yes: 0.205\n",
      "Difference of churn rate of 'yes' category from the global churn rate: 0.065\n",
      "no: 0.33\n",
      "Difference of churn rate of 'no' category from the global churn rate: -0.06\n",
      "\n",
      "******************************\n",
      "dependents Churn Rate\n",
      "******************************\n",
      "yes: 0.166\n",
      "Difference of churn rate of 'yes' category from the global churn rate: 0.104\n",
      "no: 0.314\n",
      "Difference of churn rate of 'no' category from the global churn rate: -0.044\n",
      "\n",
      "******************************\n",
      "phoneservice Churn Rate\n",
      "******************************\n",
      "yes: 0.273\n",
      "Difference of churn rate of 'yes' category from the global churn rate: -0.003\n",
      "no: 0.241\n",
      "Difference of churn rate of 'no' category from the global churn rate: 0.029\n",
      "\n",
      "******************************\n",
      "multiplelines Churn Rate\n",
      "******************************\n",
      "no: 0.257\n",
      "Difference of churn rate of 'no' category from the global churn rate: 0.013\n",
      "yes: 0.291\n",
      "Difference of churn rate of 'yes' category from the global churn rate: -0.021\n",
      "no phone service: 0.241\n",
      "Difference of churn rate of 'no phone service' category from the global churn rate: 0.029\n",
      "\n",
      "******************************\n",
      "internetservice Churn Rate\n",
      "******************************\n",
      "no: 0.078\n",
      "Difference of churn rate of 'no' category from the global churn rate: 0.192\n",
      "dsl: 0.192\n",
      "Difference of churn rate of 'dsl' category from the global churn rate: 0.078\n",
      "fiber optic: 0.425\n",
      "Difference of churn rate of 'fiber optic' category from the global churn rate: -0.155\n",
      "\n",
      "******************************\n",
      "onlinesecurity Churn Rate\n",
      "******************************\n",
      "no internet service: 0.078\n",
      "Difference of churn rate of 'no internet service' category from the global churn rate: 0.192\n",
      "yes: 0.153\n",
      "Difference of churn rate of 'yes' category from the global churn rate: 0.117\n",
      "no: 0.421\n",
      "Difference of churn rate of 'no' category from the global churn rate: -0.151\n",
      "\n",
      "******************************\n",
      "onlinebackup Churn Rate\n",
      "******************************\n",
      "no internet service: 0.078\n",
      "Difference of churn rate of 'no internet service' category from the global churn rate: 0.192\n",
      "yes: 0.217\n",
      "Difference of churn rate of 'yes' category from the global churn rate: 0.053\n",
      "no: 0.404\n",
      "Difference of churn rate of 'no' category from the global churn rate: -0.134\n",
      "\n",
      "******************************\n",
      "deviceprotection Churn Rate\n",
      "******************************\n",
      "no internet service: 0.078\n",
      "Difference of churn rate of 'no internet service' category from the global churn rate: 0.192\n",
      "yes: 0.23\n",
      "Difference of churn rate of 'yes' category from the global churn rate: 0.04\n",
      "no: 0.396\n",
      "Difference of churn rate of 'no' category from the global churn rate: -0.126\n",
      "\n",
      "******************************\n",
      "techsupport Churn Rate\n",
      "******************************\n",
      "no internet service: 0.078\n",
      "Difference of churn rate of 'no internet service' category from the global churn rate: 0.192\n",
      "yes: 0.16\n",
      "Difference of churn rate of 'yes' category from the global churn rate: 0.11\n",
      "no: 0.419\n",
      "Difference of churn rate of 'no' category from the global churn rate: -0.149\n",
      "\n",
      "******************************\n",
      "streamingtv Churn Rate\n",
      "******************************\n",
      "no internet service: 0.078\n",
      "Difference of churn rate of 'no internet service' category from the global churn rate: 0.192\n",
      "no: 0.343\n",
      "Difference of churn rate of 'no' category from the global churn rate: -0.073\n",
      "yes: 0.303\n",
      "Difference of churn rate of 'yes' category from the global churn rate: -0.033\n",
      "\n",
      "******************************\n",
      "streamingmovies Churn Rate\n",
      "******************************\n",
      "no internet service: 0.078\n",
      "Difference of churn rate of 'no internet service' category from the global churn rate: 0.192\n",
      "yes: 0.307\n",
      "Difference of churn rate of 'yes' category from the global churn rate: -0.037\n",
      "no: 0.339\n",
      "Difference of churn rate of 'no' category from the global churn rate: -0.069\n",
      "\n",
      "******************************\n",
      "contract Churn Rate\n",
      "******************************\n",
      "two year: 0.028\n",
      "Difference of churn rate of 'two year' category from the global churn rate: 0.242\n",
      "one year: 0.121\n",
      "Difference of churn rate of 'one year' category from the global churn rate: 0.149\n",
      "month-to-month: 0.432\n",
      "Difference of churn rate of 'month-to-month' category from the global churn rate: -0.162\n",
      "\n",
      "******************************\n",
      "paperlessbilling Churn Rate\n",
      "******************************\n",
      "no: 0.172\n",
      "Difference of churn rate of 'no' category from the global churn rate: 0.098\n",
      "yes: 0.338\n",
      "Difference of churn rate of 'yes' category from the global churn rate: -0.068\n",
      "\n",
      "******************************\n",
      "paymentmethod Churn Rate\n",
      "******************************\n",
      "mailed check: 0.194\n",
      "Difference of churn rate of 'mailed check' category from the global churn rate: 0.076\n",
      "credit card (automatic): 0.164\n",
      "Difference of churn rate of 'credit card (automatic)' category from the global churn rate: 0.106\n",
      "bank transfer (automatic): 0.168\n",
      "Difference of churn rate of 'bank transfer (automatic)' category from the global churn rate: 0.102\n",
      "electronic check: 0.456\n",
      "Difference of churn rate of 'electronic check' category from the global churn rate: -0.186\n",
      "\n"
     ]
    }
   ],
   "source": [
    "for cat in categorical:\n",
    "    print('*'*30)\n",
    "    print(f\"{cat} Churn Rate\")\n",
    "    print('*'*30)\n",
    "    for unique in df_full_train[cat].unique():\n",
    "        churn_rate = df_full_train[df_full_train[cat] == unique].churn.mean()\n",
    "        print(f\"{unique}: {round(churn_rate, 3)}\")\n",
    "        print(f\"Difference of churn rate of '{unique}' category from the global churn rate: {round(global_churn_rate - churn_rate, 3)}\")\n",
    "    print(\"\") "
   ]
  },
  {
   "cell_type": "markdown",
   "id": "54713ca5",
   "metadata": {},
   "source": [
    "###### Metrics for Feature Importance*\n",
    "* **Difference:** if `global churn rate` - `group churn rate` < 0, it means the group is more likely to churn.\n",
    "* **Risk Ratio:** if `group churn rate` / `global churn rate` > 1, group is more likely to churn.\n",
    "\n",
    "E.g: People without partner are more likely to churn.\n",
    "\n",
    "The partner feature is more important for predicting churn than the gender variable. Thus is because the difference of the global churn and the partner churn is larger than that of gender churn. Especiafically for those who have partners."
   ]
  },
  {
   "cell_type": "markdown",
   "id": "09e8addc",
   "metadata": {},
   "source": [
    "###### Mutual Information (MI)\n",
    "\n",
    "* MI of two random variables is a measure of the mutual dependence between the two categorical variables. $I(x,y) = H(y) - H(x|y)$ where H stands for entropy.\n",
    "* Higher MI value means more importance\n",
    "* We will use sklearn mutual information metrics to measure the imfortance of features for predicting churn"
   ]
  },
  {
   "cell_type": "code",
   "execution_count": 31,
   "id": "778c25df",
   "metadata": {},
   "outputs": [],
   "source": [
    "from sklearn.metrics import mutual_info_score"
   ]
  },
  {
   "cell_type": "code",
   "execution_count": 32,
   "id": "1fb9b38c",
   "metadata": {},
   "outputs": [
    {
     "data": {
      "text/plain": [
       "contract            0.098320\n",
       "onlinesecurity      0.063085\n",
       "techsupport         0.061032\n",
       "internetservice     0.055868\n",
       "onlinebackup        0.046923\n",
       "deviceprotection    0.043453\n",
       "paymentmethod       0.043210\n",
       "streamingtv         0.031853\n",
       "streamingmovies     0.031581\n",
       "paperlessbilling    0.017589\n",
       "dependents          0.012346\n",
       "partner             0.009968\n",
       "seniorcitizen       0.009410\n",
       "multiplelines       0.000857\n",
       "phoneservice        0.000229\n",
       "gender              0.000117\n",
       "dtype: float64"
      ]
     },
     "execution_count": 32,
     "metadata": {},
     "output_type": "execute_result"
    }
   ],
   "source": [
    "mi = df_full_train[categorical].apply(lambda x: mutual_info_score(df_full_train[x.name], df_full_train.churn))\n",
    "mi.sort_values(ascending=False)"
   ]
  },
  {
   "cell_type": "markdown",
   "id": "b0b3259d",
   "metadata": {},
   "source": [
    "### Feature Improtance: Correlation\n",
    "\n",
    "* Correlations is the metrics for selecting important numerical variables\n",
    "* Correlation coefficient is the measure of dependencies between two variables\n",
    "* Positive correlation: higher the churn rate\n",
    "* Negative correlation: lower the churn rate\n",
    "* Zero correlation: no effect on churn rate"
   ]
  },
  {
   "cell_type": "code",
   "execution_count": 33,
   "id": "6614b7ae",
   "metadata": {},
   "outputs": [
    {
     "data": {
      "text/plain": [
       "tenure           -0.351885\n",
       "monthlycharges    0.196805\n",
       "totalcharges     -0.196353\n",
       "dtype: float64"
      ]
     },
     "execution_count": 33,
     "metadata": {},
     "output_type": "execute_result"
    }
   ],
   "source": [
    "df_full_train[numerical].corrwith(df_full_train.churn)"
   ]
  },
  {
   "cell_type": "markdown",
   "id": "6de776b3",
   "metadata": {},
   "source": [
    "* The higher the `tenure` and `total_charges`, the lower the `churn rate`\n",
    "* The higher the `monthly charges`, the higher the `churn rate`\n",
    "\n",
    "Let's see the different churn rate for different years of tenure"
   ]
  },
  {
   "cell_type": "code",
   "execution_count": 34,
   "id": "344f0d96",
   "metadata": {},
   "outputs": [
    {
     "data": {
      "text/plain": [
       "array([12, 42, 71, 30,  9, 72, 28,  6, 47, 22,  2,  3,  4, 60, 69, 26, 33,\n",
       "        8, 27, 25, 23, 34, 59, 66,  5, 45, 49, 24,  1, 40, 51, 68, 32, 44,\n",
       "       67, 11, 53,  7, 55, 31, 13, 63, 64, 10, 62, 35, 57, 20, 65, 18, 46,\n",
       "       29, 37, 48, 15, 61, 14, 70, 52, 54, 19, 50, 43, 16, 36, 38, 56, 17,\n",
       "       41, 39, 58, 21,  0], dtype=int64)"
      ]
     },
     "execution_count": 34,
     "metadata": {},
     "output_type": "execute_result"
    }
   ],
   "source": [
    "df_full_train['tenure'].unique()"
   ]
  },
  {
   "cell_type": "code",
   "execution_count": 35,
   "id": "04ad8b02",
   "metadata": {},
   "outputs": [
    {
     "data": {
      "text/plain": [
       "0.5479204339963833"
      ]
     },
     "execution_count": 35,
     "metadata": {},
     "output_type": "execute_result"
    }
   ],
   "source": [
    "# those who spent less than 6 years \n",
    "df_full_train[df_full_train['tenure'] < 6].churn.mean()"
   ]
  },
  {
   "cell_type": "code",
   "execution_count": 34,
   "id": "fd7ca71c",
   "metadata": {},
   "outputs": [
    {
     "data": {
      "text/plain": [
       "0.35419847328244275"
      ]
     },
     "execution_count": 34,
     "metadata": {},
     "output_type": "execute_result"
    }
   ],
   "source": [
    "# those who spent more than 5 years and less than 13 years\n",
    "df_full_train[(df_full_train['tenure'] > 5) & (df_full_train['tenure'] < 13)].churn.mean()"
   ]
  },
  {
   "cell_type": "code",
   "execution_count": 35,
   "id": "b884e2be",
   "metadata": {},
   "outputs": [
    {
     "data": {
      "text/plain": [
       "0.17634908339788277"
      ]
     },
     "execution_count": 35,
     "metadata": {},
     "output_type": "execute_result"
    }
   ],
   "source": [
    "# those who spent more than 5 years and less than 13 years\n",
    "df_full_train[df_full_train['tenure'] > 12].churn.mean()"
   ]
  },
  {
   "cell_type": "markdown",
   "id": "dac14984",
   "metadata": {},
   "source": [
    "It can be said that churn rate decreases with time which corresponds with the correlation coefficient above"
   ]
  },
  {
   "cell_type": "markdown",
   "id": "ab13b767",
   "metadata": {},
   "source": [
    "### One-Hot Encoding\n",
    "\n",
    "Using Scikit-Learn to encode the categorical values.\n",
    "* Using DictVectorizer of Scikit-Learn\n",
    "* Even if fit the DictVectorizer with categorical and numerical data, it is smart enough to only encode the categorical variables"
   ]
  },
  {
   "cell_type": "code",
   "execution_count": 36,
   "id": "78603861",
   "metadata": {},
   "outputs": [],
   "source": [
    "from sklearn.feature_extraction import DictVectorizer "
   ]
  },
  {
   "cell_type": "code",
   "execution_count": 51,
   "id": "ef1ec18a",
   "metadata": {},
   "outputs": [
    {
     "data": {
      "text/html": [
       "<div>\n",
       "<style scoped>\n",
       "    .dataframe tbody tr th:only-of-type {\n",
       "        vertical-align: middle;\n",
       "    }\n",
       "\n",
       "    .dataframe tbody tr th {\n",
       "        vertical-align: top;\n",
       "    }\n",
       "\n",
       "    .dataframe thead th {\n",
       "        text-align: right;\n",
       "    }\n",
       "</style>\n",
       "<table border=\"1\" class=\"dataframe\">\n",
       "  <thead>\n",
       "    <tr style=\"text-align: right;\">\n",
       "      <th></th>\n",
       "      <th>Food</th>\n",
       "      <th>Price</th>\n",
       "    </tr>\n",
       "  </thead>\n",
       "  <tbody>\n",
       "    <tr>\n",
       "      <th>0</th>\n",
       "      <td>Rice</td>\n",
       "      <td>400</td>\n",
       "    </tr>\n",
       "    <tr>\n",
       "      <th>1</th>\n",
       "      <td>Beans</td>\n",
       "      <td>500</td>\n",
       "    </tr>\n",
       "  </tbody>\n",
       "</table>\n",
       "</div>"
      ],
      "text/plain": [
       "    Food  Price\n",
       "0   Rice    400\n",
       "1  Beans    500"
      ]
     },
     "execution_count": 51,
     "metadata": {},
     "output_type": "execute_result"
    }
   ],
   "source": [
    "dv_df = pd.DataFrame({'Food':['Rice', 'Beans'], 'Price':[400, 500]})\n",
    "dv_df"
   ]
  },
  {
   "cell_type": "code",
   "execution_count": 53,
   "id": "7073cae7",
   "metadata": {},
   "outputs": [
    {
     "data": {
      "text/plain": [
       "{'Food': {0: 'Rice', 1: 'Beans'}, 'Price': {0: 400, 1: 500}}"
      ]
     },
     "execution_count": 53,
     "metadata": {},
     "output_type": "execute_result"
    }
   ],
   "source": [
    "dv_df.to_dict()"
   ]
  },
  {
   "cell_type": "code",
   "execution_count": 55,
   "id": "9bb61a49",
   "metadata": {},
   "outputs": [
    {
     "data": {
      "text/plain": [
       "[{'Food': 'Rice', 'Price': 400}, {'Food': 'Beans', 'Price': 500}]"
      ]
     },
     "execution_count": 55,
     "metadata": {},
     "output_type": "execute_result"
    }
   ],
   "source": [
    "oriented_dv_df = dv_df.to_dict(orient='records')\n",
    "oriented_dv_df"
   ]
  },
  {
   "cell_type": "code",
   "execution_count": 60,
   "id": "902ed7a6",
   "metadata": {},
   "outputs": [
    {
     "data": {
      "text/plain": [
       "array([[  0.,   1., 400.],\n",
       "       [  1.,   0., 500.]])"
      ]
     },
     "execution_count": 60,
     "metadata": {},
     "output_type": "execute_result"
    }
   ],
   "source": [
    "v = DictVectorizer(sparse=False)\n",
    "D = [{'foo': 1, 'bar': 2}, {'foo': 3, 'baz': 1}]\n",
    "vd = v.fit_transform(oriented_dv_df)\n",
    "vd"
   ]
  },
  {
   "cell_type": "markdown",
   "id": "a4a177ee",
   "metadata": {},
   "source": [
    "**Note:** the categorical values in each record is one hot-encoded by the DictVectorizer "
   ]
  },
  {
   "cell_type": "markdown",
   "id": "02e22904",
   "metadata": {},
   "source": [
    "###### Fit transform the training dataset"
   ]
  },
  {
   "cell_type": "code",
   "execution_count": 61,
   "id": "5222a22e",
   "metadata": {},
   "outputs": [],
   "source": [
    "train_dict = df_train[categorical + numerical].to_dict(orient='records')"
   ]
  },
  {
   "cell_type": "code",
   "execution_count": 62,
   "id": "83fb22a2",
   "metadata": {},
   "outputs": [
    {
     "data": {
      "text/plain": [
       "{'gender': 'female',\n",
       " 'seniorcitizen': 0,\n",
       " 'partner': 'yes',\n",
       " 'dependents': 'yes',\n",
       " 'phoneservice': 'yes',\n",
       " 'multiplelines': 'yes',\n",
       " 'internetservice': 'fiber optic',\n",
       " 'onlinesecurity': 'yes',\n",
       " 'onlinebackup': 'yes',\n",
       " 'deviceprotection': 'yes',\n",
       " 'techsupport': 'yes',\n",
       " 'streamingtv': 'yes',\n",
       " 'streamingmovies': 'yes',\n",
       " 'contract': 'two year',\n",
       " 'paperlessbilling': 'yes',\n",
       " 'paymentmethod': 'electronic check',\n",
       " 'tenure': 72,\n",
       " 'monthlycharges': 115.5,\n",
       " 'totalcharges': 8425.15}"
      ]
     },
     "execution_count": 62,
     "metadata": {},
     "output_type": "execute_result"
    }
   ],
   "source": [
    "train_dict[0]"
   ]
  },
  {
   "cell_type": "code",
   "execution_count": 63,
   "id": "557ed1e3",
   "metadata": {},
   "outputs": [],
   "source": [
    "dv = DictVectorizer(sparse=False) "
   ]
  },
  {
   "cell_type": "code",
   "execution_count": 64,
   "id": "b49d3e3e",
   "metadata": {},
   "outputs": [
    {
     "data": {
      "text/plain": [
       "DictVectorizer(sparse=False)"
      ]
     },
     "execution_count": 64,
     "metadata": {},
     "output_type": "execute_result"
    }
   ],
   "source": [
    "dv.fit(train_dict)"
   ]
  },
  {
   "cell_type": "code",
   "execution_count": 65,
   "id": "203e4719",
   "metadata": {},
   "outputs": [],
   "source": [
    "X_train = dv.transform(train_dict)"
   ]
  },
  {
   "cell_type": "code",
   "execution_count": 66,
   "id": "7c0099c0",
   "metadata": {},
   "outputs": [
    {
     "data": {
      "text/plain": [
       "(4225, 45)"
      ]
     },
     "execution_count": 66,
     "metadata": {},
     "output_type": "execute_result"
    }
   ],
   "source": [
    "# checking the shape of the transformed data\n",
    "X_train.shape"
   ]
  },
  {
   "cell_type": "code",
   "execution_count": 68,
   "id": "9002cffa",
   "metadata": {},
   "outputs": [
    {
     "data": {
      "text/plain": [
       "(4225, 19)"
      ]
     },
     "execution_count": 68,
     "metadata": {},
     "output_type": "execute_result"
    }
   ],
   "source": [
    "# checking the shape of the original data\n",
    "df_train[categorical + numerical].shape"
   ]
  },
  {
   "cell_type": "code",
   "execution_count": null,
   "id": "057f19a1",
   "metadata": {},
   "outputs": [],
   "source": []
  },
  {
   "cell_type": "markdown",
   "id": "4c25dcee",
   "metadata": {},
   "source": [
    "###### Transform the validation set"
   ]
  },
  {
   "cell_type": "code",
   "execution_count": 69,
   "id": "e8c9a9d3",
   "metadata": {},
   "outputs": [],
   "source": [
    "val_dict = df_val[categorical + numerical].to_dict(orient='records')"
   ]
  },
  {
   "cell_type": "code",
   "execution_count": 70,
   "id": "f0c26a8f",
   "metadata": {},
   "outputs": [],
   "source": [
    "X_val = dv.transform(val_dict)"
   ]
  },
  {
   "cell_type": "code",
   "execution_count": 71,
   "id": "142e2ac8",
   "metadata": {},
   "outputs": [
    {
     "data": {
      "text/plain": [
       "(1409, 45)"
      ]
     },
     "execution_count": 71,
     "metadata": {},
     "output_type": "execute_result"
    }
   ],
   "source": [
    "X_val.shape"
   ]
  },
  {
   "cell_type": "markdown",
   "id": "4117ff34",
   "metadata": {},
   "source": [
    "### Logistic Regression\n",
    "\n",
    "* Binary classification\n",
    "* Linear vs Logistic regression"
   ]
  },
  {
   "cell_type": "code",
   "execution_count": 73,
   "id": "38f405eb",
   "metadata": {},
   "outputs": [],
   "source": [
    "def sigmoid(z):\n",
    "    return 1 / (1 + np.exp(-z))"
   ]
  },
  {
   "cell_type": "code",
   "execution_count": 74,
   "id": "f8608995",
   "metadata": {},
   "outputs": [],
   "source": [
    "def logistic_regression(xi):\n",
    "    score = w0\n",
    "    \n",
    "    for j in range(len(w)):\n",
    "        score = score + xi[j] * w[j]\n",
    "        \n",
    "    result = sigmoid(score)\n",
    "    return result "
   ]
  },
  {
   "cell_type": "markdown",
   "id": "00568d77",
   "metadata": {},
   "source": [
    "### Training Logistic Regression with Scikit-Learn\n",
    "  \n",
    "* Train a model\n",
    "* Apply it to validation data\n",
    "* Calculate the accuracy"
   ]
  },
  {
   "cell_type": "code",
   "execution_count": 75,
   "id": "4c103494",
   "metadata": {},
   "outputs": [],
   "source": [
    "from sklearn.linear_model import LogisticRegression"
   ]
  },
  {
   "cell_type": "markdown",
   "id": "b7470b83",
   "metadata": {},
   "source": [
    "###### Train model on the training set"
   ]
  },
  {
   "cell_type": "code",
   "execution_count": 76,
   "id": "7796551d",
   "metadata": {},
   "outputs": [],
   "source": [
    "lr = LogisticRegression()"
   ]
  },
  {
   "cell_type": "code",
   "execution_count": 77,
   "id": "a39ea8e0",
   "metadata": {},
   "outputs": [
    {
     "data": {
      "text/plain": [
       "LogisticRegression()"
      ]
     },
     "execution_count": 77,
     "metadata": {},
     "output_type": "execute_result"
    }
   ],
   "source": [
    "lr.fit(X_train, y_train)"
   ]
  },
  {
   "cell_type": "markdown",
   "id": "d23f4677",
   "metadata": {},
   "source": [
    "###### Predict model on the train set"
   ]
  },
  {
   "cell_type": "code",
   "execution_count": 78,
   "id": "10619911",
   "metadata": {},
   "outputs": [
    {
     "data": {
      "text/plain": [
       "array([[0.90452073, 0.09547927],\n",
       "       [0.32067002, 0.67932998],\n",
       "       [0.36631917, 0.63368083],\n",
       "       [0.28247754, 0.71752246],\n",
       "       [0.95232182, 0.04767818]])"
      ]
     },
     "execution_count": 78,
     "metadata": {},
     "output_type": "execute_result"
    }
   ],
   "source": [
    "# obtain the probability of each class when predicting\n",
    "pred_train = lr.predict_proba(X_train)\n",
    "pred_train[:5]"
   ]
  },
  {
   "cell_type": "markdown",
   "id": "242860f4",
   "metadata": {},
   "source": [
    "* The first column is the probabilty of being negative (0) while the sexond column is the probability of being positive (1).\n",
    "* But we are only interested in the probability of the positive category. "
   ]
  },
  {
   "cell_type": "markdown",
   "id": "d24602e2",
   "metadata": {},
   "source": [
    "###### Predict model on the train set"
   ]
  },
  {
   "cell_type": "code",
   "execution_count": 79,
   "id": "fa7cfe7d",
   "metadata": {},
   "outputs": [],
   "source": [
    "pred_val = lr.predict_proba(X_val)"
   ]
  },
  {
   "cell_type": "code",
   "execution_count": 80,
   "id": "562a422d",
   "metadata": {},
   "outputs": [],
   "source": [
    "pred_val = pred_val[:, 1]"
   ]
  },
  {
   "cell_type": "code",
   "execution_count": 81,
   "id": "64fd5851",
   "metadata": {},
   "outputs": [],
   "source": [
    "val_churn_decision = pred_val >= 0.5"
   ]
  },
  {
   "cell_type": "code",
   "execution_count": 82,
   "id": "148e0612",
   "metadata": {},
   "outputs": [
    {
     "data": {
      "text/plain": [
       "2504    8433-wxgna\n",
       "4597    3440-jpscl\n",
       "2343    2637-fkfsy\n",
       "5591    7228-omtpn\n",
       "4482    6711-fldfb\n",
       "           ...    \n",
       "2611    5976-jcjrh\n",
       "4211    2034-cgrhz\n",
       "3999    5276-kqwhg\n",
       "6240    6521-yytyi\n",
       "5282    3049-solay\n",
       "Name: customerid, Length: 311, dtype: object"
      ]
     },
     "execution_count": 82,
     "metadata": {},
     "output_type": "execute_result"
    }
   ],
   "source": [
    "# the customer IDs of those that will churn\n",
    "df_val[val_churn_decision].customerid"
   ]
  },
  {
   "cell_type": "markdown",
   "id": "7a5ebb72",
   "metadata": {},
   "source": [
    "###### Evaluate the validation prediction"
   ]
  },
  {
   "cell_type": "code",
   "execution_count": 83,
   "id": "02c7bbe3",
   "metadata": {},
   "outputs": [
    {
     "data": {
      "text/plain": [
       "0.8034066713981547"
      ]
     },
     "execution_count": 83,
     "metadata": {},
     "output_type": "execute_result"
    }
   ],
   "source": [
    "# accuracy\n",
    "(y_val == val_churn_decision).mean()"
   ]
  },
  {
   "cell_type": "code",
   "execution_count": 84,
   "id": "57f3be9e",
   "metadata": {},
   "outputs": [],
   "source": [
    "df_pred = pd.DataFrame()"
   ]
  },
  {
   "cell_type": "code",
   "execution_count": 86,
   "id": "8e1f7854",
   "metadata": {},
   "outputs": [],
   "source": [
    "df_pred['Churn_Prob.'] = pred_val\n",
    "df_pred['Actual'] = y_val.values\n",
    "df_pred['Predicted'] = val_churn_decision.astype('int')\n",
    "df_pred['Correct_pred.'] = df_pred['Actual'] == df_pred['Predicted'] "
   ]
  },
  {
   "cell_type": "code",
   "execution_count": 87,
   "id": "87c52f23",
   "metadata": {},
   "outputs": [
    {
     "data": {
      "text/html": [
       "<div>\n",
       "<style scoped>\n",
       "    .dataframe tbody tr th:only-of-type {\n",
       "        vertical-align: middle;\n",
       "    }\n",
       "\n",
       "    .dataframe tbody tr th {\n",
       "        vertical-align: top;\n",
       "    }\n",
       "\n",
       "    .dataframe thead th {\n",
       "        text-align: right;\n",
       "    }\n",
       "</style>\n",
       "<table border=\"1\" class=\"dataframe\">\n",
       "  <thead>\n",
       "    <tr style=\"text-align: right;\">\n",
       "      <th></th>\n",
       "      <th>Churn_Prob.</th>\n",
       "      <th>Actual</th>\n",
       "      <th>Predicted</th>\n",
       "      <th>Correct_pred.</th>\n",
       "    </tr>\n",
       "  </thead>\n",
       "  <tbody>\n",
       "    <tr>\n",
       "      <th>0</th>\n",
       "      <td>0.008997</td>\n",
       "      <td>0</td>\n",
       "      <td>0</td>\n",
       "      <td>True</td>\n",
       "    </tr>\n",
       "    <tr>\n",
       "      <th>1</th>\n",
       "      <td>0.204511</td>\n",
       "      <td>0</td>\n",
       "      <td>0</td>\n",
       "      <td>True</td>\n",
       "    </tr>\n",
       "    <tr>\n",
       "      <th>2</th>\n",
       "      <td>0.212212</td>\n",
       "      <td>0</td>\n",
       "      <td>0</td>\n",
       "      <td>True</td>\n",
       "    </tr>\n",
       "    <tr>\n",
       "      <th>3</th>\n",
       "      <td>0.543050</td>\n",
       "      <td>1</td>\n",
       "      <td>1</td>\n",
       "      <td>True</td>\n",
       "    </tr>\n",
       "    <tr>\n",
       "      <th>4</th>\n",
       "      <td>0.213776</td>\n",
       "      <td>0</td>\n",
       "      <td>0</td>\n",
       "      <td>True</td>\n",
       "    </tr>\n",
       "    <tr>\n",
       "      <th>...</th>\n",
       "      <td>...</td>\n",
       "      <td>...</td>\n",
       "      <td>...</td>\n",
       "      <td>...</td>\n",
       "    </tr>\n",
       "    <tr>\n",
       "      <th>1404</th>\n",
       "      <td>0.313665</td>\n",
       "      <td>0</td>\n",
       "      <td>0</td>\n",
       "      <td>True</td>\n",
       "    </tr>\n",
       "    <tr>\n",
       "      <th>1405</th>\n",
       "      <td>0.039358</td>\n",
       "      <td>1</td>\n",
       "      <td>0</td>\n",
       "      <td>False</td>\n",
       "    </tr>\n",
       "    <tr>\n",
       "      <th>1406</th>\n",
       "      <td>0.136388</td>\n",
       "      <td>0</td>\n",
       "      <td>0</td>\n",
       "      <td>True</td>\n",
       "    </tr>\n",
       "    <tr>\n",
       "      <th>1407</th>\n",
       "      <td>0.799769</td>\n",
       "      <td>1</td>\n",
       "      <td>1</td>\n",
       "      <td>True</td>\n",
       "    </tr>\n",
       "    <tr>\n",
       "      <th>1408</th>\n",
       "      <td>0.837406</td>\n",
       "      <td>1</td>\n",
       "      <td>1</td>\n",
       "      <td>True</td>\n",
       "    </tr>\n",
       "  </tbody>\n",
       "</table>\n",
       "<p>1409 rows × 4 columns</p>\n",
       "</div>"
      ],
      "text/plain": [
       "      Churn_Prob.  Actual  Predicted  Correct_pred.\n",
       "0        0.008997       0          0           True\n",
       "1        0.204511       0          0           True\n",
       "2        0.212212       0          0           True\n",
       "3        0.543050       1          1           True\n",
       "4        0.213776       0          0           True\n",
       "...           ...     ...        ...            ...\n",
       "1404     0.313665       0          0           True\n",
       "1405     0.039358       1          0          False\n",
       "1406     0.136388       0          0           True\n",
       "1407     0.799769       1          1           True\n",
       "1408     0.837406       1          1           True\n",
       "\n",
       "[1409 rows x 4 columns]"
      ]
     },
     "execution_count": 87,
     "metadata": {},
     "output_type": "execute_result"
    }
   ],
   "source": [
    "df_pred"
   ]
  },
  {
   "cell_type": "markdown",
   "id": "bea7ebb1",
   "metadata": {},
   "source": [
    "### Model Interpretation\n",
    "\n",
    "* Look at the weights of the features\n",
    "* Train a smaller model with fewer features"
   ]
  },
  {
   "cell_type": "markdown",
   "id": "bd118e38",
   "metadata": {},
   "source": [
    "#### Interpreting Regression Coefficient and P-Value\n",
    "\n",
    "* The **coefficients** tells relationship between the dependent vatiable and independent variables.\n",
    "* **P-value** indicates whether the relationship are statistically significance. I.e if the relationship that exist in a sample can still exist in a larger population.\n",
    "* **P-value** test the null hypothesis.\n",
    "* The **null hypothesis** states that there is no relationship between the dependent and independent variable.\n",
    "* **Statistical Significance:** the likelyhood that observation in sampled data is due to chance.\n",
    "* **Sampling Error:** error due to the fact that we are using sampled data rather than population data.\n",
    "* **P-value** is used for measuring significance. It's the probability that our finding is due to sampling error and it must be less than significance level (0.05) and so we are 95% sure our finding is not due is not due Which is the confidence level.\n",
    "* if **p-value < significance-level**, we will fail to accept the null hypothesis. Meaning there exist a relationship between the variables in a larger population and this variable (with lower p-value) is said to be statistically significant and it is to be included in the regression model.\n",
    "* if **p-value > significance-level**, accept the null hypothesis. Meaning that there is no sufficient evidence to conclude that a relationship exist in a larger population. \n",
    "* **Positive Coefficient:** as independent variable increases/decreases, dependent variable also increases/decreases.\n",
    "* **Negative Coefficient:** as independent variable increases, dependent variable also decreases and vice-versa.\n",
    "* **Coefficient Value:** this indicates a mean change in the dependent variable given a one-unit change in the independent variable given all other variables are constant. Example: Height is in meter (m) and its coefficient as an indendent variable to weight is 106. If height increases by 1m then weight will increase by 106.  "
   ]
  },
  {
   "cell_type": "markdown",
   "id": "3b8d07e6",
   "metadata": {},
   "source": [
    "#### Effect Size\n",
    "This the degree of the relationship that exist between the dependent variable and independent variable.\n",
    "\n",
    "The following are the method for measuring this effect:\n",
    "\n",
    "* **Pearson Correlation Coefficient (r):** values ranges betweeb -1 and 1. 0 means no correlation. Values close to +1 means the variables are moving in the same direction and values closer to -1 means the variables are moving in opposite direction.\n",
    "* **R-Squered**: This tells us the variability of correlation. It is the proportion of total variance our model explains."
   ]
  },
  {
   "cell_type": "code",
   "execution_count": 1,
   "id": "99603415",
   "metadata": {},
   "outputs": [
    {
     "ename": "NameError",
     "evalue": "name 'lr' is not defined",
     "output_type": "error",
     "traceback": [
      "\u001b[1;31m---------------------------------------------------------------------------\u001b[0m",
      "\u001b[1;31mNameError\u001b[0m                                 Traceback (most recent call last)",
      "\u001b[1;32m<ipython-input-1-4fecb702b9d5>\u001b[0m in \u001b[0;36m<module>\u001b[1;34m\u001b[0m\n\u001b[1;32m----> 1\u001b[1;33m \u001b[0mlr\u001b[0m\u001b[1;33m.\u001b[0m\u001b[0mcoef_\u001b[0m\u001b[1;33m\u001b[0m\u001b[1;33m\u001b[0m\u001b[0m\n\u001b[0m",
      "\u001b[1;31mNameError\u001b[0m: name 'lr' is not defined"
     ]
    }
   ],
   "source": [
    "lr.coef_"
   ]
  },
  {
   "cell_type": "code",
   "execution_count": 92,
   "id": "58288ea0",
   "metadata": {},
   "outputs": [],
   "source": [
    "features_coef = dict(zip(dv.get_feature_names(), lr.coef_[0].round(3)))"
   ]
  },
  {
   "cell_type": "code",
   "execution_count": 93,
   "id": "1a41757f",
   "metadata": {},
   "outputs": [
    {
     "data": {
      "text/plain": [
       "{'contract=month-to-month': 0.475,\n",
       " 'contract=one year': -0.175,\n",
       " 'contract=two year': -0.408,\n",
       " 'dependents=no': -0.03,\n",
       " 'dependents=yes': -0.078,\n",
       " 'deviceprotection=no': 0.063,\n",
       " 'deviceprotection=no internet service': -0.089,\n",
       " 'deviceprotection=yes': -0.081,\n",
       " 'gender=female': -0.034,\n",
       " 'gender=male': -0.073,\n",
       " 'internetservice=dsl': -0.335,\n",
       " 'internetservice=fiber optic': 0.316,\n",
       " 'internetservice=no': -0.089,\n",
       " 'monthlycharges': 0.004,\n",
       " 'multiplelines=no': -0.258,\n",
       " 'multiplelines=no phone service': 0.141,\n",
       " 'multiplelines=yes': 0.009,\n",
       " 'onlinebackup=no': 0.063,\n",
       " 'onlinebackup=no internet service': -0.089,\n",
       " 'onlinebackup=yes': -0.081,\n",
       " 'onlinesecurity=no': 0.266,\n",
       " 'onlinesecurity=no internet service': -0.089,\n",
       " 'onlinesecurity=yes': -0.284,\n",
       " 'paperlessbilling=no': -0.231,\n",
       " 'paperlessbilling=yes': 0.124,\n",
       " 'partner=no': -0.166,\n",
       " 'partner=yes': 0.058,\n",
       " 'paymentmethod=bank transfer (automatic)': -0.087,\n",
       " 'paymentmethod=credit card (automatic)': -0.032,\n",
       " 'paymentmethod=electronic check': 0.07,\n",
       " 'paymentmethod=mailed check': -0.059,\n",
       " 'phoneservice=no': 0.141,\n",
       " 'phoneservice=yes': -0.249,\n",
       " 'seniorcitizen': 0.215,\n",
       " 'streamingmovies=no': -0.12,\n",
       " 'streamingmovies=no internet service': -0.089,\n",
       " 'streamingmovies=yes': 0.102,\n",
       " 'streamingtv=no': -0.071,\n",
       " 'streamingtv=no internet service': -0.089,\n",
       " 'streamingtv=yes': 0.052,\n",
       " 'techsupport=no': 0.213,\n",
       " 'techsupport=no internet service': -0.089,\n",
       " 'techsupport=yes': -0.232,\n",
       " 'tenure': -0.07,\n",
       " 'totalcharges': 0.0}"
      ]
     },
     "execution_count": 93,
     "metadata": {},
     "output_type": "execute_result"
    }
   ],
   "source": [
    "features_coef"
   ]
  },
  {
   "cell_type": "markdown",
   "id": "ae5cf15a",
   "metadata": {},
   "source": [
    "###### Smaller Model"
   ]
  },
  {
   "cell_type": "code",
   "execution_count": 111,
   "id": "bcd55823",
   "metadata": {},
   "outputs": [],
   "source": [
    "small = ['contract', 'tenure', 'monthlycharges']"
   ]
  },
  {
   "cell_type": "code",
   "execution_count": 112,
   "id": "2ff44177",
   "metadata": {},
   "outputs": [],
   "source": [
    "train_small = df_train[small].to_dict(orient='records')\n",
    "val_small = df_val[small].to_dict(orient='records')"
   ]
  },
  {
   "cell_type": "code",
   "execution_count": 113,
   "id": "62a4253f",
   "metadata": {},
   "outputs": [],
   "source": [
    "# sencode the data\n",
    "dv_small = DictVectorizer(sparse=False)"
   ]
  },
  {
   "cell_type": "code",
   "execution_count": 114,
   "id": "7655f8d4",
   "metadata": {},
   "outputs": [],
   "source": [
    "X_train_small = dv_small.fit_transform(train_small)\n",
    "X_val_small = dv_small.transform(val_small)"
   ]
  },
  {
   "cell_type": "code",
   "execution_count": 115,
   "id": "a7860771",
   "metadata": {},
   "outputs": [
    {
     "data": {
      "text/plain": [
       "LogisticRegression()"
      ]
     },
     "execution_count": 115,
     "metadata": {},
     "output_type": "execute_result"
    }
   ],
   "source": [
    "# create model object\n",
    "lr_small  = LogisticRegression()\n",
    "lr.fit(X_train_small, y_train)"
   ]
  },
  {
   "cell_type": "code",
   "execution_count": 116,
   "id": "0530fd2b",
   "metadata": {},
   "outputs": [
    {
     "name": "stdout",
     "output_type": "stream",
     "text": [
      "[-2.47677566]\n"
     ]
    },
    {
     "data": {
      "text/plain": [
       "array([[ 0.97 , -0.025, -0.949,  0.027, -0.036]])"
      ]
     },
     "execution_count": 116,
     "metadata": {},
     "output_type": "execute_result"
    }
   ],
   "source": [
    "w0 = lr.intercept_\n",
    "print(w0)\n",
    "w = lr.coef_\n",
    "w.round(3)"
   ]
  },
  {
   "cell_type": "code",
   "execution_count": 117,
   "id": "2a5e3102",
   "metadata": {},
   "outputs": [
    {
     "data": {
      "text/plain": [
       "{'contract=month-to-month': 0.97,\n",
       " 'contract=one year': -0.025,\n",
       " 'contract=two year': -0.949,\n",
       " 'dependents=no': 0.027,\n",
       " 'dependents=yes': -0.036}"
      ]
     },
     "execution_count": 117,
     "metadata": {},
     "output_type": "execute_result"
    }
   ],
   "source": [
    "features_coef_small = dict(zip(dv.get_feature_names(), lr.coef_[0].round(3)))\n",
    "features_coef_small "
   ]
  },
  {
   "cell_type": "markdown",
   "id": "2e1dbbd5",
   "metadata": {},
   "source": [
    "### Using The Model"
   ]
  },
  {
   "cell_type": "markdown",
   "id": "adda257e",
   "metadata": {},
   "source": [
    "###### Train the full train set"
   ]
  },
  {
   "cell_type": "code",
   "execution_count": 118,
   "id": "81f95ba8",
   "metadata": {},
   "outputs": [],
   "source": [
    "dict_full_train = df_full_train[categorical + numerical].to_dict(orient='records')\n",
    "dict_test = df_test[categorical + numerical].to_dict(orient='records')"
   ]
  },
  {
   "cell_type": "code",
   "execution_count": 119,
   "id": "155412f3",
   "metadata": {},
   "outputs": [],
   "source": [
    "dv_full = DictVectorizer(sparse=False)"
   ]
  },
  {
   "cell_type": "code",
   "execution_count": 120,
   "id": "4fe6bcce",
   "metadata": {},
   "outputs": [],
   "source": [
    "# fit and transform the fulltraining set\n",
    "X_full_train = dv_full.fit_transform(dict_full_train)\n",
    "\n",
    "# only tranform the test set\n",
    "X_test = dv_full.transform(dict_test)"
   ]
  },
  {
   "cell_type": "code",
   "execution_count": 121,
   "id": "6d7a4c85",
   "metadata": {},
   "outputs": [],
   "source": [
    "# obtain the target variable (churn) \n",
    "y_full_train = df_full_train.churn"
   ]
  },
  {
   "cell_type": "code",
   "execution_count": 122,
   "id": "11f140dd",
   "metadata": {},
   "outputs": [
    {
     "data": {
      "text/plain": [
       "LogisticRegression()"
      ]
     },
     "execution_count": 122,
     "metadata": {},
     "output_type": "execute_result"
    }
   ],
   "source": [
    "# create the logitiv regression object\n",
    "lr_full = LogisticRegression()\n",
    "\n",
    "# fit the model on the training examples \n",
    "lr_full.fit(X_full_train, y_full_train)"
   ]
  },
  {
   "cell_type": "code",
   "execution_count": 123,
   "id": "a50e7876",
   "metadata": {},
   "outputs": [],
   "source": [
    "pred_test = lr_full.predict_proba(X_test)[:, 1]"
   ]
  },
  {
   "cell_type": "code",
   "execution_count": 124,
   "id": "0a8a72ce",
   "metadata": {},
   "outputs": [],
   "source": [
    "full_churn_decision = pred_test >= 0.5"
   ]
  },
  {
   "cell_type": "code",
   "execution_count": 125,
   "id": "2bebc1eb",
   "metadata": {},
   "outputs": [
    {
     "data": {
      "text/plain": [
       "0.815471965933286"
      ]
     },
     "execution_count": 125,
     "metadata": {},
     "output_type": "execute_result"
    }
   ],
   "source": [
    "# evaluate the accuracy of model\n",
    "(full_churn_decision == y_test).mean()"
   ]
  },
  {
   "cell_type": "markdown",
   "id": "e7661f21",
   "metadata": {},
   "source": [
    "From the above, there is no much difference between the validation error `(0.80341)` and the test error `(0.815472)`"
   ]
  },
  {
   "cell_type": "markdown",
   "id": "efc5f118",
   "metadata": {},
   "source": [
    "###### Using the model to make prediction"
   ]
  },
  {
   "cell_type": "code",
   "execution_count": 126,
   "id": "f85bed31",
   "metadata": {},
   "outputs": [],
   "source": [
    "# predict the 10th obbservation from the test data set\n",
    "customer = dict_test[10]"
   ]
  },
  {
   "cell_type": "code",
   "execution_count": 127,
   "id": "b271275a",
   "metadata": {},
   "outputs": [],
   "source": [
    "# transform the customer data to one hot encode it\n",
    "X_customer = dv_full.transform(customer)"
   ]
  },
  {
   "cell_type": "code",
   "execution_count": 128,
   "id": "7839dc50",
   "metadata": {},
   "outputs": [
    {
     "data": {
      "text/plain": [
       "(1, 45)"
      ]
     },
     "execution_count": 128,
     "metadata": {},
     "output_type": "execute_result"
    }
   ],
   "source": [
    "X_customer.shape"
   ]
  },
  {
   "cell_type": "code",
   "execution_count": 129,
   "id": "7daa2c3b",
   "metadata": {},
   "outputs": [],
   "source": [
    "# make prediction of the probability of the custormer churning\n",
    "customer_pred = lr_full.predict_proba(X_customer)"
   ]
  },
  {
   "cell_type": "code",
   "execution_count": 130,
   "id": "5ac4bf33",
   "metadata": {},
   "outputs": [
    {
     "data": {
      "text/plain": [
       "array([[0.5943189, 0.4056811]])"
      ]
     },
     "execution_count": 130,
     "metadata": {},
     "output_type": "execute_result"
    }
   ],
   "source": [
    "customer_pred"
   ]
  },
  {
   "cell_type": "markdown",
   "id": "36a2a18d",
   "metadata": {},
   "source": [
    "Since the churn probability value is less than 0.5 (threshold above which customer will churn), we can say that this customer will not churn."
   ]
  },
  {
   "cell_type": "code",
   "execution_count": 131,
   "id": "fd3f4089",
   "metadata": {},
   "outputs": [
    {
     "data": {
      "text/plain": [
       "array([0])"
      ]
     },
     "execution_count": 131,
     "metadata": {},
     "output_type": "execute_result"
    }
   ],
   "source": [
    "lr_full.predict(X_customer)"
   ]
  },
  {
   "cell_type": "code",
   "execution_count": 132,
   "id": "37ca3aeb",
   "metadata": {},
   "outputs": [
    {
     "data": {
      "text/plain": [
       "0"
      ]
     },
     "execution_count": 132,
     "metadata": {},
     "output_type": "execute_result"
    }
   ],
   "source": [
    "# lets observe the actual value\n",
    "y_test.reset_index(drop=True)[10]"
   ]
  },
  {
   "cell_type": "markdown",
   "id": "6fc8b71c",
   "metadata": {},
   "source": [
    "We predicted that the customer will not churn and in truth, the customer did not churn."
   ]
  },
  {
   "cell_type": "markdown",
   "id": "ddbb07b0",
   "metadata": {},
   "source": [
    "### Accuracy and Dummy Model\n",
    "\n",
    "**Accuracy:** accuracy of churned customers is the fraction of the number correctly predicted churned customers to the whole number of customers in the set\n",
    "\n",
    "* Evaluate the model on different threshold.\n",
    "* Check the accuracy of dummy baselines."
   ]
  },
  {
   "cell_type": "markdown",
   "id": "dd15ee66",
   "metadata": {},
   "source": [
    "###### Try multiple threshold: for the validation set using sklearn to calculate the accuracy"
   ]
  },
  {
   "cell_type": "code",
   "execution_count": 133,
   "id": "410d799c",
   "metadata": {},
   "outputs": [],
   "source": [
    "from sklearn.metrics import accuracy_score"
   ]
  },
  {
   "cell_type": "code",
   "execution_count": 163,
   "id": "6edb1a4a",
   "metadata": {},
   "outputs": [
    {
     "name": "stdout",
     "output_type": "stream",
     "text": [
      "Best Threshold: 0.5\n",
      "Accuracy: 0.803\n",
      "\n"
     ]
    },
    {
     "data": {
      "text/plain": [
       "{0.0: 0.274,\n",
       " 0.05: 0.509,\n",
       " 0.1: 0.591,\n",
       " 0.15: 0.666,\n",
       " 0.2: 0.71,\n",
       " 0.25: 0.739,\n",
       " 0.3: 0.76,\n",
       " 0.35: 0.772,\n",
       " 0.4: 0.785,\n",
       " 0.45: 0.793,\n",
       " 0.5: 0.803,\n",
       " 0.55: 0.801,\n",
       " 0.6: 0.795,\n",
       " 0.65: 0.786,\n",
       " 0.7: 0.766,\n",
       " 0.75: 0.744,\n",
       " 0.8: 0.735,\n",
       " 0.85: 0.726,\n",
       " 0.9: 0.726,\n",
       " 0.95: 0.726,\n",
       " 1.0: 0.726}"
      ]
     },
     "execution_count": 163,
     "metadata": {},
     "output_type": "execute_result"
    }
   ],
   "source": [
    "# creating a dummy model\n",
    "\n",
    "threshold = np.linspace(0, 1, 21)\n",
    "threshold_accuracy = {}\n",
    "\n",
    "for t in threshold:\n",
    "    val_churn_decision = pred_val >= t\n",
    "    accr = accuracy_score(y_val, val_churn_decision)\n",
    "    threshold_accuracy[round(t, 2)] = round(accr, 3)\n",
    "        \n",
    "best_threshold = sorted(threshold_accuracy.items(), key=lambda x: x[1], reverse=True)\n",
    "print(f\"Best Threshold: {best_threshold[0][0]}\\nAccuracy: {best_threshold[0][1]}\")\n",
    "print()\n",
    "t_accuracy"
   ]
  },
  {
   "cell_type": "code",
   "execution_count": 166,
   "id": "cb28fb41",
   "metadata": {},
   "outputs": [
    {
     "data": {
      "image/png": "[encoded data removed]",
      "text/plain": [
       "<Figure size 432x288 with 1 Axes>"
      ]
     },
     "metadata": {
      "needs_background": "light"
     },
     "output_type": "display_data"
    }
   ],
   "source": [
    "plt.plot(threshold, threshold_accuracy.values())\n",
    "plt.ylabel(\"Accuracy\")\n",
    "plt.xlabel(\"Threshold\")\n",
    "plt.show()"
   ]
  },
  {
   "cell_type": "markdown",
   "id": "b8f0508d",
   "metadata": {},
   "source": [
    "**Observations:** \n",
    "* From the `thresh_hold` dicitonary above, when threshold is 1.0, accuracy is 0.73 and in reality, no probabability value is greater than 1. Therefore, 0.73 is the fraction of those who are actually not churning and there is no fraction of those who are churning.\n",
    "* This accuracy is quite good as the accuracy of churn (0.803) from our model.\n",
    "* This is as a result of class imbalance (fracton of those who churn is 0.27).\n",
    "* Class imbalance mean we have a lot more customers who are not churning than those who are churning.\n",
    "* In a case where there is class imbalance, accuracy is not a good metrics for evaluating the model.\n",
    "\n",
    "**Note:** <span style=\"color: red\">this is the main reason accuracy is not the best metric to use for this case. It does not tell us how good the model is.</span>"
   ]
  },
  {
   "cell_type": "markdown",
   "id": "03723a7b",
   "metadata": {},
   "source": [
    "### Confusion Model\n",
    "\n",
    "Confusion model tells us about the accuracy accross different classes/categories\n",
    "* Different types of error and decision \n",
    "* Arranging them in table"
   ]
  },
  {
   "cell_type": "code",
   "execution_count": 177,
   "id": "d12d145f",
   "metadata": {},
   "outputs": [],
   "source": [
    "# threshold\n",
    "t = 0.5"
   ]
  },
  {
   "cell_type": "code",
   "execution_count": 172,
   "id": "855ba981",
   "metadata": {},
   "outputs": [],
   "source": [
    "# actual: let positive=churn and negative=not churn\n",
    "actual_positive = y_val == 1\n",
    "actual_negative = y_val == 0"
   ]
  },
  {
   "cell_type": "code",
   "execution_count": 178,
   "id": "f91cc475",
   "metadata": {},
   "outputs": [],
   "source": [
    "# predicted\n",
    "pred_positive = pred_val >= t \n",
    "pred_negative = pred_val < t"
   ]
  },
  {
   "cell_type": "code",
   "execution_count": 179,
   "id": "1b0a64fd",
   "metadata": {},
   "outputs": [
    {
     "data": {
      "text/plain": [
       "210"
      ]
     },
     "execution_count": 179,
     "metadata": {},
     "output_type": "execute_result"
    }
   ],
   "source": [
    "# true positive\n",
    "tp = sum(actual_positive & pred_positive)\n",
    "tp"
   ]
  },
  {
   "cell_type": "code",
   "execution_count": 181,
   "id": "01a42f27",
   "metadata": {},
   "outputs": [
    {
     "data": {
      "text/plain": [
       "922"
      ]
     },
     "execution_count": 181,
     "metadata": {},
     "output_type": "execute_result"
    }
   ],
   "source": [
    "# true negative\n",
    "tn = sum(actual_negative & pred_negative)\n",
    "tn"
   ]
  },
  {
   "cell_type": "code",
   "execution_count": 183,
   "id": "d3bcb85b",
   "metadata": {},
   "outputs": [
    {
     "data": {
      "text/plain": [
       "(101, 176)"
      ]
     },
     "execution_count": 183,
     "metadata": {},
     "output_type": "execute_result"
    }
   ],
   "source": [
    "# false positive and false negative\n",
    "fp = sum(pred_positive & actual_negative)\n",
    "fn = sum(pred_negative & actual_positive)\n",
    "fp, fn"
   ]
  },
  {
   "cell_type": "markdown",
   "id": "772534fb",
   "metadata": {},
   "source": [
    "###### Confusion Matrix"
   ]
  },
  {
   "cell_type": "code",
   "execution_count": 187,
   "id": "ad9bd8a9",
   "metadata": {},
   "outputs": [],
   "source": [
    "confusion_matrix = np.array([[tn, fp],\n",
    "                             [fn, tp]\n",
    "                            ])"
   ]
  },
  {
   "cell_type": "code",
   "execution_count": 188,
   "id": "610489c1",
   "metadata": {},
   "outputs": [
    {
     "data": {
      "text/plain": [
       "array([[922, 101],\n",
       "       [176, 210]])"
      ]
     },
     "execution_count": 188,
     "metadata": {},
     "output_type": "execute_result"
    }
   ],
   "source": [
    "confusion_matrix"
   ]
  },
  {
   "cell_type": "code",
   "execution_count": 195,
   "id": "657eabe4",
   "metadata": {},
   "outputs": [],
   "source": [
    "df_confusion_matrix = pd.DataFrame(confusion_matrix)\n",
    "df_confusion_matrix.columns = ['predicted_neg', 'predicted_pos']\n",
    "df_confusion_matrix.index = ['actual_neg', 'actual_pos']"
   ]
  },
  {
   "cell_type": "code",
   "execution_count": 196,
   "id": "60ae2909",
   "metadata": {},
   "outputs": [
    {
     "data": {
      "text/html": [
       "<div>\n",
       "<style scoped>\n",
       "    .dataframe tbody tr th:only-of-type {\n",
       "        vertical-align: middle;\n",
       "    }\n",
       "\n",
       "    .dataframe tbody tr th {\n",
       "        vertical-align: top;\n",
       "    }\n",
       "\n",
       "    .dataframe thead th {\n",
       "        text-align: right;\n",
       "    }\n",
       "</style>\n",
       "<table border=\"1\" class=\"dataframe\">\n",
       "  <thead>\n",
       "    <tr style=\"text-align: right;\">\n",
       "      <th></th>\n",
       "      <th>predicted_neg</th>\n",
       "      <th>predicted_pos</th>\n",
       "    </tr>\n",
       "  </thead>\n",
       "  <tbody>\n",
       "    <tr>\n",
       "      <th>actual_neg</th>\n",
       "      <td>922</td>\n",
       "      <td>101</td>\n",
       "    </tr>\n",
       "    <tr>\n",
       "      <th>actual_pos</th>\n",
       "      <td>176</td>\n",
       "      <td>210</td>\n",
       "    </tr>\n",
       "  </tbody>\n",
       "</table>\n",
       "</div>"
      ],
      "text/plain": [
       "            predicted_neg  predicted_pos\n",
       "actual_neg            922            101\n",
       "actual_pos            176            210"
      ]
     },
     "execution_count": 196,
     "metadata": {},
     "output_type": "execute_result"
    }
   ],
   "source": [
    "df_confusion_matrix"
   ]
  },
  {
   "cell_type": "code",
   "execution_count": 193,
   "id": "fe36e3b8",
   "metadata": {},
   "outputs": [
    {
     "data": {
      "text/plain": [
       "array([[0.65, 0.07],\n",
       "       [0.12, 0.15]])"
      ]
     },
     "execution_count": 193,
     "metadata": {},
     "output_type": "execute_result"
    }
   ],
   "source": [
    "# fraction of the values in confusion matrix\n",
    "(confusion_matrix / confusion_matrix.sum()).round(2)"
   ]
  },
  {
   "cell_type": "markdown",
   "id": "014a2bf1",
   "metadata": {},
   "source": [
    "From the result above: \n",
    "\n",
    "$accuracy = 0.65 + 0.15 = 0.8%$  which is same as the accuracy we got when the model was evaluated using accuracy.\n",
    "\n",
    "$Accuracy = \\dfrac{(TP + TN)}{(TP + TN + FP + FN)}$"
   ]
  },
  {
   "cell_type": "markdown",
   "id": "c3017114",
   "metadata": {},
   "source": [
    "### Precision & Recall"
   ]
  },
  {
   "cell_type": "markdown",
   "id": "e258c7a7",
   "metadata": {},
   "source": [
    "###### Precision\n",
    "This is the fraction of correctly predicted positive churn to total predicted positive churn.<br>\n",
    "$Precision = \\dfrac{TP}{(TP + FP)}$"
   ]
  },
  {
   "cell_type": "code",
   "execution_count": 205,
   "id": "77e87483",
   "metadata": {},
   "outputs": [
    {
     "name": "stdout",
     "output_type": "stream",
     "text": [
      "Precision of model: 68.0%\n"
     ]
    }
   ],
   "source": [
    "precision = tp / (tp + fp)\n",
    "print(f\"Precision of model: {round(precision, 2)*100}%\")"
   ]
  },
  {
   "cell_type": "markdown",
   "id": "7241e795",
   "metadata": {},
   "source": [
    "###### Recall\n",
    "* This is the fraction of correctly predicted positive churn to total positive churn.\n",
    "* Its result is the accuracy of each class. E.g the accuracy of the positive churn is shown below and calculated in the next cell.<br>\n",
    "\n",
    "$Recall = \\dfrac{TP}{(TP + FN)}$"
   ]
  },
  {
   "cell_type": "code",
   "execution_count": 210,
   "id": "9f512f5c",
   "metadata": {},
   "outputs": [
    {
     "name": "stdout",
     "output_type": "stream",
     "text": [
      "Recall of model: 54.0%\n",
      "From the result above, 46.0% of customers who were churning were not identified.\n"
     ]
    }
   ],
   "source": [
    "recall = tp / (tp + fn)\n",
    "print(f\"Recall of model: {round(recall, 2)*100}%\")\n",
    "print(f\"From the result above, {100 - (round(recall, 2)*100)}% of customers who were churning were not identified.\")"
   ]
  },
  {
   "cell_type": "markdown",
   "id": "71793f13",
   "metadata": {},
   "source": [
    "<p style=\"color: green;\"><b><i>Recall</i></b> helps us to determine the accuracy of model on the target class, which <b><i>Accuracy</i></b> do not give account of.</p>"
   ]
  },
  {
   "cell_type": "markdown",
   "id": "956e446f",
   "metadata": {},
   "source": [
    "### ROC Curves"
   ]
  },
  {
   "cell_type": "markdown",
   "id": "eb9cd9a3",
   "metadata": {},
   "source": [
    "###### False Positive Rate\n",
    "* This is the ratio of the total number of wrongly predicted negative examples to the total number of actual negative\n",
    "* It is the fraction of all negative examples that are predicted incorrectly (false positive)\n",
    "* The aim is to minimize FPR\n",
    "\n",
    "$FPR = \\dfrac{FP}{TN + FP} $"
   ]
  },
  {
   "cell_type": "markdown",
   "id": "9f00d0fd",
   "metadata": {},
   "source": [
    "###### True Positive Rate\n",
    "* This is the ratio of the total number of correctly predicted positive examples to the total number of actual positive examples.\n",
    "* This is still known as the recall of the positive class.\n",
    "* The aim is to miximize TPR\n",
    "\n",
    "$TPR = \\dfrac{TP}{FN + TP} $"
   ]
  },
  {
   "cell_type": "code",
   "execution_count": 211,
   "id": "48d236c4",
   "metadata": {},
   "outputs": [
    {
     "data": {
      "text/plain": [
       "0.5440414507772021"
      ]
     },
     "execution_count": 211,
     "metadata": {},
     "output_type": "execute_result"
    }
   ],
   "source": [
    "# calculate the TPR\n",
    "tpr = recall\n",
    "tpr"
   ]
  },
  {
   "cell_type": "code",
   "execution_count": 212,
   "id": "c58712ee",
   "metadata": {},
   "outputs": [
    {
     "data": {
      "text/plain": [
       "0.09872922776148582"
      ]
     },
     "execution_count": 212,
     "metadata": {},
     "output_type": "execute_result"
    }
   ],
   "source": [
    "# calculate the FPR\n",
    "fpr = fp / (fp + tn)\n",
    "fpr"
   ]
  },
  {
   "cell_type": "code",
   "execution_count": 228,
   "id": "7b852ac3",
   "metadata": {},
   "outputs": [],
   "source": [
    "threshold = np.linspace(0, 1, 101)\n",
    "scores = []\n",
    "\n",
    "for t in threshold:\n",
    "    # actual\n",
    "    actual_positive = y_val == 1\n",
    "    actual_negative = y_val == 0\n",
    "    \n",
    "    # predicted\n",
    "    pred_positive = pred_val >= t \n",
    "    pred_negative = pred_val < t\n",
    "    \n",
    "    \n",
    "    tp = sum(actual_positive & pred_positive)\n",
    "    tn = sum(actual_negative & pred_negative)\n",
    "    \n",
    "    fp = sum(pred_positive & actual_negative)\n",
    "    fn = sum(pred_negative & actual_positive)\n",
    "    \n",
    "    scores.append((t, tp, fp, fn, tn))"
   ]
  },
  {
   "cell_type": "code",
   "execution_count": 229,
   "id": "122b6776",
   "metadata": {},
   "outputs": [
    {
     "data": {
      "text/html": [
       "<div>\n",
       "<style scoped>\n",
       "    .dataframe tbody tr th:only-of-type {\n",
       "        vertical-align: middle;\n",
       "    }\n",
       "\n",
       "    .dataframe tbody tr th {\n",
       "        vertical-align: top;\n",
       "    }\n",
       "\n",
       "    .dataframe thead th {\n",
       "        text-align: right;\n",
       "    }\n",
       "</style>\n",
       "<table border=\"1\" class=\"dataframe\">\n",
       "  <thead>\n",
       "    <tr style=\"text-align: right;\">\n",
       "      <th></th>\n",
       "      <th>threshold</th>\n",
       "      <th>tp</th>\n",
       "      <th>fp</th>\n",
       "      <th>fn</th>\n",
       "      <th>tn</th>\n",
       "    </tr>\n",
       "  </thead>\n",
       "  <tbody>\n",
       "    <tr>\n",
       "      <th>0</th>\n",
       "      <td>0.00</td>\n",
       "      <td>386</td>\n",
       "      <td>1023</td>\n",
       "      <td>0</td>\n",
       "      <td>0</td>\n",
       "    </tr>\n",
       "    <tr>\n",
       "      <th>1</th>\n",
       "      <td>0.01</td>\n",
       "      <td>385</td>\n",
       "      <td>913</td>\n",
       "      <td>1</td>\n",
       "      <td>110</td>\n",
       "    </tr>\n",
       "    <tr>\n",
       "      <th>2</th>\n",
       "      <td>0.02</td>\n",
       "      <td>384</td>\n",
       "      <td>830</td>\n",
       "      <td>2</td>\n",
       "      <td>193</td>\n",
       "    </tr>\n",
       "    <tr>\n",
       "      <th>3</th>\n",
       "      <td>0.03</td>\n",
       "      <td>383</td>\n",
       "      <td>766</td>\n",
       "      <td>3</td>\n",
       "      <td>257</td>\n",
       "    </tr>\n",
       "    <tr>\n",
       "      <th>4</th>\n",
       "      <td>0.04</td>\n",
       "      <td>381</td>\n",
       "      <td>715</td>\n",
       "      <td>5</td>\n",
       "      <td>308</td>\n",
       "    </tr>\n",
       "    <tr>\n",
       "      <th>...</th>\n",
       "      <td>...</td>\n",
       "      <td>...</td>\n",
       "      <td>...</td>\n",
       "      <td>...</td>\n",
       "      <td>...</td>\n",
       "    </tr>\n",
       "    <tr>\n",
       "      <th>96</th>\n",
       "      <td>0.96</td>\n",
       "      <td>0</td>\n",
       "      <td>0</td>\n",
       "      <td>386</td>\n",
       "      <td>1023</td>\n",
       "    </tr>\n",
       "    <tr>\n",
       "      <th>97</th>\n",
       "      <td>0.97</td>\n",
       "      <td>0</td>\n",
       "      <td>0</td>\n",
       "      <td>386</td>\n",
       "      <td>1023</td>\n",
       "    </tr>\n",
       "    <tr>\n",
       "      <th>98</th>\n",
       "      <td>0.98</td>\n",
       "      <td>0</td>\n",
       "      <td>0</td>\n",
       "      <td>386</td>\n",
       "      <td>1023</td>\n",
       "    </tr>\n",
       "    <tr>\n",
       "      <th>99</th>\n",
       "      <td>0.99</td>\n",
       "      <td>0</td>\n",
       "      <td>0</td>\n",
       "      <td>386</td>\n",
       "      <td>1023</td>\n",
       "    </tr>\n",
       "    <tr>\n",
       "      <th>100</th>\n",
       "      <td>1.00</td>\n",
       "      <td>0</td>\n",
       "      <td>0</td>\n",
       "      <td>386</td>\n",
       "      <td>1023</td>\n",
       "    </tr>\n",
       "  </tbody>\n",
       "</table>\n",
       "<p>101 rows × 5 columns</p>\n",
       "</div>"
      ],
      "text/plain": [
       "     threshold   tp    fp   fn    tn\n",
       "0         0.00  386  1023    0     0\n",
       "1         0.01  385   913    1   110\n",
       "2         0.02  384   830    2   193\n",
       "3         0.03  383   766    3   257\n",
       "4         0.04  381   715    5   308\n",
       "..         ...  ...   ...  ...   ...\n",
       "96        0.96    0     0  386  1023\n",
       "97        0.97    0     0  386  1023\n",
       "98        0.98    0     0  386  1023\n",
       "99        0.99    0     0  386  1023\n",
       "100       1.00    0     0  386  1023\n",
       "\n",
       "[101 rows x 5 columns]"
      ]
     },
     "execution_count": 229,
     "metadata": {},
     "output_type": "execute_result"
    }
   ],
   "source": [
    "columns = ['threshold', 'tp', 'fp', 'fn', 'tn']\n",
    "df_scores = pd.DataFrame(scores, columns=columns)\n",
    "df_scores"
   ]
  },
  {
   "cell_type": "code",
   "execution_count": 230,
   "id": "7aaa2584",
   "metadata": {},
   "outputs": [],
   "source": [
    "# calculate the TPR and FPR\n",
    "df_scores['fpr'] = df_scores.fp / (df_scores.tn + df_scores.fp)\n",
    "df_scores['tpr'] = df_scores.tp / (df_scores.fn + df_scores.tp)"
   ]
  },
  {
   "cell_type": "code",
   "execution_count": 231,
   "id": "fe148f14",
   "metadata": {},
   "outputs": [
    {
     "data": {
      "text/html": [
       "<div>\n",
       "<style scoped>\n",
       "    .dataframe tbody tr th:only-of-type {\n",
       "        vertical-align: middle;\n",
       "    }\n",
       "\n",
       "    .dataframe tbody tr th {\n",
       "        vertical-align: top;\n",
       "    }\n",
       "\n",
       "    .dataframe thead th {\n",
       "        text-align: right;\n",
       "    }\n",
       "</style>\n",
       "<table border=\"1\" class=\"dataframe\">\n",
       "  <thead>\n",
       "    <tr style=\"text-align: right;\">\n",
       "      <th></th>\n",
       "      <th>threshold</th>\n",
       "      <th>tp</th>\n",
       "      <th>fp</th>\n",
       "      <th>fn</th>\n",
       "      <th>tn</th>\n",
       "      <th>fpr</th>\n",
       "      <th>tpr</th>\n",
       "    </tr>\n",
       "  </thead>\n",
       "  <tbody>\n",
       "    <tr>\n",
       "      <th>0</th>\n",
       "      <td>0.00</td>\n",
       "      <td>386</td>\n",
       "      <td>1023</td>\n",
       "      <td>0</td>\n",
       "      <td>0</td>\n",
       "      <td>1.000000</td>\n",
       "      <td>1.000000</td>\n",
       "    </tr>\n",
       "    <tr>\n",
       "      <th>1</th>\n",
       "      <td>0.01</td>\n",
       "      <td>385</td>\n",
       "      <td>913</td>\n",
       "      <td>1</td>\n",
       "      <td>110</td>\n",
       "      <td>0.892473</td>\n",
       "      <td>0.997409</td>\n",
       "    </tr>\n",
       "    <tr>\n",
       "      <th>2</th>\n",
       "      <td>0.02</td>\n",
       "      <td>384</td>\n",
       "      <td>830</td>\n",
       "      <td>2</td>\n",
       "      <td>193</td>\n",
       "      <td>0.811339</td>\n",
       "      <td>0.994819</td>\n",
       "    </tr>\n",
       "    <tr>\n",
       "      <th>3</th>\n",
       "      <td>0.03</td>\n",
       "      <td>383</td>\n",
       "      <td>766</td>\n",
       "      <td>3</td>\n",
       "      <td>257</td>\n",
       "      <td>0.748778</td>\n",
       "      <td>0.992228</td>\n",
       "    </tr>\n",
       "    <tr>\n",
       "      <th>4</th>\n",
       "      <td>0.04</td>\n",
       "      <td>381</td>\n",
       "      <td>715</td>\n",
       "      <td>5</td>\n",
       "      <td>308</td>\n",
       "      <td>0.698925</td>\n",
       "      <td>0.987047</td>\n",
       "    </tr>\n",
       "    <tr>\n",
       "      <th>...</th>\n",
       "      <td>...</td>\n",
       "      <td>...</td>\n",
       "      <td>...</td>\n",
       "      <td>...</td>\n",
       "      <td>...</td>\n",
       "      <td>...</td>\n",
       "      <td>...</td>\n",
       "    </tr>\n",
       "    <tr>\n",
       "      <th>96</th>\n",
       "      <td>0.96</td>\n",
       "      <td>0</td>\n",
       "      <td>0</td>\n",
       "      <td>386</td>\n",
       "      <td>1023</td>\n",
       "      <td>0.000000</td>\n",
       "      <td>0.000000</td>\n",
       "    </tr>\n",
       "    <tr>\n",
       "      <th>97</th>\n",
       "      <td>0.97</td>\n",
       "      <td>0</td>\n",
       "      <td>0</td>\n",
       "      <td>386</td>\n",
       "      <td>1023</td>\n",
       "      <td>0.000000</td>\n",
       "      <td>0.000000</td>\n",
       "    </tr>\n",
       "    <tr>\n",
       "      <th>98</th>\n",
       "      <td>0.98</td>\n",
       "      <td>0</td>\n",
       "      <td>0</td>\n",
       "      <td>386</td>\n",
       "      <td>1023</td>\n",
       "      <td>0.000000</td>\n",
       "      <td>0.000000</td>\n",
       "    </tr>\n",
       "    <tr>\n",
       "      <th>99</th>\n",
       "      <td>0.99</td>\n",
       "      <td>0</td>\n",
       "      <td>0</td>\n",
       "      <td>386</td>\n",
       "      <td>1023</td>\n",
       "      <td>0.000000</td>\n",
       "      <td>0.000000</td>\n",
       "    </tr>\n",
       "    <tr>\n",
       "      <th>100</th>\n",
       "      <td>1.00</td>\n",
       "      <td>0</td>\n",
       "      <td>0</td>\n",
       "      <td>386</td>\n",
       "      <td>1023</td>\n",
       "      <td>0.000000</td>\n",
       "      <td>0.000000</td>\n",
       "    </tr>\n",
       "  </tbody>\n",
       "</table>\n",
       "<p>101 rows × 7 columns</p>\n",
       "</div>"
      ],
      "text/plain": [
       "     threshold   tp    fp   fn    tn       fpr       tpr\n",
       "0         0.00  386  1023    0     0  1.000000  1.000000\n",
       "1         0.01  385   913    1   110  0.892473  0.997409\n",
       "2         0.02  384   830    2   193  0.811339  0.994819\n",
       "3         0.03  383   766    3   257  0.748778  0.992228\n",
       "4         0.04  381   715    5   308  0.698925  0.987047\n",
       "..         ...  ...   ...  ...   ...       ...       ...\n",
       "96        0.96    0     0  386  1023  0.000000  0.000000\n",
       "97        0.97    0     0  386  1023  0.000000  0.000000\n",
       "98        0.98    0     0  386  1023  0.000000  0.000000\n",
       "99        0.99    0     0  386  1023  0.000000  0.000000\n",
       "100       1.00    0     0  386  1023  0.000000  0.000000\n",
       "\n",
       "[101 rows x 7 columns]"
      ]
     },
     "execution_count": 231,
     "metadata": {},
     "output_type": "execute_result"
    }
   ],
   "source": [
    "df_scores"
   ]
  },
  {
   "cell_type": "markdown",
   "id": "35ab0f18",
   "metadata": {},
   "source": [
    "###### Plot of the TPR and FPR"
   ]
  },
  {
   "cell_type": "code",
   "execution_count": 232,
   "id": "1b7ed014",
   "metadata": {},
   "outputs": [
    {
     "data": {
      "image/png": "[encoded data removed]",
      "text/plain": [
       "<Figure size 432x288 with 1 Axes>"
      ]
     },
     "metadata": {
      "needs_background": "light"
     },
     "output_type": "display_data"
    }
   ],
   "source": [
    "plt.plot(threshold, df_scores.tpr, label='TPR')\n",
    "plt.plot(threshold, df_scores.fpr, label='FPR')\n",
    "\n",
    "plt.legend()\n",
    "plt.show()"
   ]
  },
  {
   "cell_type": "markdown",
   "id": "e34321a1",
   "metadata": {},
   "source": [
    "### Random Model\n",
    "\n",
    "Randomly create a predicted value from a uniform distribution of the same length as the validation target variable."
   ]
  },
  {
   "cell_type": "code",
   "execution_count": 238,
   "id": "f27aa417",
   "metadata": {},
   "outputs": [],
   "source": [
    "np.random.seed(1)\n",
    "y_rand = np.random.uniform(0, 1, size=len(y_val))"
   ]
  },
  {
   "cell_type": "code",
   "execution_count": 242,
   "id": "18acc8e2",
   "metadata": {},
   "outputs": [],
   "source": [
    "def tpr_fpr_df(pred_y, actual_y):\n",
    "    threshold = np.linspace(0, 1, 101)\n",
    "    scores = []\n",
    "\n",
    "    for t in threshold:\n",
    "        # actual\n",
    "        actual_positive = actual_y == 1\n",
    "        actual_negative = actual_y == 0\n",
    "\n",
    "        # predicted\n",
    "        pred_positive = pred_y >= t \n",
    "        pred_negative = pred_y < t\n",
    "\n",
    "\n",
    "        tp = sum(actual_positive & pred_positive)\n",
    "        tn = sum(actual_negative & pred_negative)\n",
    "\n",
    "        fp = sum(pred_positive & actual_negative)\n",
    "        fn = sum(pred_negative & actual_positive)\n",
    "\n",
    "        scores.append((t, tp, fp, fn, tn))\n",
    "        \n",
    "    columns = ['threshold', 'tp', 'fp', 'fn', 'tn']\n",
    "    df_scores = pd.DataFrame(scores, columns=columns)\n",
    "    \n",
    "    # calculate the TPR and FPR\n",
    "    df_scores['fpr'] = df_scores.fp / (df_scores.tn + df_scores.fp)\n",
    "    df_scores['tpr'] = df_scores.tp / (df_scores.fn + df_scores.tp)\n",
    "    \n",
    "    return df_scores"
   ]
  },
  {
   "cell_type": "code",
   "execution_count": 243,
   "id": "1f50c840",
   "metadata": {},
   "outputs": [
    {
     "data": {
      "text/html": [
       "<div>\n",
       "<style scoped>\n",
       "    .dataframe tbody tr th:only-of-type {\n",
       "        vertical-align: middle;\n",
       "    }\n",
       "\n",
       "    .dataframe tbody tr th {\n",
       "        vertical-align: top;\n",
       "    }\n",
       "\n",
       "    .dataframe thead th {\n",
       "        text-align: right;\n",
       "    }\n",
       "</style>\n",
       "<table border=\"1\" class=\"dataframe\">\n",
       "  <thead>\n",
       "    <tr style=\"text-align: right;\">\n",
       "      <th></th>\n",
       "      <th>threshold</th>\n",
       "      <th>tp</th>\n",
       "      <th>fp</th>\n",
       "      <th>fn</th>\n",
       "      <th>tn</th>\n",
       "      <th>fpr</th>\n",
       "      <th>tpr</th>\n",
       "    </tr>\n",
       "  </thead>\n",
       "  <tbody>\n",
       "    <tr>\n",
       "      <th>0</th>\n",
       "      <td>0.0</td>\n",
       "      <td>386</td>\n",
       "      <td>1023</td>\n",
       "      <td>0</td>\n",
       "      <td>0</td>\n",
       "      <td>1.000000</td>\n",
       "      <td>1.000000</td>\n",
       "    </tr>\n",
       "    <tr>\n",
       "      <th>10</th>\n",
       "      <td>0.1</td>\n",
       "      <td>347</td>\n",
       "      <td>923</td>\n",
       "      <td>39</td>\n",
       "      <td>100</td>\n",
       "      <td>0.902248</td>\n",
       "      <td>0.898964</td>\n",
       "    </tr>\n",
       "    <tr>\n",
       "      <th>20</th>\n",
       "      <td>0.2</td>\n",
       "      <td>307</td>\n",
       "      <td>822</td>\n",
       "      <td>79</td>\n",
       "      <td>201</td>\n",
       "      <td>0.803519</td>\n",
       "      <td>0.795337</td>\n",
       "    </tr>\n",
       "    <tr>\n",
       "      <th>30</th>\n",
       "      <td>0.3</td>\n",
       "      <td>276</td>\n",
       "      <td>724</td>\n",
       "      <td>110</td>\n",
       "      <td>299</td>\n",
       "      <td>0.707722</td>\n",
       "      <td>0.715026</td>\n",
       "    </tr>\n",
       "    <tr>\n",
       "      <th>40</th>\n",
       "      <td>0.4</td>\n",
       "      <td>237</td>\n",
       "      <td>624</td>\n",
       "      <td>149</td>\n",
       "      <td>399</td>\n",
       "      <td>0.609971</td>\n",
       "      <td>0.613990</td>\n",
       "    </tr>\n",
       "    <tr>\n",
       "      <th>50</th>\n",
       "      <td>0.5</td>\n",
       "      <td>202</td>\n",
       "      <td>518</td>\n",
       "      <td>184</td>\n",
       "      <td>505</td>\n",
       "      <td>0.506354</td>\n",
       "      <td>0.523316</td>\n",
       "    </tr>\n",
       "    <tr>\n",
       "      <th>60</th>\n",
       "      <td>0.6</td>\n",
       "      <td>161</td>\n",
       "      <td>409</td>\n",
       "      <td>225</td>\n",
       "      <td>614</td>\n",
       "      <td>0.399804</td>\n",
       "      <td>0.417098</td>\n",
       "    </tr>\n",
       "    <tr>\n",
       "      <th>70</th>\n",
       "      <td>0.7</td>\n",
       "      <td>121</td>\n",
       "      <td>302</td>\n",
       "      <td>265</td>\n",
       "      <td>721</td>\n",
       "      <td>0.295210</td>\n",
       "      <td>0.313472</td>\n",
       "    </tr>\n",
       "    <tr>\n",
       "      <th>80</th>\n",
       "      <td>0.8</td>\n",
       "      <td>78</td>\n",
       "      <td>206</td>\n",
       "      <td>308</td>\n",
       "      <td>817</td>\n",
       "      <td>0.201369</td>\n",
       "      <td>0.202073</td>\n",
       "    </tr>\n",
       "    <tr>\n",
       "      <th>90</th>\n",
       "      <td>0.9</td>\n",
       "      <td>40</td>\n",
       "      <td>101</td>\n",
       "      <td>346</td>\n",
       "      <td>922</td>\n",
       "      <td>0.098729</td>\n",
       "      <td>0.103627</td>\n",
       "    </tr>\n",
       "    <tr>\n",
       "      <th>100</th>\n",
       "      <td>1.0</td>\n",
       "      <td>0</td>\n",
       "      <td>0</td>\n",
       "      <td>386</td>\n",
       "      <td>1023</td>\n",
       "      <td>0.000000</td>\n",
       "      <td>0.000000</td>\n",
       "    </tr>\n",
       "  </tbody>\n",
       "</table>\n",
       "</div>"
      ],
      "text/plain": [
       "     threshold   tp    fp   fn    tn       fpr       tpr\n",
       "0          0.0  386  1023    0     0  1.000000  1.000000\n",
       "10         0.1  347   923   39   100  0.902248  0.898964\n",
       "20         0.2  307   822   79   201  0.803519  0.795337\n",
       "30         0.3  276   724  110   299  0.707722  0.715026\n",
       "40         0.4  237   624  149   399  0.609971  0.613990\n",
       "50         0.5  202   518  184   505  0.506354  0.523316\n",
       "60         0.6  161   409  225   614  0.399804  0.417098\n",
       "70         0.7  121   302  265   721  0.295210  0.313472\n",
       "80         0.8   78   206  308   817  0.201369  0.202073\n",
       "90         0.9   40   101  346   922  0.098729  0.103627\n",
       "100        1.0    0     0  386  1023  0.000000  0.000000"
      ]
     },
     "execution_count": 243,
     "metadata": {},
     "output_type": "execute_result"
    }
   ],
   "source": [
    "df_rand = tpr_fpr_df(y_rand, y_val)\n",
    "df_rand[::10]"
   ]
  },
  {
   "cell_type": "code",
   "execution_count": 244,
   "id": "dd679695",
   "metadata": {},
   "outputs": [
    {
     "data": {
      "image/png": "[encoded data removed]",
      "text/plain": [
       "<Figure size 432x288 with 1 Axes>"
      ]
     },
     "metadata": {
      "needs_background": "light"
     },
     "output_type": "display_data"
    }
   ],
   "source": [
    "plt.plot(threshold, df_rand.tpr, label='TPR')\n",
    "plt.plot(threshold, df_rand.fpr, label='FPR')\n",
    "\n",
    "plt.legend()\n",
    "plt.show()"
   ]
  },
  {
   "cell_type": "markdown",
   "id": "767d7537",
   "metadata": {},
   "source": [
    "### Ideal Model\n",
    "* Ordering the customers based on their predicted prebability from smallest to highest so that customers who are not churning are arranged first followed by customers who are churning. \n",
    "* The purpose of this model is to see how TPR and FPR plot will look like"
   ]
  },
  {
   "cell_type": "code",
   "execution_count": 247,
   "id": "b0aee9f9",
   "metadata": {},
   "outputs": [
    {
     "data": {
      "text/plain": [
       "(1023, 386)"
      ]
     },
     "execution_count": 247,
     "metadata": {},
     "output_type": "execute_result"
    }
   ],
   "source": [
    "# calculate the total number of positive an negative example\n",
    "num_neg = (y_val == 0).sum()\n",
    "num_pos = (y_val == 1).sum()\n",
    "num_neg, num_pos"
   ]
  },
  {
   "cell_type": "code",
   "execution_count": 250,
   "id": "36d7115a",
   "metadata": {},
   "outputs": [],
   "source": [
    "# create a list starting with 1023 zeros followed by 386 ones\n",
    "y_ideal = np.repeat([0, 1], [num_neg, num_pos])"
   ]
  },
  {
   "cell_type": "code",
   "execution_count": 251,
   "id": "6c18ce77",
   "metadata": {},
   "outputs": [
    {
     "data": {
      "text/plain": [
       "array([0, 0, 0, ..., 1, 1, 1])"
      ]
     },
     "execution_count": 251,
     "metadata": {},
     "output_type": "execute_result"
    }
   ],
   "source": [
    "y_ideal"
   ]
  },
  {
   "cell_type": "code",
   "execution_count": 252,
   "id": "1e97ff33",
   "metadata": {},
   "outputs": [],
   "source": [
    "y_ideal_pred = np.linspace(0, 1, len(y_ideal))"
   ]
  },
  {
   "cell_type": "code",
   "execution_count": 255,
   "id": "ae0ebb11",
   "metadata": {},
   "outputs": [
    {
     "data": {
      "text/plain": [
       "0.7260468417317246"
      ]
     },
     "execution_count": 255,
     "metadata": {},
     "output_type": "execute_result"
    }
   ],
   "source": [
    "#  taking the mean of the negative examples in y_val\n",
    "1 - y_val.mean()"
   ]
  },
  {
   "cell_type": "code",
   "execution_count": 253,
   "id": "544649e7",
   "metadata": {},
   "outputs": [
    {
     "data": {
      "text/plain": [
       "1.0"
      ]
     },
     "execution_count": 253,
     "metadata": {},
     "output_type": "execute_result"
    }
   ],
   "source": [
    "((y_ideal_pred >= 0.726) == y_ideal).mean()"
   ]
  },
  {
   "cell_type": "code",
   "execution_count": 257,
   "id": "7f99607e",
   "metadata": {},
   "outputs": [
    {
     "data": {
      "text/html": [
       "<div>\n",
       "<style scoped>\n",
       "    .dataframe tbody tr th:only-of-type {\n",
       "        vertical-align: middle;\n",
       "    }\n",
       "\n",
       "    .dataframe tbody tr th {\n",
       "        vertical-align: top;\n",
       "    }\n",
       "\n",
       "    .dataframe thead th {\n",
       "        text-align: right;\n",
       "    }\n",
       "</style>\n",
       "<table border=\"1\" class=\"dataframe\">\n",
       "  <thead>\n",
       "    <tr style=\"text-align: right;\">\n",
       "      <th></th>\n",
       "      <th>threshold</th>\n",
       "      <th>tp</th>\n",
       "      <th>fp</th>\n",
       "      <th>fn</th>\n",
       "      <th>tn</th>\n",
       "      <th>fpr</th>\n",
       "      <th>tpr</th>\n",
       "    </tr>\n",
       "  </thead>\n",
       "  <tbody>\n",
       "    <tr>\n",
       "      <th>0</th>\n",
       "      <td>0.0</td>\n",
       "      <td>386</td>\n",
       "      <td>1023</td>\n",
       "      <td>0</td>\n",
       "      <td>0</td>\n",
       "      <td>1.000000</td>\n",
       "      <td>1.000000</td>\n",
       "    </tr>\n",
       "    <tr>\n",
       "      <th>10</th>\n",
       "      <td>0.1</td>\n",
       "      <td>386</td>\n",
       "      <td>882</td>\n",
       "      <td>0</td>\n",
       "      <td>141</td>\n",
       "      <td>0.862170</td>\n",
       "      <td>1.000000</td>\n",
       "    </tr>\n",
       "    <tr>\n",
       "      <th>20</th>\n",
       "      <td>0.2</td>\n",
       "      <td>386</td>\n",
       "      <td>741</td>\n",
       "      <td>0</td>\n",
       "      <td>282</td>\n",
       "      <td>0.724340</td>\n",
       "      <td>1.000000</td>\n",
       "    </tr>\n",
       "    <tr>\n",
       "      <th>30</th>\n",
       "      <td>0.3</td>\n",
       "      <td>386</td>\n",
       "      <td>600</td>\n",
       "      <td>0</td>\n",
       "      <td>423</td>\n",
       "      <td>0.586510</td>\n",
       "      <td>1.000000</td>\n",
       "    </tr>\n",
       "    <tr>\n",
       "      <th>40</th>\n",
       "      <td>0.4</td>\n",
       "      <td>386</td>\n",
       "      <td>459</td>\n",
       "      <td>0</td>\n",
       "      <td>564</td>\n",
       "      <td>0.448680</td>\n",
       "      <td>1.000000</td>\n",
       "    </tr>\n",
       "    <tr>\n",
       "      <th>50</th>\n",
       "      <td>0.5</td>\n",
       "      <td>386</td>\n",
       "      <td>319</td>\n",
       "      <td>0</td>\n",
       "      <td>704</td>\n",
       "      <td>0.311828</td>\n",
       "      <td>1.000000</td>\n",
       "    </tr>\n",
       "    <tr>\n",
       "      <th>60</th>\n",
       "      <td>0.6</td>\n",
       "      <td>386</td>\n",
       "      <td>178</td>\n",
       "      <td>0</td>\n",
       "      <td>845</td>\n",
       "      <td>0.173998</td>\n",
       "      <td>1.000000</td>\n",
       "    </tr>\n",
       "    <tr>\n",
       "      <th>70</th>\n",
       "      <td>0.7</td>\n",
       "      <td>386</td>\n",
       "      <td>37</td>\n",
       "      <td>0</td>\n",
       "      <td>986</td>\n",
       "      <td>0.036168</td>\n",
       "      <td>1.000000</td>\n",
       "    </tr>\n",
       "    <tr>\n",
       "      <th>80</th>\n",
       "      <td>0.8</td>\n",
       "      <td>282</td>\n",
       "      <td>0</td>\n",
       "      <td>104</td>\n",
       "      <td>1023</td>\n",
       "      <td>0.000000</td>\n",
       "      <td>0.730570</td>\n",
       "    </tr>\n",
       "    <tr>\n",
       "      <th>90</th>\n",
       "      <td>0.9</td>\n",
       "      <td>141</td>\n",
       "      <td>0</td>\n",
       "      <td>245</td>\n",
       "      <td>1023</td>\n",
       "      <td>0.000000</td>\n",
       "      <td>0.365285</td>\n",
       "    </tr>\n",
       "    <tr>\n",
       "      <th>100</th>\n",
       "      <td>1.0</td>\n",
       "      <td>1</td>\n",
       "      <td>0</td>\n",
       "      <td>385</td>\n",
       "      <td>1023</td>\n",
       "      <td>0.000000</td>\n",
       "      <td>0.002591</td>\n",
       "    </tr>\n",
       "  </tbody>\n",
       "</table>\n",
       "</div>"
      ],
      "text/plain": [
       "     threshold   tp    fp   fn    tn       fpr       tpr\n",
       "0          0.0  386  1023    0     0  1.000000  1.000000\n",
       "10         0.1  386   882    0   141  0.862170  1.000000\n",
       "20         0.2  386   741    0   282  0.724340  1.000000\n",
       "30         0.3  386   600    0   423  0.586510  1.000000\n",
       "40         0.4  386   459    0   564  0.448680  1.000000\n",
       "50         0.5  386   319    0   704  0.311828  1.000000\n",
       "60         0.6  386   178    0   845  0.173998  1.000000\n",
       "70         0.7  386    37    0   986  0.036168  1.000000\n",
       "80         0.8  282     0  104  1023  0.000000  0.730570\n",
       "90         0.9  141     0  245  1023  0.000000  0.365285\n",
       "100        1.0    1     0  385  1023  0.000000  0.002591"
      ]
     },
     "execution_count": 257,
     "metadata": {},
     "output_type": "execute_result"
    }
   ],
   "source": [
    "df_ideal = tpr_fpr_df(y_ideal_pred, y_ideal)\n",
    "df_ideal[::10]"
   ]
  },
  {
   "cell_type": "code",
   "execution_count": 258,
   "id": "1c52b9ce",
   "metadata": {},
   "outputs": [
    {
     "data": {
      "image/png": "[encoded data removed]",
      "text/plain": [
       "<Figure size 432x288 with 1 Axes>"
      ]
     },
     "metadata": {
      "needs_background": "light"
     },
     "output_type": "display_data"
    }
   ],
   "source": [
    "plt.plot(threshold, df_ideal.tpr, label='TPR')\n",
    "plt.plot(threshold, df_ideal.fpr, label='FPR')\n",
    "\n",
    "plt.legend()\n",
    "plt.show()"
   ]
  },
  {
   "cell_type": "markdown",
   "id": "7c734bb0",
   "metadata": {},
   "source": [
    "As can be seen, the threshold at which the accuracy of TPR start to decrease is 0.726. This model can identify the churning customers correctly."
   ]
  },
  {
   "cell_type": "markdown",
   "id": "0aaa0042",
   "metadata": {},
   "source": [
    "###### Putting all the plots together"
   ]
  },
  {
   "cell_type": "code",
   "execution_count": 259,
   "id": "eecf13b8",
   "metadata": {},
   "outputs": [
    {
     "data": {
      "image/png": "[encoded data removed]",
      "text/plain": [
       "<Figure size 432x288 with 1 Axes>"
      ]
     },
     "metadata": {
      "needs_background": "light"
     },
     "output_type": "display_data"
    }
   ],
   "source": [
    "plt.plot(threshold, df_scores.tpr, label='TPR Scores')\n",
    "plt.plot(threshold, df_scores.fpr, label='FPR Scores')\n",
    "plt.plot(threshold, df_ideal.tpr, label='TPR Ideal')\n",
    "plt.plot(threshold, df_ideal.fpr, label='FPR Ideal')\n",
    "\n",
    "plt.legend()\n",
    "plt.show()"
   ]
  },
  {
   "cell_type": "markdown",
   "id": "1ab397cd",
   "metadata": {},
   "source": [
    "We cam conlude that the closer the scores TPR is to the ideal TPR, the better the performance of the scores prediction. Same goes with the scores FPR and ideal FPR."
   ]
  },
  {
   "cell_type": "markdown",
   "id": "8af35ba3",
   "metadata": {},
   "source": [
    "###### Plot of TPR and FPR"
   ]
  },
  {
   "cell_type": "code",
   "execution_count": 261,
   "id": "3c051c08",
   "metadata": {},
   "outputs": [
    {
     "data": {
      "image/png": "[encoded data removed]",
      "text/plain": [
       "<Figure size 432x288 with 1 Axes>"
      ]
     },
     "metadata": {
      "needs_background": "light"
     },
     "output_type": "display_data"
    }
   ],
   "source": [
    "plt.plot(df_scores.fpr, df_scores.tpr, label='scores')\n",
    "plt.plot(df_rand.fpr, df_rand.tpr, label='random')\n",
    "plt.plot(df_ideal.fpr, df_ideal.tpr, label='ideal')\n",
    "\n",
    "plt.xlabel('FPR')\n",
    "plt.ylabel('TPR')\n",
    "\n",
    "plt.legend()\n",
    "plt.show()"
   ]
  },
  {
   "cell_type": "markdown",
   "id": "17ad0297",
   "metadata": {},
   "source": [
    "For a good model, the plot of the TPR and FPR of our model must be close to the joint of the ideal model (point where all the negative and positive examples are correctly predicted."
   ]
  },
  {
   "cell_type": "markdown",
   "id": "d9744ce7",
   "metadata": {},
   "source": [
    "###### Using sklearn to determing the ROC curve values"
   ]
  },
  {
   "cell_type": "code",
   "execution_count": 262,
   "id": "249daf63",
   "metadata": {},
   "outputs": [],
   "source": [
    "from sklearn.metrics import roc_curve"
   ]
  },
  {
   "cell_type": "code",
   "execution_count": 267,
   "id": "05303489",
   "metadata": {},
   "outputs": [],
   "source": [
    "fpr, tpr, thresholds = roc_curve(y_val, pred_val)"
   ]
  },
  {
   "cell_type": "code",
   "execution_count": 268,
   "id": "91b28b96",
   "metadata": {},
   "outputs": [
    {
     "data": {
      "image/png": "[encoded data removed]",
      "text/plain": [
       "<Figure size 432x288 with 1 Axes>"
      ]
     },
     "metadata": {
      "needs_background": "light"
     },
     "output_type": "display_data"
    }
   ],
   "source": [
    "plt.plot(fpr, tpr, label='model')\n",
    "plt.plot([0,1], [0, 1], label='random', linestyle='--')\n",
    "\n",
    "plt.xlabel('FPR')\n",
    "plt.ylabel('TPR')\n",
    "\n",
    "plt.legend()\n",
    "plt.show()"
   ]
  },
  {
   "cell_type": "markdown",
   "id": "b83e7863",
   "metadata": {},
   "source": [
    "### ROC AUC\n",
    "\n",
    "ROC (Receiver Operating Curve): this is a graph showing the performance of a classification model at all classification thresholds.\n",
    "\n",
    "AUC (Area Under the Curve): the larger the value (**min of 0 and max of 1)** of the area under the ROC Curve, the better the performance of the model."
   ]
  },
  {
   "cell_type": "code",
   "execution_count": 269,
   "id": "5b81540d",
   "metadata": {},
   "outputs": [],
   "source": [
    "from sklearn.metrics import auc"
   ]
  },
  {
   "cell_type": "code",
   "execution_count": 276,
   "id": "b78fa437",
   "metadata": {},
   "outputs": [
    {
     "name": "stdout",
     "output_type": "stream",
     "text": [
      "The area under the ROC curve for the validation model is: 0.84\n"
     ]
    }
   ],
   "source": [
    "val_auc = auc(fpr, tpr)\n",
    "print(f\"The area under the ROC curve for the validation model is: {round(val_auc, 2)}\")"
   ]
  },
  {
   "cell_type": "markdown",
   "id": "727405f2",
   "metadata": {},
   "source": [
    "From the above auc method from sklearn.metrics, an alternative method that cal calculate the result is **roc_auc_score** but it uses the acutual value and the predicted value instead of using the fpr and tpr that is calculated by roc_curve and used in auc function."
   ]
  },
  {
   "cell_type": "code",
   "execution_count": 278,
   "id": "1d078a91",
   "metadata": {},
   "outputs": [
    {
     "data": {
      "text/plain": [
       "0.8438530381535563"
      ]
     },
     "execution_count": 278,
     "metadata": {},
     "output_type": "execute_result"
    }
   ],
   "source": [
    "from sklearn.metrics import roc_auc_score\n",
    "roc_auc_score(y_val, pred_val)"
   ]
  },
  {
   "cell_type": "markdown",
   "id": "1a1505d0",
   "metadata": {},
   "source": [
    "### Cross-Validation\n",
    "\n",
    "Previously, We have splitted our data into train, validation and test set where we used the validation set to determine the best parameter for our model.\n",
    "\n",
    "In this section, we will use K-Fold cross-validation to evaluate the performance of our model on different K validation set from may be 80% of the whole given data where K is an integer. The remaining 20% is the test set.\n",
    "\n",
    "For larger data set, it is advisable to use smaller k split while for larger dataset, use more k split\n",
    "\n",
    "* Evaluate the same model on different subset of data\n",
    "* Getting the everage prediction and the spread within predictions."
   ]
  },
  {
   "cell_type": "code",
   "execution_count": 310,
   "id": "28537b4e",
   "metadata": {},
   "outputs": [],
   "source": [
    "def train(df_train, y_train, c=1.0):\n",
    "    # convert the data frame to dictionary \n",
    "    dict_df = df_train[categorical + numerical].to_dict(orient='records') \n",
    "    \n",
    "    # one-hot encode the categorical variable\n",
    "    dv = DictVectorizer(sparse=False)\n",
    "    X_train = dv.fit_transform(dict_df)\n",
    "    \n",
    "    model = LogisticRegression(C=c, max_iter=1000)\n",
    "    model.fit(X_train, y_train)\n",
    "    \n",
    "    return dv, model"
   ]
  },
  {
   "cell_type": "code",
   "execution_count": 311,
   "id": "6d6bed91",
   "metadata": {},
   "outputs": [],
   "source": [
    "dv, model = train(df_train, y_train, 0.001)"
   ]
  },
  {
   "cell_type": "code",
   "execution_count": 312,
   "id": "7370fc81",
   "metadata": {},
   "outputs": [],
   "source": [
    "def predict(dv, model, df):\n",
    "    # convert the data frame to dictionary \n",
    "    dict_df = df[categorical + numerical].to_dict(orient='records') \n",
    "    \n",
    "    # one-hot encode the categorical variable\n",
    "    X_test= dv.transform(dict_df)\n",
    "    \n",
    "    # predict the test data\n",
    "    y_pred = model.predict_proba(X_test)[:, 1]\n",
    "    \n",
    "    return y_pred"
   ]
  },
  {
   "cell_type": "code",
   "execution_count": 313,
   "id": "96a50df3",
   "metadata": {},
   "outputs": [],
   "source": [
    "pred = predict(dv, model, df_val)"
   ]
  },
  {
   "cell_type": "markdown",
   "id": "0821f3e3",
   "metadata": {},
   "source": [
    "###### Uaing the cross-validation model from the sklearn library"
   ]
  },
  {
   "cell_type": "code",
   "execution_count": 287,
   "id": "56c94b22",
   "metadata": {},
   "outputs": [],
   "source": [
    "from sklearn.model_selection import KFold"
   ]
  },
  {
   "cell_type": "code",
   "execution_count": 316,
   "id": "bfc5ea9b",
   "metadata": {},
   "outputs": [
    {
     "name": "stdout",
     "output_type": "stream",
     "text": [
      "Requirement already satisfied: tqdm in c:\\users\\user\\anaconda3\\lib\\site-packages (4.59.0)\n"
     ]
    }
   ],
   "source": [
    "!pip install tqdm"
   ]
  },
  {
   "cell_type": "code",
   "execution_count": 317,
   "id": "37bd9f84",
   "metadata": {},
   "outputs": [],
   "source": [
    "from tqdm.auto import tqdm"
   ]
  },
  {
   "cell_type": "code",
   "execution_count": 318,
   "id": "f900bed7",
   "metadata": {},
   "outputs": [
    {
     "data": {
      "application/vnd.jupyter.widget-view+json": {
       "model_id": "90266407e07846bba944c5079fddbbaf",
       "version_major": 2,
       "version_minor": 0
      },
      "text/plain": [
       "  0%|          | 0/7 [00:00<?, ?it/s]"
      ]
     },
     "metadata": {},
     "output_type": "display_data"
    },
    {
     "data": {
      "application/vnd.jupyter.widget-view+json": {
       "model_id": "78247909086b423c9cf75694ed5c2cbe",
       "version_major": 2,
       "version_minor": 0
      },
      "text/plain": [
       "0it [00:00, ?it/s]"
      ]
     },
     "metadata": {},
     "output_type": "display_data"
    },
    {
     "name": "stdout",
     "output_type": "stream",
     "text": [
      "C <=> 0.001: 0.825 +/- 0.009\n"
     ]
    },
    {
     "data": {
      "application/vnd.jupyter.widget-view+json": {
       "model_id": "bd30ecb563334812afe3216b646e71f2",
       "version_major": 2,
       "version_minor": 0
      },
      "text/plain": [
       "0it [00:00, ?it/s]"
      ]
     },
     "metadata": {},
     "output_type": "display_data"
    },
    {
     "name": "stdout",
     "output_type": "stream",
     "text": [
      "C <=> 0.01: 0.84 +/- 0.009\n"
     ]
    },
    {
     "data": {
      "application/vnd.jupyter.widget-view+json": {
       "model_id": "9946a1a66b6845678aec2a172eda5fb3",
       "version_major": 2,
       "version_minor": 0
      },
      "text/plain": [
       "0it [00:00, ?it/s]"
      ]
     },
     "metadata": {},
     "output_type": "display_data"
    },
    {
     "name": "stdout",
     "output_type": "stream",
     "text": [
      "C <=> 0.1: 0.841 +/- 0.008\n"
     ]
    },
    {
     "data": {
      "application/vnd.jupyter.widget-view+json": {
       "model_id": "11e1502253df434bac26a15f68b93a41",
       "version_major": 2,
       "version_minor": 0
      },
      "text/plain": [
       "0it [00:00, ?it/s]"
      ]
     },
     "metadata": {},
     "output_type": "display_data"
    },
    {
     "name": "stdout",
     "output_type": "stream",
     "text": [
      "C <=> 0.5: 0.84 +/- 0.007\n"
     ]
    },
    {
     "data": {
      "application/vnd.jupyter.widget-view+json": {
       "model_id": "5da3e03f62394d17be13c9658698eac7",
       "version_major": 2,
       "version_minor": 0
      },
      "text/plain": [
       "0it [00:00, ?it/s]"
      ]
     },
     "metadata": {},
     "output_type": "display_data"
    },
    {
     "name": "stdout",
     "output_type": "stream",
     "text": [
      "C <=> 1: 0.84 +/- 0.008\n"
     ]
    },
    {
     "data": {
      "application/vnd.jupyter.widget-view+json": {
       "model_id": "e390400ce22749d0928685079ea53537",
       "version_major": 2,
       "version_minor": 0
      },
      "text/plain": [
       "0it [00:00, ?it/s]"
      ]
     },
     "metadata": {},
     "output_type": "display_data"
    },
    {
     "name": "stdout",
     "output_type": "stream",
     "text": [
      "C <=> 5: 0.84 +/- 0.008\n"
     ]
    },
    {
     "data": {
      "application/vnd.jupyter.widget-view+json": {
       "model_id": "6d2e034b856140509c9433808afad951",
       "version_major": 2,
       "version_minor": 0
      },
      "text/plain": [
       "0it [00:00, ?it/s]"
      ]
     },
     "metadata": {},
     "output_type": "display_data"
    },
    {
     "name": "stdout",
     "output_type": "stream",
     "text": [
      "C <=> 10: 0.841 +/- 0.007\n"
     ]
    }
   ],
   "source": [
    "C = [0.001, 0.01, 0.1, 0.5, 1, 5, 10] \n",
    "\n",
    "for c in tqdm(C):\n",
    "    scores = []\n",
    "    \n",
    "    n_split = 5\n",
    "    \n",
    "    # this is a generator\n",
    "    kfolds= KFold(n_splits=n_split, random_state=1, shuffle=True)\n",
    "    \n",
    "    for train_idx, val_idx in tqdm(kfolds.split(df_full_train)):\n",
    "        df_train = df_full_train.iloc[train_idx]\n",
    "        df_val = df_full_train.iloc[val_idx]\n",
    "\n",
    "        y_train = df_train.churn.values\n",
    "        y_val = df_val.churn.values\n",
    "\n",
    "        dv, model = train(df_train, y_train, c)\n",
    "        pred_val = predict(dv, model, df_val)\n",
    "\n",
    "        auc = roc_auc_score(y_val, pred_val)\n",
    "        scores.append(auc)\n",
    "        \n",
    "    print(f\"C <=> {c}: {round(np.array(scores).mean(), 3)} +/- {round(np.array(scores).std(), 3)}\")"
   ]
  },
  {
   "cell_type": "code",
   "execution_count": 319,
   "id": "941c631f",
   "metadata": {},
   "outputs": [
    {
     "data": {
      "text/plain": [
       "[0.8422690770933583,\n",
       " 0.8448818865050988,\n",
       " 0.8325145494681918,\n",
       " 0.8325665888597558,\n",
       " 0.8517029588026732]"
      ]
     },
     "execution_count": 319,
     "metadata": {},
     "output_type": "execute_result"
    }
   ],
   "source": [
    "scores"
   ]
  },
  {
   "cell_type": "markdown",
   "id": "45a04c77",
   "metadata": {},
   "source": [
    "### Final Model\n",
    "\n",
    "Train on the full dataset and test on the test dataset using the parametr `C = 0.1`"
   ]
  },
  {
   "cell_type": "code",
   "execution_count": 320,
   "id": "f41ee286",
   "metadata": {},
   "outputs": [
    {
     "data": {
      "text/plain": [
       "0.8572386167896259"
      ]
     },
     "execution_count": 320,
     "metadata": {},
     "output_type": "execute_result"
    }
   ],
   "source": [
    "dv, model = train(df_full_train, df_full_train.churn, 0.1)\n",
    "pred_test = predict(dv, model, df_test)\n",
    "auc = roc_auc_score(y_test, pred_test)\n",
    "auc"
   ]
  },
  {
   "cell_type": "markdown",
   "id": "9ca3659e",
   "metadata": {},
   "source": [
    "This performs slightly better than the mean auc score of the validation dataset."
   ]
  },
  {
   "cell_type": "markdown",
   "id": "efac6122",
   "metadata": {},
   "source": [
    "# Thank You!!!"
   ]
  }
 ],
 "metadata": {
  "kernelspec": {
   "display_name": "Python 3",
   "language": "python",
   "name": "python3"
  },
  "language_info": {
   "codemirror_mode": {
    "name": "ipython",
    "version": 3
   },
   "file_extension": ".py",
   "mimetype": "text/x-python",
   "name": "python",
   "nbconvert_exporter": "python",
   "pygments_lexer": "ipython3",
   "version": "3.8.8"
  }
 },
 "nbformat": 4,
 "nbformat_minor": 5
}
