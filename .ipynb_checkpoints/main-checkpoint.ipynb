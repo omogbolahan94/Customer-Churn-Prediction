{
 "cells": [
  {
   "cell_type": "markdown",
   "id": "f29abf4c",
   "metadata": {},
   "source": [
    "# Customer Churn Prediction"
   ]
  },
  {
   "cell_type": "markdown",
   "id": "9b0c9cee",
   "metadata": {},
   "source": [
    "The purpose of this project is to predict if a customer will churn or not using classification machine learning model.\n",
    "\n",
    "This model is built a machine learning library: **Scikit-Learn**.\n",
    "\n",
    "Data Source: "
   ]
  },
  {
   "cell_type": "markdown",
   "id": "ec8627da",
   "metadata": {},
   "source": [
    "### Project Plan\n",
    "* Import the useful python libraries\n",
    "* Load the data\n",
    "* Preapre data: data cleaning and consistency in data\n",
    "* Validation framework\n",
    "* Exploratory Data Analysis (EDA): visualization and statistics\n",
    "* Feature Importance: Churn Rate and Risk Ratio\n",
    "* Use linear regression model for price prediction\n",
    "* Evaluate the performance of the model"
   ]
  },
  {
   "cell_type": "markdown",
   "id": "6cdfd746",
   "metadata": {},
   "source": [
    "### Improt Python Libraries"
   ]
  },
  {
   "cell_type": "code",
   "execution_count": 1,
   "id": "b81c52cc",
   "metadata": {},
   "outputs": [],
   "source": [
    "import numpy as np\n",
    "import pandas as pd\n",
    "import matplotlib.pyplot as plt\n",
    "import seaborn as sns\n",
    "\n",
    "%matplotlib inline"
   ]
  },
  {
   "cell_type": "markdown",
   "id": "11c5477a",
   "metadata": {},
   "source": [
    "### Load the data"
   ]
  },
  {
   "cell_type": "code",
   "execution_count": 86,
   "id": "48452d69",
   "metadata": {},
   "outputs": [],
   "source": [
    "df = pd.read_csv('Telco-Customer-Churn.csv')"
   ]
  },
  {
   "cell_type": "code",
   "execution_count": 87,
   "id": "1144f0ac",
   "metadata": {},
   "outputs": [
    {
     "data": {
      "text/html": [
       "<div>\n",
       "<style scoped>\n",
       "    .dataframe tbody tr th:only-of-type {\n",
       "        vertical-align: middle;\n",
       "    }\n",
       "\n",
       "    .dataframe tbody tr th {\n",
       "        vertical-align: top;\n",
       "    }\n",
       "\n",
       "    .dataframe thead th {\n",
       "        text-align: right;\n",
       "    }\n",
       "</style>\n",
       "<table border=\"1\" class=\"dataframe\">\n",
       "  <thead>\n",
       "    <tr style=\"text-align: right;\">\n",
       "      <th></th>\n",
       "      <th>customerID</th>\n",
       "      <th>gender</th>\n",
       "      <th>SeniorCitizen</th>\n",
       "      <th>Partner</th>\n",
       "      <th>Dependents</th>\n",
       "      <th>tenure</th>\n",
       "      <th>PhoneService</th>\n",
       "      <th>MultipleLines</th>\n",
       "      <th>InternetService</th>\n",
       "      <th>OnlineSecurity</th>\n",
       "      <th>...</th>\n",
       "      <th>DeviceProtection</th>\n",
       "      <th>TechSupport</th>\n",
       "      <th>StreamingTV</th>\n",
       "      <th>StreamingMovies</th>\n",
       "      <th>Contract</th>\n",
       "      <th>PaperlessBilling</th>\n",
       "      <th>PaymentMethod</th>\n",
       "      <th>MonthlyCharges</th>\n",
       "      <th>TotalCharges</th>\n",
       "      <th>Churn</th>\n",
       "    </tr>\n",
       "  </thead>\n",
       "  <tbody>\n",
       "    <tr>\n",
       "      <th>0</th>\n",
       "      <td>7590-VHVEG</td>\n",
       "      <td>Female</td>\n",
       "      <td>0</td>\n",
       "      <td>Yes</td>\n",
       "      <td>No</td>\n",
       "      <td>1</td>\n",
       "      <td>No</td>\n",
       "      <td>No phone service</td>\n",
       "      <td>DSL</td>\n",
       "      <td>No</td>\n",
       "      <td>...</td>\n",
       "      <td>No</td>\n",
       "      <td>No</td>\n",
       "      <td>No</td>\n",
       "      <td>No</td>\n",
       "      <td>Month-to-month</td>\n",
       "      <td>Yes</td>\n",
       "      <td>Electronic check</td>\n",
       "      <td>29.85</td>\n",
       "      <td>29.85</td>\n",
       "      <td>No</td>\n",
       "    </tr>\n",
       "    <tr>\n",
       "      <th>1</th>\n",
       "      <td>5575-GNVDE</td>\n",
       "      <td>Male</td>\n",
       "      <td>0</td>\n",
       "      <td>No</td>\n",
       "      <td>No</td>\n",
       "      <td>34</td>\n",
       "      <td>Yes</td>\n",
       "      <td>No</td>\n",
       "      <td>DSL</td>\n",
       "      <td>Yes</td>\n",
       "      <td>...</td>\n",
       "      <td>Yes</td>\n",
       "      <td>No</td>\n",
       "      <td>No</td>\n",
       "      <td>No</td>\n",
       "      <td>One year</td>\n",
       "      <td>No</td>\n",
       "      <td>Mailed check</td>\n",
       "      <td>56.95</td>\n",
       "      <td>1889.5</td>\n",
       "      <td>No</td>\n",
       "    </tr>\n",
       "    <tr>\n",
       "      <th>2</th>\n",
       "      <td>3668-QPYBK</td>\n",
       "      <td>Male</td>\n",
       "      <td>0</td>\n",
       "      <td>No</td>\n",
       "      <td>No</td>\n",
       "      <td>2</td>\n",
       "      <td>Yes</td>\n",
       "      <td>No</td>\n",
       "      <td>DSL</td>\n",
       "      <td>Yes</td>\n",
       "      <td>...</td>\n",
       "      <td>No</td>\n",
       "      <td>No</td>\n",
       "      <td>No</td>\n",
       "      <td>No</td>\n",
       "      <td>Month-to-month</td>\n",
       "      <td>Yes</td>\n",
       "      <td>Mailed check</td>\n",
       "      <td>53.85</td>\n",
       "      <td>108.15</td>\n",
       "      <td>Yes</td>\n",
       "    </tr>\n",
       "    <tr>\n",
       "      <th>3</th>\n",
       "      <td>7795-CFOCW</td>\n",
       "      <td>Male</td>\n",
       "      <td>0</td>\n",
       "      <td>No</td>\n",
       "      <td>No</td>\n",
       "      <td>45</td>\n",
       "      <td>No</td>\n",
       "      <td>No phone service</td>\n",
       "      <td>DSL</td>\n",
       "      <td>Yes</td>\n",
       "      <td>...</td>\n",
       "      <td>Yes</td>\n",
       "      <td>Yes</td>\n",
       "      <td>No</td>\n",
       "      <td>No</td>\n",
       "      <td>One year</td>\n",
       "      <td>No</td>\n",
       "      <td>Bank transfer (automatic)</td>\n",
       "      <td>42.30</td>\n",
       "      <td>1840.75</td>\n",
       "      <td>No</td>\n",
       "    </tr>\n",
       "    <tr>\n",
       "      <th>4</th>\n",
       "      <td>9237-HQITU</td>\n",
       "      <td>Female</td>\n",
       "      <td>0</td>\n",
       "      <td>No</td>\n",
       "      <td>No</td>\n",
       "      <td>2</td>\n",
       "      <td>Yes</td>\n",
       "      <td>No</td>\n",
       "      <td>Fiber optic</td>\n",
       "      <td>No</td>\n",
       "      <td>...</td>\n",
       "      <td>No</td>\n",
       "      <td>No</td>\n",
       "      <td>No</td>\n",
       "      <td>No</td>\n",
       "      <td>Month-to-month</td>\n",
       "      <td>Yes</td>\n",
       "      <td>Electronic check</td>\n",
       "      <td>70.70</td>\n",
       "      <td>151.65</td>\n",
       "      <td>Yes</td>\n",
       "    </tr>\n",
       "  </tbody>\n",
       "</table>\n",
       "<p>5 rows × 21 columns</p>\n",
       "</div>"
      ],
      "text/plain": [
       "   customerID  gender  SeniorCitizen Partner Dependents  tenure PhoneService  \\\n",
       "0  7590-VHVEG  Female              0     Yes         No       1           No   \n",
       "1  5575-GNVDE    Male              0      No         No      34          Yes   \n",
       "2  3668-QPYBK    Male              0      No         No       2          Yes   \n",
       "3  7795-CFOCW    Male              0      No         No      45           No   \n",
       "4  9237-HQITU  Female              0      No         No       2          Yes   \n",
       "\n",
       "      MultipleLines InternetService OnlineSecurity  ... DeviceProtection  \\\n",
       "0  No phone service             DSL             No  ...               No   \n",
       "1                No             DSL            Yes  ...              Yes   \n",
       "2                No             DSL            Yes  ...               No   \n",
       "3  No phone service             DSL            Yes  ...              Yes   \n",
       "4                No     Fiber optic             No  ...               No   \n",
       "\n",
       "  TechSupport StreamingTV StreamingMovies        Contract PaperlessBilling  \\\n",
       "0          No          No              No  Month-to-month              Yes   \n",
       "1          No          No              No        One year               No   \n",
       "2          No          No              No  Month-to-month              Yes   \n",
       "3         Yes          No              No        One year               No   \n",
       "4          No          No              No  Month-to-month              Yes   \n",
       "\n",
       "               PaymentMethod MonthlyCharges  TotalCharges Churn  \n",
       "0           Electronic check          29.85         29.85    No  \n",
       "1               Mailed check          56.95        1889.5    No  \n",
       "2               Mailed check          53.85        108.15   Yes  \n",
       "3  Bank transfer (automatic)          42.30       1840.75    No  \n",
       "4           Electronic check          70.70        151.65   Yes  \n",
       "\n",
       "[5 rows x 21 columns]"
      ]
     },
     "execution_count": 87,
     "metadata": {},
     "output_type": "execute_result"
    }
   ],
   "source": [
    "df.head()"
   ]
  },
  {
   "cell_type": "code",
   "execution_count": 88,
   "id": "c559bcff",
   "metadata": {},
   "outputs": [
    {
     "data": {
      "text/html": [
       "<div>\n",
       "<style scoped>\n",
       "    .dataframe tbody tr th:only-of-type {\n",
       "        vertical-align: middle;\n",
       "    }\n",
       "\n",
       "    .dataframe tbody tr th {\n",
       "        vertical-align: top;\n",
       "    }\n",
       "\n",
       "    .dataframe thead th {\n",
       "        text-align: right;\n",
       "    }\n",
       "</style>\n",
       "<table border=\"1\" class=\"dataframe\">\n",
       "  <thead>\n",
       "    <tr style=\"text-align: right;\">\n",
       "      <th></th>\n",
       "      <th>0</th>\n",
       "      <th>1</th>\n",
       "      <th>2</th>\n",
       "      <th>3</th>\n",
       "      <th>4</th>\n",
       "    </tr>\n",
       "  </thead>\n",
       "  <tbody>\n",
       "    <tr>\n",
       "      <th>customerID</th>\n",
       "      <td>7590-VHVEG</td>\n",
       "      <td>5575-GNVDE</td>\n",
       "      <td>3668-QPYBK</td>\n",
       "      <td>7795-CFOCW</td>\n",
       "      <td>9237-HQITU</td>\n",
       "    </tr>\n",
       "    <tr>\n",
       "      <th>gender</th>\n",
       "      <td>Female</td>\n",
       "      <td>Male</td>\n",
       "      <td>Male</td>\n",
       "      <td>Male</td>\n",
       "      <td>Female</td>\n",
       "    </tr>\n",
       "    <tr>\n",
       "      <th>SeniorCitizen</th>\n",
       "      <td>0</td>\n",
       "      <td>0</td>\n",
       "      <td>0</td>\n",
       "      <td>0</td>\n",
       "      <td>0</td>\n",
       "    </tr>\n",
       "    <tr>\n",
       "      <th>Partner</th>\n",
       "      <td>Yes</td>\n",
       "      <td>No</td>\n",
       "      <td>No</td>\n",
       "      <td>No</td>\n",
       "      <td>No</td>\n",
       "    </tr>\n",
       "    <tr>\n",
       "      <th>Dependents</th>\n",
       "      <td>No</td>\n",
       "      <td>No</td>\n",
       "      <td>No</td>\n",
       "      <td>No</td>\n",
       "      <td>No</td>\n",
       "    </tr>\n",
       "    <tr>\n",
       "      <th>tenure</th>\n",
       "      <td>1</td>\n",
       "      <td>34</td>\n",
       "      <td>2</td>\n",
       "      <td>45</td>\n",
       "      <td>2</td>\n",
       "    </tr>\n",
       "    <tr>\n",
       "      <th>PhoneService</th>\n",
       "      <td>No</td>\n",
       "      <td>Yes</td>\n",
       "      <td>Yes</td>\n",
       "      <td>No</td>\n",
       "      <td>Yes</td>\n",
       "    </tr>\n",
       "    <tr>\n",
       "      <th>MultipleLines</th>\n",
       "      <td>No phone service</td>\n",
       "      <td>No</td>\n",
       "      <td>No</td>\n",
       "      <td>No phone service</td>\n",
       "      <td>No</td>\n",
       "    </tr>\n",
       "    <tr>\n",
       "      <th>InternetService</th>\n",
       "      <td>DSL</td>\n",
       "      <td>DSL</td>\n",
       "      <td>DSL</td>\n",
       "      <td>DSL</td>\n",
       "      <td>Fiber optic</td>\n",
       "    </tr>\n",
       "    <tr>\n",
       "      <th>OnlineSecurity</th>\n",
       "      <td>No</td>\n",
       "      <td>Yes</td>\n",
       "      <td>Yes</td>\n",
       "      <td>Yes</td>\n",
       "      <td>No</td>\n",
       "    </tr>\n",
       "    <tr>\n",
       "      <th>OnlineBackup</th>\n",
       "      <td>Yes</td>\n",
       "      <td>No</td>\n",
       "      <td>Yes</td>\n",
       "      <td>No</td>\n",
       "      <td>No</td>\n",
       "    </tr>\n",
       "    <tr>\n",
       "      <th>DeviceProtection</th>\n",
       "      <td>No</td>\n",
       "      <td>Yes</td>\n",
       "      <td>No</td>\n",
       "      <td>Yes</td>\n",
       "      <td>No</td>\n",
       "    </tr>\n",
       "    <tr>\n",
       "      <th>TechSupport</th>\n",
       "      <td>No</td>\n",
       "      <td>No</td>\n",
       "      <td>No</td>\n",
       "      <td>Yes</td>\n",
       "      <td>No</td>\n",
       "    </tr>\n",
       "    <tr>\n",
       "      <th>StreamingTV</th>\n",
       "      <td>No</td>\n",
       "      <td>No</td>\n",
       "      <td>No</td>\n",
       "      <td>No</td>\n",
       "      <td>No</td>\n",
       "    </tr>\n",
       "    <tr>\n",
       "      <th>StreamingMovies</th>\n",
       "      <td>No</td>\n",
       "      <td>No</td>\n",
       "      <td>No</td>\n",
       "      <td>No</td>\n",
       "      <td>No</td>\n",
       "    </tr>\n",
       "    <tr>\n",
       "      <th>Contract</th>\n",
       "      <td>Month-to-month</td>\n",
       "      <td>One year</td>\n",
       "      <td>Month-to-month</td>\n",
       "      <td>One year</td>\n",
       "      <td>Month-to-month</td>\n",
       "    </tr>\n",
       "    <tr>\n",
       "      <th>PaperlessBilling</th>\n",
       "      <td>Yes</td>\n",
       "      <td>No</td>\n",
       "      <td>Yes</td>\n",
       "      <td>No</td>\n",
       "      <td>Yes</td>\n",
       "    </tr>\n",
       "    <tr>\n",
       "      <th>PaymentMethod</th>\n",
       "      <td>Electronic check</td>\n",
       "      <td>Mailed check</td>\n",
       "      <td>Mailed check</td>\n",
       "      <td>Bank transfer (automatic)</td>\n",
       "      <td>Electronic check</td>\n",
       "    </tr>\n",
       "    <tr>\n",
       "      <th>MonthlyCharges</th>\n",
       "      <td>29.85</td>\n",
       "      <td>56.95</td>\n",
       "      <td>53.85</td>\n",
       "      <td>42.3</td>\n",
       "      <td>70.7</td>\n",
       "    </tr>\n",
       "    <tr>\n",
       "      <th>TotalCharges</th>\n",
       "      <td>29.85</td>\n",
       "      <td>1889.5</td>\n",
       "      <td>108.15</td>\n",
       "      <td>1840.75</td>\n",
       "      <td>151.65</td>\n",
       "    </tr>\n",
       "    <tr>\n",
       "      <th>Churn</th>\n",
       "      <td>No</td>\n",
       "      <td>No</td>\n",
       "      <td>Yes</td>\n",
       "      <td>No</td>\n",
       "      <td>Yes</td>\n",
       "    </tr>\n",
       "  </tbody>\n",
       "</table>\n",
       "</div>"
      ],
      "text/plain": [
       "                                 0             1               2  \\\n",
       "customerID              7590-VHVEG    5575-GNVDE      3668-QPYBK   \n",
       "gender                      Female          Male            Male   \n",
       "SeniorCitizen                    0             0               0   \n",
       "Partner                        Yes            No              No   \n",
       "Dependents                      No            No              No   \n",
       "tenure                           1            34               2   \n",
       "PhoneService                    No           Yes             Yes   \n",
       "MultipleLines     No phone service            No              No   \n",
       "InternetService                DSL           DSL             DSL   \n",
       "OnlineSecurity                  No           Yes             Yes   \n",
       "OnlineBackup                   Yes            No             Yes   \n",
       "DeviceProtection                No           Yes              No   \n",
       "TechSupport                     No            No              No   \n",
       "StreamingTV                     No            No              No   \n",
       "StreamingMovies                 No            No              No   \n",
       "Contract            Month-to-month      One year  Month-to-month   \n",
       "PaperlessBilling               Yes            No             Yes   \n",
       "PaymentMethod     Electronic check  Mailed check    Mailed check   \n",
       "MonthlyCharges               29.85         56.95           53.85   \n",
       "TotalCharges                 29.85        1889.5          108.15   \n",
       "Churn                           No            No             Yes   \n",
       "\n",
       "                                          3                 4  \n",
       "customerID                       7795-CFOCW        9237-HQITU  \n",
       "gender                                 Male            Female  \n",
       "SeniorCitizen                             0                 0  \n",
       "Partner                                  No                No  \n",
       "Dependents                               No                No  \n",
       "tenure                                   45                 2  \n",
       "PhoneService                             No               Yes  \n",
       "MultipleLines              No phone service                No  \n",
       "InternetService                         DSL       Fiber optic  \n",
       "OnlineSecurity                          Yes                No  \n",
       "OnlineBackup                             No                No  \n",
       "DeviceProtection                        Yes                No  \n",
       "TechSupport                             Yes                No  \n",
       "StreamingTV                              No                No  \n",
       "StreamingMovies                          No                No  \n",
       "Contract                           One year    Month-to-month  \n",
       "PaperlessBilling                         No               Yes  \n",
       "PaymentMethod     Bank transfer (automatic)  Electronic check  \n",
       "MonthlyCharges                         42.3              70.7  \n",
       "TotalCharges                        1840.75            151.65  \n",
       "Churn                                    No               Yes  "
      ]
     },
     "execution_count": 88,
     "metadata": {},
     "output_type": "execute_result"
    }
   ],
   "source": [
    "df.head().T"
   ]
  },
  {
   "cell_type": "markdown",
   "id": "27d6b631",
   "metadata": {},
   "source": [
    "### Data Preparation"
   ]
  },
  {
   "cell_type": "markdown",
   "id": "1db7b7ef",
   "metadata": {},
   "source": [
    "###### Ensure all are in lower case and replaces every spaces with underscore"
   ]
  },
  {
   "cell_type": "code",
   "execution_count": 89,
   "id": "f4b9e92a",
   "metadata": {},
   "outputs": [],
   "source": [
    "df.columns = df.columns.str.lower().str.replace(' ', '_')"
   ]
  },
  {
   "cell_type": "markdown",
   "id": "2794f276",
   "metadata": {},
   "source": [
    "###### Ensure all values in each non-numerical columns are consistent: change to lower case"
   ]
  },
  {
   "cell_type": "code",
   "execution_count": 90,
   "id": "9662373f",
   "metadata": {},
   "outputs": [
    {
     "data": {
      "text/plain": [
       "['customerid',\n",
       " 'gender',\n",
       " 'partner',\n",
       " 'dependents',\n",
       " 'phoneservice',\n",
       " 'multiplelines',\n",
       " 'internetservice',\n",
       " 'onlinesecurity',\n",
       " 'onlinebackup',\n",
       " 'deviceprotection',\n",
       " 'techsupport',\n",
       " 'streamingtv',\n",
       " 'streamingmovies',\n",
       " 'contract',\n",
       " 'paperlessbilling',\n",
       " 'paymentmethod',\n",
       " 'totalcharges',\n",
       " 'churn']"
      ]
     },
     "execution_count": 90,
     "metadata": {},
     "output_type": "execute_result"
    }
   ],
   "source": [
    "strings_col = list(df.dtypes[df.dtypes == 'object'].index)\n",
    "strings_col"
   ]
  },
  {
   "cell_type": "code",
   "execution_count": 91,
   "id": "a34f56b9",
   "metadata": {},
   "outputs": [],
   "source": [
    "# the input of thelambda function is a series when apply function is used on a dataframe\n",
    "df = df.apply(lambda x: x.str.lower() if x.name in strings_col else x)"
   ]
  },
  {
   "cell_type": "code",
   "execution_count": 92,
   "id": "4fd6dc1d",
   "metadata": {},
   "outputs": [
    {
     "data": {
      "text/html": [
       "<div>\n",
       "<style scoped>\n",
       "    .dataframe tbody tr th:only-of-type {\n",
       "        vertical-align: middle;\n",
       "    }\n",
       "\n",
       "    .dataframe tbody tr th {\n",
       "        vertical-align: top;\n",
       "    }\n",
       "\n",
       "    .dataframe thead th {\n",
       "        text-align: right;\n",
       "    }\n",
       "</style>\n",
       "<table border=\"1\" class=\"dataframe\">\n",
       "  <thead>\n",
       "    <tr style=\"text-align: right;\">\n",
       "      <th></th>\n",
       "      <th>0</th>\n",
       "      <th>1</th>\n",
       "    </tr>\n",
       "  </thead>\n",
       "  <tbody>\n",
       "    <tr>\n",
       "      <th>customerid</th>\n",
       "      <td>7590-vhveg</td>\n",
       "      <td>5575-gnvde</td>\n",
       "    </tr>\n",
       "    <tr>\n",
       "      <th>gender</th>\n",
       "      <td>female</td>\n",
       "      <td>male</td>\n",
       "    </tr>\n",
       "    <tr>\n",
       "      <th>seniorcitizen</th>\n",
       "      <td>0</td>\n",
       "      <td>0</td>\n",
       "    </tr>\n",
       "    <tr>\n",
       "      <th>partner</th>\n",
       "      <td>yes</td>\n",
       "      <td>no</td>\n",
       "    </tr>\n",
       "    <tr>\n",
       "      <th>dependents</th>\n",
       "      <td>no</td>\n",
       "      <td>no</td>\n",
       "    </tr>\n",
       "    <tr>\n",
       "      <th>tenure</th>\n",
       "      <td>1</td>\n",
       "      <td>34</td>\n",
       "    </tr>\n",
       "    <tr>\n",
       "      <th>phoneservice</th>\n",
       "      <td>no</td>\n",
       "      <td>yes</td>\n",
       "    </tr>\n",
       "    <tr>\n",
       "      <th>multiplelines</th>\n",
       "      <td>no phone service</td>\n",
       "      <td>no</td>\n",
       "    </tr>\n",
       "    <tr>\n",
       "      <th>internetservice</th>\n",
       "      <td>dsl</td>\n",
       "      <td>dsl</td>\n",
       "    </tr>\n",
       "    <tr>\n",
       "      <th>onlinesecurity</th>\n",
       "      <td>no</td>\n",
       "      <td>yes</td>\n",
       "    </tr>\n",
       "    <tr>\n",
       "      <th>onlinebackup</th>\n",
       "      <td>yes</td>\n",
       "      <td>no</td>\n",
       "    </tr>\n",
       "    <tr>\n",
       "      <th>deviceprotection</th>\n",
       "      <td>no</td>\n",
       "      <td>yes</td>\n",
       "    </tr>\n",
       "    <tr>\n",
       "      <th>techsupport</th>\n",
       "      <td>no</td>\n",
       "      <td>no</td>\n",
       "    </tr>\n",
       "    <tr>\n",
       "      <th>streamingtv</th>\n",
       "      <td>no</td>\n",
       "      <td>no</td>\n",
       "    </tr>\n",
       "    <tr>\n",
       "      <th>streamingmovies</th>\n",
       "      <td>no</td>\n",
       "      <td>no</td>\n",
       "    </tr>\n",
       "    <tr>\n",
       "      <th>contract</th>\n",
       "      <td>month-to-month</td>\n",
       "      <td>one year</td>\n",
       "    </tr>\n",
       "    <tr>\n",
       "      <th>paperlessbilling</th>\n",
       "      <td>yes</td>\n",
       "      <td>no</td>\n",
       "    </tr>\n",
       "    <tr>\n",
       "      <th>paymentmethod</th>\n",
       "      <td>electronic check</td>\n",
       "      <td>mailed check</td>\n",
       "    </tr>\n",
       "    <tr>\n",
       "      <th>monthlycharges</th>\n",
       "      <td>29.85</td>\n",
       "      <td>56.95</td>\n",
       "    </tr>\n",
       "    <tr>\n",
       "      <th>totalcharges</th>\n",
       "      <td>29.85</td>\n",
       "      <td>1889.5</td>\n",
       "    </tr>\n",
       "    <tr>\n",
       "      <th>churn</th>\n",
       "      <td>no</td>\n",
       "      <td>no</td>\n",
       "    </tr>\n",
       "  </tbody>\n",
       "</table>\n",
       "</div>"
      ],
      "text/plain": [
       "                                 0             1\n",
       "customerid              7590-vhveg    5575-gnvde\n",
       "gender                      female          male\n",
       "seniorcitizen                    0             0\n",
       "partner                        yes            no\n",
       "dependents                      no            no\n",
       "tenure                           1            34\n",
       "phoneservice                    no           yes\n",
       "multiplelines     no phone service            no\n",
       "internetservice                dsl           dsl\n",
       "onlinesecurity                  no           yes\n",
       "onlinebackup                   yes            no\n",
       "deviceprotection                no           yes\n",
       "techsupport                     no            no\n",
       "streamingtv                     no            no\n",
       "streamingmovies                 no            no\n",
       "contract            month-to-month      one year\n",
       "paperlessbilling               yes            no\n",
       "paymentmethod     electronic check  mailed check\n",
       "monthlycharges               29.85         56.95\n",
       "totalcharges                 29.85        1889.5\n",
       "churn                           no            no"
      ]
     },
     "execution_count": 92,
     "metadata": {},
     "output_type": "execute_result"
    }
   ],
   "source": [
    "df.head(2).T"
   ]
  },
  {
   "cell_type": "markdown",
   "id": "81af9a4a",
   "metadata": {},
   "source": [
    "###### Data Integrity"
   ]
  },
  {
   "cell_type": "code",
   "execution_count": 93,
   "id": "490a71c5",
   "metadata": {},
   "outputs": [
    {
     "data": {
      "text/plain": [
       "customerid           object\n",
       "gender               object\n",
       "seniorcitizen         int64\n",
       "partner              object\n",
       "dependents           object\n",
       "tenure                int64\n",
       "phoneservice         object\n",
       "multiplelines        object\n",
       "internetservice      object\n",
       "onlinesecurity       object\n",
       "onlinebackup         object\n",
       "deviceprotection     object\n",
       "techsupport          object\n",
       "streamingtv          object\n",
       "streamingmovies      object\n",
       "contract             object\n",
       "paperlessbilling     object\n",
       "paymentmethod        object\n",
       "monthlycharges      float64\n",
       "totalcharges         object\n",
       "churn                object\n",
       "dtype: object"
      ]
     },
     "execution_count": 93,
     "metadata": {},
     "output_type": "execute_result"
    }
   ],
   "source": [
    "df.dtypes"
   ]
  },
  {
   "cell_type": "markdown",
   "id": "380a3840",
   "metadata": {},
   "source": [
    "I couldnt convert the `totalcharges` column to numerical type because some of its values are empty value like ' '"
   ]
  },
  {
   "cell_type": "code",
   "execution_count": 94,
   "id": "8f4accb4",
   "metadata": {},
   "outputs": [],
   "source": [
    "# total charges is an object type but holds numerical values: convert it\n",
    "df['totalcharges'] = pd.to_numeric(df['totalcharges'], errors='coerce')"
   ]
  },
  {
   "cell_type": "code",
   "execution_count": 95,
   "id": "3e0cc211",
   "metadata": {},
   "outputs": [],
   "source": [
    "# fill the missing values with zeroes:\n",
    "df['totalcharges'] = df['totalcharges'].fillna(0)"
   ]
  },
  {
   "cell_type": "markdown",
   "id": "2bda9c18",
   "metadata": {},
   "source": [
    "###### Convert the churn variable to numerical type"
   ]
  },
  {
   "cell_type": "code",
   "execution_count": 96,
   "id": "b498dc55",
   "metadata": {},
   "outputs": [],
   "source": [
    "# let yes be 1\n",
    "df['churn'] = (df['churn'] == 'yes').astype('int')"
   ]
  },
  {
   "cell_type": "markdown",
   "id": "c48ba7e5",
   "metadata": {},
   "source": [
    "### Validation Framework\n",
    "\n",
    "* Split the data into train, validation and test set using scikit-learn"
   ]
  },
  {
   "cell_type": "code",
   "execution_count": 97,
   "id": "14316769",
   "metadata": {},
   "outputs": [],
   "source": [
    "from sklearn.model_selection import train_test_split"
   ]
  },
  {
   "cell_type": "code",
   "execution_count": 98,
   "id": "36352b3f",
   "metadata": {},
   "outputs": [],
   "source": [
    "df_full_train, df_test = train_test_split(df, test_size=0.2, random_state=1)"
   ]
  },
  {
   "cell_type": "code",
   "execution_count": 99,
   "id": "0cffc7d9",
   "metadata": {},
   "outputs": [],
   "source": [
    "# splitting the df_full_train into train and validation set:\n",
    "# the validation set is 20% of the whole dataset, which is 25% of the df_full_train\n",
    "\n",
    "df_train, df_val = train_test_split(df_full_train, test_size=0.25, random_state=1)"
   ]
  },
  {
   "cell_type": "code",
   "execution_count": 100,
   "id": "61e9d07e",
   "metadata": {},
   "outputs": [
    {
     "data": {
      "text/plain": [
       "(4225, 1409, 1409)"
      ]
     },
     "execution_count": 100,
     "metadata": {},
     "output_type": "execute_result"
    }
   ],
   "source": [
    "len(df_train), len(df_val), len(df_test)"
   ]
  },
  {
   "cell_type": "code",
   "execution_count": 101,
   "id": "8f1925cd",
   "metadata": {},
   "outputs": [],
   "source": [
    "# obtain the churn values for train, val and test set\n",
    "y_train = df_train['churn']\n",
    "y_val = df_val['churn']\n",
    "y_test = df_test['churn']"
   ]
  },
  {
   "cell_type": "code",
   "execution_count": 102,
   "id": "001f43ab",
   "metadata": {},
   "outputs": [
    {
     "name": "stderr",
     "output_type": "stream",
     "text": [
      "C:\\Users\\USER\\anaconda3\\lib\\site-packages\\pandas\\core\\frame.py:4308: SettingWithCopyWarning: \n",
      "A value is trying to be set on a copy of a slice from a DataFrame\n",
      "\n",
      "See the caveats in the documentation: https://pandas.pydata.org/pandas-docs/stable/user_guide/indexing.html#returning-a-view-versus-a-copy\n",
      "  return super().drop(\n"
     ]
    }
   ],
   "source": [
    "# delete the churn variables from the train, val and test set set\n",
    "df_train.drop('churn', axis=1, inplace=True)\n",
    "df_val.drop('churn', axis=1, inplace=True)\n",
    "df_test.drop('churn', axis=1, inplace=True)"
   ]
  },
  {
   "cell_type": "markdown",
   "id": "fb3a7f74",
   "metadata": {},
   "source": [
    "### Exploratory Data Analysis\n",
    "* check for missing values\n",
    "* Look at the targte variables (churn)\n",
    "* Look at numerical and categorical variables"
   ]
  },
  {
   "cell_type": "code",
   "execution_count": 103,
   "id": "26343cb8",
   "metadata": {},
   "outputs": [],
   "source": [
    "# using the df_full_train: combination of train and validation set\n",
    "df_full_train = df_full_train.reset_index(drop=True)"
   ]
  },
  {
   "cell_type": "markdown",
   "id": "98701943",
   "metadata": {},
   "source": [
    "###### Check for missing values"
   ]
  },
  {
   "cell_type": "code",
   "execution_count": 104,
   "id": "7e0005be",
   "metadata": {},
   "outputs": [
    {
     "data": {
      "text/plain": [
       "customerid          0\n",
       "gender              0\n",
       "seniorcitizen       0\n",
       "partner             0\n",
       "dependents          0\n",
       "tenure              0\n",
       "phoneservice        0\n",
       "multiplelines       0\n",
       "internetservice     0\n",
       "onlinesecurity      0\n",
       "onlinebackup        0\n",
       "deviceprotection    0\n",
       "techsupport         0\n",
       "streamingtv         0\n",
       "streamingmovies     0\n",
       "contract            0\n",
       "paperlessbilling    0\n",
       "paymentmethod       0\n",
       "monthlycharges      0\n",
       "totalcharges        0\n",
       "churn               0\n",
       "dtype: int64"
      ]
     },
     "execution_count": 104,
     "metadata": {},
     "output_type": "execute_result"
    }
   ],
   "source": [
    "df_full_train.isna().sum()"
   ]
  },
  {
   "cell_type": "markdown",
   "id": "60d5741c",
   "metadata": {},
   "source": [
    "There is nomissing values in the dataset"
   ]
  },
  {
   "cell_type": "markdown",
   "id": "158d50ce",
   "metadata": {},
   "source": [
    "###### Distribution of the churning data"
   ]
  },
  {
   "cell_type": "code",
   "execution_count": 124,
   "id": "4d89773d",
   "metadata": {},
   "outputs": [
    {
     "data": {
      "text/plain": [
       "0    4113\n",
       "1    1521\n",
       "Name: churn, dtype: int64"
      ]
     },
     "execution_count": 124,
     "metadata": {},
     "output_type": "execute_result"
    }
   ],
   "source": [
    "# churn rate\n",
    "churn_count = df_full_train['churn'].value_counts()\n",
    "churn_count"
   ]
  },
  {
   "cell_type": "code",
   "execution_count": 131,
   "id": "95207d94",
   "metadata": {},
   "outputs": [
    {
     "data": {
      "image/png": "[encoded data removed]",
      "text/plain": [
       "<Figure size 432x288 with 1 Axes>"
      ]
     },
     "metadata": {
      "needs_background": "light"
     },
     "output_type": "display_data"
    }
   ],
   "source": [
    "ax = sns.barplot(x=churn_count.index, y=churn_count.values)\n",
    "plt.show()"
   ]
  },
  {
   "cell_type": "markdown",
   "id": "98abc9a1",
   "metadata": {},
   "source": [
    "The numbr of those who churn from the available full training set is: `1521`"
   ]
  },
  {
   "cell_type": "markdown",
   "id": "51b5cfbf",
   "metadata": {},
   "source": [
    "###### Get the numerical and categorical column"
   ]
  },
  {
   "cell_type": "code",
   "execution_count": 107,
   "id": "9842729e",
   "metadata": {},
   "outputs": [
    {
     "data": {
      "text/plain": [
       "customerid           object\n",
       "gender               object\n",
       "seniorcitizen         int64\n",
       "partner              object\n",
       "dependents           object\n",
       "tenure                int64\n",
       "phoneservice         object\n",
       "multiplelines        object\n",
       "internetservice      object\n",
       "onlinesecurity       object\n",
       "onlinebackup         object\n",
       "deviceprotection     object\n",
       "techsupport          object\n",
       "streamingtv          object\n",
       "streamingmovies      object\n",
       "contract             object\n",
       "paperlessbilling     object\n",
       "paymentmethod        object\n",
       "monthlycharges      float64\n",
       "totalcharges        float64\n",
       "churn                 int32\n",
       "dtype: object"
      ]
     },
     "execution_count": 107,
     "metadata": {},
     "output_type": "execute_result"
    }
   ],
   "source": [
    "df_full_train.dtypes"
   ]
  },
  {
   "cell_type": "code",
   "execution_count": 115,
   "id": "6c8a1339",
   "metadata": {},
   "outputs": [
    {
     "data": {
      "text/plain": [
       "Index(['seniorcitizen', 'tenure', 'monthlycharges', 'totalcharges', 'churn'], dtype='object')"
      ]
     },
     "execution_count": 115,
     "metadata": {},
     "output_type": "execute_result"
    }
   ],
   "source": [
    "df_full_train.dtypes[df_full_train.dtypes != 'object'].index"
   ]
  },
  {
   "cell_type": "code",
   "execution_count": 182,
   "id": "28034b71",
   "metadata": {},
   "outputs": [],
   "source": [
    "# copy and paste the result above and remove the unwanted numerical column: \n",
    "# churn is target and seniorcitizen is categorical\n",
    "numerical = ['tenure', 'monthlycharges', 'totalcharges']"
   ]
  },
  {
   "cell_type": "code",
   "execution_count": 116,
   "id": "bde728e0",
   "metadata": {},
   "outputs": [
    {
     "data": {
      "text/plain": [
       "Index(['customerid', 'gender', 'partner', 'dependents', 'phoneservice',\n",
       "       'multiplelines', 'internetservice', 'onlinesecurity', 'onlinebackup',\n",
       "       'deviceprotection', 'techsupport', 'streamingtv', 'streamingmovies',\n",
       "       'contract', 'paperlessbilling', 'paymentmethod'],\n",
       "      dtype='object')"
      ]
     },
     "execution_count": 116,
     "metadata": {},
     "output_type": "execute_result"
    }
   ],
   "source": [
    "df_full_train.dtypes[df_full_train.dtypes == 'object'].index"
   ]
  },
  {
   "cell_type": "code",
   "execution_count": 117,
   "id": "fb4220a5",
   "metadata": {},
   "outputs": [],
   "source": [
    "categorical = ['gender', 'seniorcitizen', 'partner', 'dependents', 'phoneservice',\n",
    "       'multiplelines', 'internetservice', 'onlinesecurity', 'onlinebackup',\n",
    "       'deviceprotection', 'techsupport', 'streamingtv', 'streamingmovies',\n",
    "       'contract', 'paperlessbilling', 'paymentmethod']"
   ]
  },
  {
   "cell_type": "code",
   "execution_count": 119,
   "id": "3624d86f",
   "metadata": {},
   "outputs": [
    {
     "data": {
      "text/plain": [
       "gender              2\n",
       "seniorcitizen       2\n",
       "partner             2\n",
       "dependents          2\n",
       "phoneservice        2\n",
       "multiplelines       3\n",
       "internetservice     3\n",
       "onlinesecurity      3\n",
       "onlinebackup        3\n",
       "deviceprotection    3\n",
       "techsupport         3\n",
       "streamingtv         3\n",
       "streamingmovies     3\n",
       "contract            3\n",
       "paperlessbilling    2\n",
       "paymentmethod       4\n",
       "dtype: int64"
      ]
     },
     "execution_count": 119,
     "metadata": {},
     "output_type": "execute_result"
    }
   ],
   "source": [
    "# unique values in the categorical features\n",
    "df_full_train[categorical].nunique()"
   ]
  },
  {
   "cell_type": "markdown",
   "id": "b36cadc3",
   "metadata": {},
   "source": [
    "### Feature Importance: Categorical variable\n",
    "\n",
    "Which features affect our target variables\n",
    "\n",
    "* Churn Rate\n",
    "* Risk Ratio\n",
    "* Mutual Information "
   ]
  },
  {
   "cell_type": "markdown",
   "id": "cb446fe5",
   "metadata": {},
   "source": [
    "###### Globsl Churn Rate"
   ]
  },
  {
   "cell_type": "code",
   "execution_count": 146,
   "id": "6ca39d72",
   "metadata": {},
   "outputs": [
    {
     "data": {
      "text/plain": [
       "0.27"
      ]
     },
     "execution_count": 146,
     "metadata": {},
     "output_type": "execute_result"
    }
   ],
   "source": [
    "global_churn_rate = round(df_full_train.churn.mean(), 3)\n",
    "global_churn_rate"
   ]
  },
  {
   "cell_type": "markdown",
   "id": "1ebfe2c5",
   "metadata": {},
   "source": [
    "###### Churn rate wihin each group in each feature"
   ]
  },
  {
   "cell_type": "code",
   "execution_count": 151,
   "id": "ebfebd42",
   "metadata": {},
   "outputs": [
    {
     "name": "stdout",
     "output_type": "stream",
     "text": [
      "******************************\n",
      "gender Churn Rate\n",
      "******************************\n",
      "male: 0.263\n",
      "Difference of churn rate of 'male' category from the global churn rate: 0.007\n",
      "female: 0.277\n",
      "Difference of churn rate of 'female' category from the global churn rate: -0.007\n",
      "\n",
      "******************************\n",
      "seniorcitizen Churn Rate\n",
      "******************************\n",
      "0: 0.242\n",
      "Difference of churn rate of '0' category from the global churn rate: 0.028\n",
      "1: 0.413\n",
      "Difference of churn rate of '1' category from the global churn rate: -0.143\n",
      "\n",
      "******************************\n",
      "partner Churn Rate\n",
      "******************************\n",
      "yes: 0.205\n",
      "Difference of churn rate of 'yes' category from the global churn rate: 0.065\n",
      "no: 0.33\n",
      "Difference of churn rate of 'no' category from the global churn rate: -0.06\n",
      "\n",
      "******************************\n",
      "dependents Churn Rate\n",
      "******************************\n",
      "yes: 0.166\n",
      "Difference of churn rate of 'yes' category from the global churn rate: 0.104\n",
      "no: 0.314\n",
      "Difference of churn rate of 'no' category from the global churn rate: -0.044\n",
      "\n",
      "******************************\n",
      "phoneservice Churn Rate\n",
      "******************************\n",
      "yes: 0.273\n",
      "Difference of churn rate of 'yes' category from the global churn rate: -0.003\n",
      "no: 0.241\n",
      "Difference of churn rate of 'no' category from the global churn rate: 0.029\n",
      "\n",
      "******************************\n",
      "multiplelines Churn Rate\n",
      "******************************\n",
      "no: 0.257\n",
      "Difference of churn rate of 'no' category from the global churn rate: 0.013\n",
      "yes: 0.291\n",
      "Difference of churn rate of 'yes' category from the global churn rate: -0.021\n",
      "no phone service: 0.241\n",
      "Difference of churn rate of 'no phone service' category from the global churn rate: 0.029\n",
      "\n",
      "******************************\n",
      "internetservice Churn Rate\n",
      "******************************\n",
      "no: 0.078\n",
      "Difference of churn rate of 'no' category from the global churn rate: 0.192\n",
      "dsl: 0.192\n",
      "Difference of churn rate of 'dsl' category from the global churn rate: 0.078\n",
      "fiber optic: 0.425\n",
      "Difference of churn rate of 'fiber optic' category from the global churn rate: -0.155\n",
      "\n",
      "******************************\n",
      "onlinesecurity Churn Rate\n",
      "******************************\n",
      "no internet service: 0.078\n",
      "Difference of churn rate of 'no internet service' category from the global churn rate: 0.192\n",
      "yes: 0.153\n",
      "Difference of churn rate of 'yes' category from the global churn rate: 0.117\n",
      "no: 0.421\n",
      "Difference of churn rate of 'no' category from the global churn rate: -0.151\n",
      "\n",
      "******************************\n",
      "onlinebackup Churn Rate\n",
      "******************************\n",
      "no internet service: 0.078\n",
      "Difference of churn rate of 'no internet service' category from the global churn rate: 0.192\n",
      "yes: 0.217\n",
      "Difference of churn rate of 'yes' category from the global churn rate: 0.053\n",
      "no: 0.404\n",
      "Difference of churn rate of 'no' category from the global churn rate: -0.134\n",
      "\n",
      "******************************\n",
      "deviceprotection Churn Rate\n",
      "******************************\n",
      "no internet service: 0.078\n",
      "Difference of churn rate of 'no internet service' category from the global churn rate: 0.192\n",
      "yes: 0.23\n",
      "Difference of churn rate of 'yes' category from the global churn rate: 0.04\n",
      "no: 0.396\n",
      "Difference of churn rate of 'no' category from the global churn rate: -0.126\n",
      "\n",
      "******************************\n",
      "techsupport Churn Rate\n",
      "******************************\n",
      "no internet service: 0.078\n",
      "Difference of churn rate of 'no internet service' category from the global churn rate: 0.192\n",
      "yes: 0.16\n",
      "Difference of churn rate of 'yes' category from the global churn rate: 0.11\n",
      "no: 0.419\n",
      "Difference of churn rate of 'no' category from the global churn rate: -0.149\n",
      "\n",
      "******************************\n",
      "streamingtv Churn Rate\n",
      "******************************\n",
      "no internet service: 0.078\n",
      "Difference of churn rate of 'no internet service' category from the global churn rate: 0.192\n",
      "no: 0.343\n",
      "Difference of churn rate of 'no' category from the global churn rate: -0.073\n",
      "yes: 0.303\n",
      "Difference of churn rate of 'yes' category from the global churn rate: -0.033\n",
      "\n",
      "******************************\n",
      "streamingmovies Churn Rate\n",
      "******************************\n",
      "no internet service: 0.078\n",
      "Difference of churn rate of 'no internet service' category from the global churn rate: 0.192\n",
      "yes: 0.307\n",
      "Difference of churn rate of 'yes' category from the global churn rate: -0.037\n",
      "no: 0.339\n",
      "Difference of churn rate of 'no' category from the global churn rate: -0.069\n",
      "\n",
      "******************************\n",
      "contract Churn Rate\n",
      "******************************\n",
      "two year: 0.028\n",
      "Difference of churn rate of 'two year' category from the global churn rate: 0.242\n",
      "one year: 0.121\n",
      "Difference of churn rate of 'one year' category from the global churn rate: 0.149\n",
      "month-to-month: 0.432\n",
      "Difference of churn rate of 'month-to-month' category from the global churn rate: -0.162\n",
      "\n",
      "******************************\n",
      "paperlessbilling Churn Rate\n",
      "******************************\n",
      "no: 0.172\n",
      "Difference of churn rate of 'no' category from the global churn rate: 0.098\n",
      "yes: 0.338\n",
      "Difference of churn rate of 'yes' category from the global churn rate: -0.068\n",
      "\n",
      "******************************\n",
      "paymentmethod Churn Rate\n",
      "******************************\n",
      "mailed check: 0.194\n",
      "Difference of churn rate of 'mailed check' category from the global churn rate: 0.076\n",
      "credit card (automatic): 0.164\n",
      "Difference of churn rate of 'credit card (automatic)' category from the global churn rate: 0.106\n",
      "bank transfer (automatic): 0.168\n",
      "Difference of churn rate of 'bank transfer (automatic)' category from the global churn rate: 0.102\n",
      "electronic check: 0.456\n",
      "Difference of churn rate of 'electronic check' category from the global churn rate: -0.186\n",
      "\n"
     ]
    }
   ],
   "source": [
    "for cat in categorical:\n",
    "    print('*'*30)\n",
    "    print(f\"{cat} Churn Rate\")\n",
    "    print('*'*30)\n",
    "    for unique in df_full_train[cat].unique():\n",
    "        churn_rate = df_full_train[df_full_train[cat] == unique].churn.mean()\n",
    "        print(f\"{unique}: {round(churn_rate, 3)}\")\n",
    "        print(f\"Difference of churn rate of '{unique}' category from the global churn rate: {round(global_churn_rate - churn_rate, 3)}\")\n",
    "    print(\"\") "
   ]
  },
  {
   "cell_type": "markdown",
   "id": "54713ca5",
   "metadata": {},
   "source": [
    "###### Metrics for Feature Importance*\n",
    "* **Difference:** if `global churn rate` - `group churn rate` < 0, it means the group is more likely to churn.\n",
    "* **Risk Ratio:** if `group churn rate` / `global churn rate` > 1, group is more likely to churn.\n",
    "\n",
    "E.g: People without partner are more likely to churn.\n",
    "\n",
    "The partner feature is more important for predicting churn than the gender variable. Thus is because the difference of the global churn and the partner churn is larger than that of gender churn. Especiafically for those who have partners."
   ]
  },
  {
   "cell_type": "markdown",
   "id": "09e8addc",
   "metadata": {},
   "source": [
    "###### Mutual Information (MI)\n",
    "\n",
    "* MI of two random variables is a measure of the mutual dependence between the two categorical variables. \n",
    "* Higher MI value means more importance\n",
    "* We will use sklearn mutual information metrics to measure the imfortance of features for predicting churn"
   ]
  },
  {
   "cell_type": "code",
   "execution_count": 167,
   "id": "778c25df",
   "metadata": {},
   "outputs": [],
   "source": [
    "from sklearn.metrics import mutual_info_score"
   ]
  },
  {
   "cell_type": "code",
   "execution_count": 176,
   "id": "1fb9b38c",
   "metadata": {},
   "outputs": [
    {
     "data": {
      "text/plain": [
       "contract            0.098320\n",
       "onlinesecurity      0.063085\n",
       "techsupport         0.061032\n",
       "internetservice     0.055868\n",
       "onlinebackup        0.046923\n",
       "deviceprotection    0.043453\n",
       "paymentmethod       0.043210\n",
       "streamingtv         0.031853\n",
       "streamingmovies     0.031581\n",
       "paperlessbilling    0.017589\n",
       "dependents          0.012346\n",
       "partner             0.009968\n",
       "seniorcitizen       0.009410\n",
       "multiplelines       0.000857\n",
       "phoneservice        0.000229\n",
       "gender              0.000117\n",
       "dtype: float64"
      ]
     },
     "execution_count": 176,
     "metadata": {},
     "output_type": "execute_result"
    }
   ],
   "source": [
    "mi = df_full_train[categorical].apply(lambda x: mutual_info_score(df_full_train[x.name], df_full_train.churn))\n",
    "mi.sort_values(ascending=False)"
   ]
  },
  {
   "cell_type": "markdown",
   "id": "b0b3259d",
   "metadata": {},
   "source": [
    "### Feature Improtance: Correlation\n",
    "\n",
    "* Correlations is the metrics for selecting important numerical variables\n",
    "* Correlation coefficient is the measure of dependencies between two variables\n",
    "* Positive correlation: higher the churn rate\n",
    "* Negative correlation: lower the churn rate\n",
    "* Zero correlation: no effect on churn ratedoes not "
   ]
  },
  {
   "cell_type": "code",
   "execution_count": 186,
   "id": "6614b7ae",
   "metadata": {},
   "outputs": [
    {
     "data": {
      "text/plain": [
       "tenure           -0.351885\n",
       "monthlycharges    0.196805\n",
       "totalcharges     -0.196353\n",
       "dtype: float64"
      ]
     },
     "execution_count": 186,
     "metadata": {},
     "output_type": "execute_result"
    }
   ],
   "source": [
    "df_full_train[numerical].corrwith(df_full_train.churn)"
   ]
  },
  {
   "cell_type": "markdown",
   "id": "6de776b3",
   "metadata": {},
   "source": [
    "* The higher the `tenure` and `total_charges`, the lower the `churn rate`\n",
    "* The higher the `monthly charges`, the higher the `churn rate`\n",
    "\n",
    "Let's see the different churn rate for different years of tenure"
   ]
  },
  {
   "cell_type": "code",
   "execution_count": 190,
   "id": "344f0d96",
   "metadata": {},
   "outputs": [
    {
     "data": {
      "text/plain": [
       "array([12, 42, 71, 30,  9, 72, 28,  6, 47, 22,  2,  3,  4, 60, 69, 26, 33,\n",
       "        8, 27, 25, 23, 34, 59, 66,  5, 45, 49, 24,  1, 40, 51, 68, 32, 44,\n",
       "       67, 11, 53,  7, 55, 31, 13, 63, 64, 10, 62, 35, 57, 20, 65, 18, 46,\n",
       "       29, 37, 48, 15, 61, 14, 70, 52, 54, 19, 50, 43, 16, 36, 38, 56, 17,\n",
       "       41, 39, 58, 21,  0], dtype=int64)"
      ]
     },
     "execution_count": 190,
     "metadata": {},
     "output_type": "execute_result"
    }
   ],
   "source": [
    "df_full_train['tenure'].unique()"
   ]
  },
  {
   "cell_type": "code",
   "execution_count": 192,
   "id": "04ad8b02",
   "metadata": {},
   "outputs": [
    {
     "data": {
      "text/plain": [
       "0.5479204339963833"
      ]
     },
     "execution_count": 192,
     "metadata": {},
     "output_type": "execute_result"
    }
   ],
   "source": [
    "# those who spent less than 6 years \n",
    "df_full_train[df_full_train['tenure'] < 6].churn.mean()"
   ]
  },
  {
   "cell_type": "code",
   "execution_count": 189,
   "id": "fd7ca71c",
   "metadata": {},
   "outputs": [
    {
     "data": {
      "text/plain": [
       "0.4059003051881994"
      ]
     },
     "execution_count": 189,
     "metadata": {},
     "output_type": "execute_result"
    }
   ],
   "source": [
    "# those who spent more than 5 years and less than 13 years\n",
    "df_full_train[(df_full_train['tenure'] > 5) & (df_full_train['tenure'] < 13)].churn.mean()"
   ]
  },
  {
   "cell_type": "code",
   "execution_count": 193,
   "id": "b884e2be",
   "metadata": {},
   "outputs": [
    {
     "data": {
      "text/plain": [
       "0.17634908339788277"
      ]
     },
     "execution_count": 193,
     "metadata": {},
     "output_type": "execute_result"
    }
   ],
   "source": [
    "# those who spent more than 5 years and less than 13 years\n",
    "df_full_train[df_full_train['tenure'] > 12].churn.mean()"
   ]
  },
  {
   "cell_type": "markdown",
   "id": "dac14984",
   "metadata": {},
   "source": [
    "It can be said that churn rate decreases with time which corresponds with the correlation coefficient above"
   ]
  },
  {
   "cell_type": "markdown",
   "id": "ab13b767",
   "metadata": {},
   "source": [
    "### One-Hot Encoding\n",
    "\n",
    "Using Scikit-Learn to encode the categorical values.\n",
    "* Using DictVectorizer of Scikit-Learn\n",
    "* Even if fit the DictVectorizer with categorical and numerical data, it is smart enough to only encode the categorical variables"
   ]
  },
  {
   "cell_type": "code",
   "execution_count": 194,
   "id": "78603861",
   "metadata": {},
   "outputs": [],
   "source": [
    "from sklearn.feature_extraction import DictVectorizer "
   ]
  },
  {
   "cell_type": "markdown",
   "id": "02e22904",
   "metadata": {},
   "source": [
    "###### Fit transform the training dataset"
   ]
  },
  {
   "cell_type": "code",
   "execution_count": 199,
   "id": "5222a22e",
   "metadata": {},
   "outputs": [],
   "source": [
    "train_dict = df_train[categorical + numerical].to_dict(orient='records')"
   ]
  },
  {
   "cell_type": "code",
   "execution_count": 201,
   "id": "83fb22a2",
   "metadata": {},
   "outputs": [
    {
     "data": {
      "text/plain": [
       "{'gender': 'female',\n",
       " 'seniorcitizen': 0,\n",
       " 'partner': 'yes',\n",
       " 'dependents': 'yes',\n",
       " 'phoneservice': 'yes',\n",
       " 'multiplelines': 'yes',\n",
       " 'internetservice': 'fiber optic',\n",
       " 'onlinesecurity': 'yes',\n",
       " 'onlinebackup': 'yes',\n",
       " 'deviceprotection': 'yes',\n",
       " 'techsupport': 'yes',\n",
       " 'streamingtv': 'yes',\n",
       " 'streamingmovies': 'yes',\n",
       " 'contract': 'two year',\n",
       " 'paperlessbilling': 'yes',\n",
       " 'paymentmethod': 'electronic check',\n",
       " 'tenure': 72,\n",
       " 'monthlycharges': 115.5,\n",
       " 'totalcharges': 8425.15}"
      ]
     },
     "execution_count": 201,
     "metadata": {},
     "output_type": "execute_result"
    }
   ],
   "source": [
    "train_dict[0]"
   ]
  },
  {
   "cell_type": "code",
   "execution_count": 204,
   "id": "557ed1e3",
   "metadata": {},
   "outputs": [],
   "source": [
    "dv = DictVectorizer(sparse=False) "
   ]
  },
  {
   "cell_type": "code",
   "execution_count": 205,
   "id": "b49d3e3e",
   "metadata": {},
   "outputs": [
    {
     "data": {
      "text/plain": [
       "DictVectorizer(sparse=False)"
      ]
     },
     "execution_count": 205,
     "metadata": {},
     "output_type": "execute_result"
    }
   ],
   "source": [
    "dv.fit(train_dict)"
   ]
  },
  {
   "cell_type": "code",
   "execution_count": 207,
   "id": "203e4719",
   "metadata": {},
   "outputs": [],
   "source": [
    "X_train = dv.transform(train_dict)"
   ]
  },
  {
   "cell_type": "code",
   "execution_count": 208,
   "id": "7c0099c0",
   "metadata": {},
   "outputs": [
    {
     "data": {
      "text/plain": [
       "(4225, 45)"
      ]
     },
     "execution_count": 208,
     "metadata": {},
     "output_type": "execute_result"
    }
   ],
   "source": [
    "X_train.shape"
   ]
  },
  {
   "cell_type": "markdown",
   "id": "4c25dcee",
   "metadata": {},
   "source": [
    "###### Transform the validation set"
   ]
  },
  {
   "cell_type": "code",
   "execution_count": 209,
   "id": "e8c9a9d3",
   "metadata": {},
   "outputs": [],
   "source": [
    "val_dict = df_val[categorical + numerical].to_dict(orient='records')"
   ]
  },
  {
   "cell_type": "code",
   "execution_count": 210,
   "id": "f0c26a8f",
   "metadata": {},
   "outputs": [],
   "source": [
    "X_val = dv.transform(val_dict)"
   ]
  },
  {
   "cell_type": "markdown",
   "id": "4117ff34",
   "metadata": {},
   "source": [
    "### Logistic Regression\n",
    "\n",
    "* Binary classification\n",
    "* Linear vs Logistic regression"
   ]
  },
  {
   "cell_type": "code",
   "execution_count": 212,
   "id": "38f405eb",
   "metadata": {},
   "outputs": [],
   "source": [
    "def sigmoid(z):\n",
    "    return 1 / (1 + np.exp(-z))"
   ]
  },
  {
   "cell_type": "code",
   "execution_count": 213,
   "id": "f8608995",
   "metadata": {},
   "outputs": [],
   "source": [
    "def logistic_regression(xi):\n",
    "    score = w0\n",
    "    \n",
    "    for j in range(len(w)):\n",
    "        score = score + xi[j] * w[j]\n",
    "        \n",
    "    result = sigmoid(score)\n",
    "    return result "
   ]
  },
  {
   "cell_type": "markdown",
   "id": "00568d77",
   "metadata": {},
   "source": [
    "### Training Logistic Regression with Scikit-Learn\n",
    "  \n",
    "* Train a model\n",
    "* Apply it to validation data\n",
    "* Calculate the accuracy"
   ]
  },
  {
   "cell_type": "code",
   "execution_count": 214,
   "id": "4c103494",
   "metadata": {},
   "outputs": [],
   "source": [
    "from sklearn.linear_model import LogisticRegression"
   ]
  },
  {
   "cell_type": "markdown",
   "id": "b7470b83",
   "metadata": {},
   "source": [
    "###### Train model on the training set"
   ]
  },
  {
   "cell_type": "code",
   "execution_count": 215,
   "id": "7796551d",
   "metadata": {},
   "outputs": [],
   "source": [
    "lr = LogisticRegression()"
   ]
  },
  {
   "cell_type": "code",
   "execution_count": 216,
   "id": "a39ea8e0",
   "metadata": {},
   "outputs": [
    {
     "data": {
      "text/plain": [
       "LogisticRegression()"
      ]
     },
     "execution_count": 216,
     "metadata": {},
     "output_type": "execute_result"
    }
   ],
   "source": [
    "lr.fit(X_train, y_train)"
   ]
  },
  {
   "cell_type": "markdown",
   "id": "d23f4677",
   "metadata": {},
   "source": [
    "###### Predict model on the train set"
   ]
  },
  {
   "cell_type": "code",
   "execution_count": 223,
   "id": "10619911",
   "metadata": {},
   "outputs": [
    {
     "data": {
      "text/plain": [
       "array([[0.90452073, 0.09547927],\n",
       "       [0.32067002, 0.67932998],\n",
       "       [0.36631917, 0.63368083],\n",
       "       [0.28247754, 0.71752246],\n",
       "       [0.95232182, 0.04767818]])"
      ]
     },
     "execution_count": 223,
     "metadata": {},
     "output_type": "execute_result"
    }
   ],
   "source": [
    "# obtain the probability of each class when predicting\n",
    "pred_train = lr.predict_proba(X_train)\n",
    "pred_train[:5]"
   ]
  },
  {
   "cell_type": "markdown",
   "id": "242860f4",
   "metadata": {},
   "source": [
    "* The first column is the probabilty of being negative (0) while the sexond column is the probability of being positive (1).\n",
    "* But we are only interested in the probability of the positive category. "
   ]
  },
  {
   "cell_type": "markdown",
   "id": "d24602e2",
   "metadata": {},
   "source": [
    "###### Predict model on the train set"
   ]
  },
  {
   "cell_type": "code",
   "execution_count": 230,
   "id": "fa7cfe7d",
   "metadata": {},
   "outputs": [],
   "source": [
    "pred_val = lr.predict_proba(X_val)"
   ]
  },
  {
   "cell_type": "code",
   "execution_count": 231,
   "id": "562a422d",
   "metadata": {},
   "outputs": [],
   "source": [
    "pred_val = pred_val[:, 1]"
   ]
  },
  {
   "cell_type": "code",
   "execution_count": 232,
   "id": "64fd5851",
   "metadata": {},
   "outputs": [],
   "source": [
    "churn_decision = pred_val >= 0.5"
   ]
  },
  {
   "cell_type": "code",
   "execution_count": 233,
   "id": "148e0612",
   "metadata": {},
   "outputs": [
    {
     "data": {
      "text/plain": [
       "2504    8433-wxgna\n",
       "4597    3440-jpscl\n",
       "2343    2637-fkfsy\n",
       "5591    7228-omtpn\n",
       "4482    6711-fldfb\n",
       "           ...    \n",
       "2611    5976-jcjrh\n",
       "4211    2034-cgrhz\n",
       "3999    5276-kqwhg\n",
       "6240    6521-yytyi\n",
       "5282    3049-solay\n",
       "Name: customerid, Length: 311, dtype: object"
      ]
     },
     "execution_count": 233,
     "metadata": {},
     "output_type": "execute_result"
    }
   ],
   "source": [
    "# the customer IDs of those that will churn\n",
    "df_val[churn_decision].customerid"
   ]
  },
  {
   "cell_type": "markdown",
   "id": "7a5ebb72",
   "metadata": {},
   "source": [
    "###### Evaluate the validation prediction"
   ]
  },
  {
   "cell_type": "code",
   "execution_count": 234,
   "id": "02c7bbe3",
   "metadata": {},
   "outputs": [
    {
     "data": {
      "text/plain": [
       "0.8034066713981547"
      ]
     },
     "execution_count": 234,
     "metadata": {},
     "output_type": "execute_result"
    }
   ],
   "source": [
    "# accuracy\n",
    "(y_val == churn_decision.astype('int')).mean()"
   ]
  },
  {
   "cell_type": "code",
   "execution_count": 235,
   "id": "57f3be9e",
   "metadata": {},
   "outputs": [],
   "source": [
    "df_pred = pd.DataFrame()"
   ]
  },
  {
   "cell_type": "code",
   "execution_count": 241,
   "id": "8e1f7854",
   "metadata": {},
   "outputs": [],
   "source": [
    "df_pred['Churn_Prob.'] = pred_val\n",
    "df_pred['Actual'] = y_val.values\n",
    "df_pred['Predicted'] = churn_decision.astype('int')\n",
    "df_pred['Correct_pred.'] = df_pred['Actual'] == df_pred['Predicted'] "
   ]
  },
  {
   "cell_type": "code",
   "execution_count": 242,
   "id": "87c52f23",
   "metadata": {},
   "outputs": [
    {
     "data": {
      "text/html": [
       "<div>\n",
       "<style scoped>\n",
       "    .dataframe tbody tr th:only-of-type {\n",
       "        vertical-align: middle;\n",
       "    }\n",
       "\n",
       "    .dataframe tbody tr th {\n",
       "        vertical-align: top;\n",
       "    }\n",
       "\n",
       "    .dataframe thead th {\n",
       "        text-align: right;\n",
       "    }\n",
       "</style>\n",
       "<table border=\"1\" class=\"dataframe\">\n",
       "  <thead>\n",
       "    <tr style=\"text-align: right;\">\n",
       "      <th></th>\n",
       "      <th>Churn_Prob.</th>\n",
       "      <th>Actual</th>\n",
       "      <th>Predicted</th>\n",
       "      <th>Correct_pred.</th>\n",
       "    </tr>\n",
       "  </thead>\n",
       "  <tbody>\n",
       "    <tr>\n",
       "      <th>0</th>\n",
       "      <td>0.008997</td>\n",
       "      <td>0</td>\n",
       "      <td>0</td>\n",
       "      <td>True</td>\n",
       "    </tr>\n",
       "    <tr>\n",
       "      <th>1</th>\n",
       "      <td>0.204511</td>\n",
       "      <td>0</td>\n",
       "      <td>0</td>\n",
       "      <td>True</td>\n",
       "    </tr>\n",
       "    <tr>\n",
       "      <th>2</th>\n",
       "      <td>0.212212</td>\n",
       "      <td>0</td>\n",
       "      <td>0</td>\n",
       "      <td>True</td>\n",
       "    </tr>\n",
       "    <tr>\n",
       "      <th>3</th>\n",
       "      <td>0.543050</td>\n",
       "      <td>1</td>\n",
       "      <td>1</td>\n",
       "      <td>True</td>\n",
       "    </tr>\n",
       "    <tr>\n",
       "      <th>4</th>\n",
       "      <td>0.213776</td>\n",
       "      <td>0</td>\n",
       "      <td>0</td>\n",
       "      <td>True</td>\n",
       "    </tr>\n",
       "    <tr>\n",
       "      <th>...</th>\n",
       "      <td>...</td>\n",
       "      <td>...</td>\n",
       "      <td>...</td>\n",
       "      <td>...</td>\n",
       "    </tr>\n",
       "    <tr>\n",
       "      <th>1404</th>\n",
       "      <td>0.313665</td>\n",
       "      <td>0</td>\n",
       "      <td>0</td>\n",
       "      <td>True</td>\n",
       "    </tr>\n",
       "    <tr>\n",
       "      <th>1405</th>\n",
       "      <td>0.039358</td>\n",
       "      <td>1</td>\n",
       "      <td>0</td>\n",
       "      <td>False</td>\n",
       "    </tr>\n",
       "    <tr>\n",
       "      <th>1406</th>\n",
       "      <td>0.136388</td>\n",
       "      <td>0</td>\n",
       "      <td>0</td>\n",
       "      <td>True</td>\n",
       "    </tr>\n",
       "    <tr>\n",
       "      <th>1407</th>\n",
       "      <td>0.799769</td>\n",
       "      <td>1</td>\n",
       "      <td>1</td>\n",
       "      <td>True</td>\n",
       "    </tr>\n",
       "    <tr>\n",
       "      <th>1408</th>\n",
       "      <td>0.837406</td>\n",
       "      <td>1</td>\n",
       "      <td>1</td>\n",
       "      <td>True</td>\n",
       "    </tr>\n",
       "  </tbody>\n",
       "</table>\n",
       "<p>1409 rows × 4 columns</p>\n",
       "</div>"
      ],
      "text/plain": [
       "      Churn_Prob.  Actual  Predicted  Correct_pred.\n",
       "0        0.008997       0          0           True\n",
       "1        0.204511       0          0           True\n",
       "2        0.212212       0          0           True\n",
       "3        0.543050       1          1           True\n",
       "4        0.213776       0          0           True\n",
       "...           ...     ...        ...            ...\n",
       "1404     0.313665       0          0           True\n",
       "1405     0.039358       1          0          False\n",
       "1406     0.136388       0          0           True\n",
       "1407     0.799769       1          1           True\n",
       "1408     0.837406       1          1           True\n",
       "\n",
       "[1409 rows x 4 columns]"
      ]
     },
     "execution_count": 242,
     "metadata": {},
     "output_type": "execute_result"
    }
   ],
   "source": [
    "df_pred"
   ]
  },
  {
   "cell_type": "markdown",
   "id": "bea7ebb1",
   "metadata": {},
   "source": [
    "### Model Interpretation\n",
    "\n",
    "* Look at the weights of the features\n",
    "* Train a smaller model with fewer features"
   ]
  },
  {
   "cell_type": "code",
   "execution_count": 251,
   "id": "58288ea0",
   "metadata": {},
   "outputs": [],
   "source": [
    "features_coef = dict(zip(dv.get_feature_names(), lr.coef_[0].round(3)))"
   ]
  },
  {
   "cell_type": "code",
   "execution_count": 252,
   "id": "1a41757f",
   "metadata": {},
   "outputs": [
    {
     "data": {
      "text/plain": [
       "{'contract=month-to-month': 0.475,\n",
       " 'contract=one year': -0.175,\n",
       " 'contract=two year': -0.408,\n",
       " 'dependents=no': -0.03,\n",
       " 'dependents=yes': -0.078,\n",
       " 'deviceprotection=no': 0.063,\n",
       " 'deviceprotection=no internet service': -0.089,\n",
       " 'deviceprotection=yes': -0.081,\n",
       " 'gender=female': -0.034,\n",
       " 'gender=male': -0.073,\n",
       " 'internetservice=dsl': -0.335,\n",
       " 'internetservice=fiber optic': 0.316,\n",
       " 'internetservice=no': -0.089,\n",
       " 'monthlycharges': 0.004,\n",
       " 'multiplelines=no': -0.258,\n",
       " 'multiplelines=no phone service': 0.141,\n",
       " 'multiplelines=yes': 0.009,\n",
       " 'onlinebackup=no': 0.063,\n",
       " 'onlinebackup=no internet service': -0.089,\n",
       " 'onlinebackup=yes': -0.081,\n",
       " 'onlinesecurity=no': 0.266,\n",
       " 'onlinesecurity=no internet service': -0.089,\n",
       " 'onlinesecurity=yes': -0.284,\n",
       " 'paperlessbilling=no': -0.231,\n",
       " 'paperlessbilling=yes': 0.124,\n",
       " 'partner=no': -0.166,\n",
       " 'partner=yes': 0.058,\n",
       " 'paymentmethod=bank transfer (automatic)': -0.087,\n",
       " 'paymentmethod=credit card (automatic)': -0.032,\n",
       " 'paymentmethod=electronic check': 0.07,\n",
       " 'paymentmethod=mailed check': -0.059,\n",
       " 'phoneservice=no': 0.141,\n",
       " 'phoneservice=yes': -0.249,\n",
       " 'seniorcitizen': 0.215,\n",
       " 'streamingmovies=no': -0.12,\n",
       " 'streamingmovies=no internet service': -0.089,\n",
       " 'streamingmovies=yes': 0.102,\n",
       " 'streamingtv=no': -0.071,\n",
       " 'streamingtv=no internet service': -0.089,\n",
       " 'streamingtv=yes': 0.052,\n",
       " 'techsupport=no': 0.213,\n",
       " 'techsupport=no internet service': -0.089,\n",
       " 'techsupport=yes': -0.232,\n",
       " 'tenure': -0.07,\n",
       " 'totalcharges': 0.0}"
      ]
     },
     "execution_count": 252,
     "metadata": {},
     "output_type": "execute_result"
    }
   ],
   "source": [
    "features_coef"
   ]
  },
  {
   "cell_type": "markdown",
   "id": "ae5cf15a",
   "metadata": {},
   "source": [
    "###### Smaller Model"
   ]
  },
  {
   "cell_type": "code",
   "execution_count": 263,
   "id": "bcd55823",
   "metadata": {},
   "outputs": [],
   "source": [
    "small = ['contract', 'tenure', 'monthlycharges']"
   ]
  },
  {
   "cell_type": "code",
   "execution_count": 264,
   "id": "2ff44177",
   "metadata": {},
   "outputs": [],
   "source": [
    "train_small = df_train[small].to_dict(orient='records')\n",
    "val_small = df_val[small].to_dict(orient='records')"
   ]
  },
  {
   "cell_type": "code",
   "execution_count": 265,
   "id": "62a4253f",
   "metadata": {},
   "outputs": [],
   "source": [
    "# sencode the data\n",
    "dv_small = DictVectorizer(sparse=False)"
   ]
  },
  {
   "cell_type": "code",
   "execution_count": 266,
   "id": "7655f8d4",
   "metadata": {},
   "outputs": [],
   "source": [
    "X_train_small = dv_small.fit_transform(train_small)\n",
    "X_val_small = dv_small.transform(val_small)"
   ]
  },
  {
   "cell_type": "code",
   "execution_count": 267,
   "id": "a7860771",
   "metadata": {},
   "outputs": [
    {
     "data": {
      "text/plain": [
       "LogisticRegression()"
      ]
     },
     "execution_count": 267,
     "metadata": {},
     "output_type": "execute_result"
    }
   ],
   "source": [
    "# create model object\n",
    "lr_small  = LogisticRegression()\n",
    "lr.fit(X_train_small, y_train)"
   ]
  },
  {
   "cell_type": "code",
   "execution_count": 271,
   "id": "0530fd2b",
   "metadata": {},
   "outputs": [
    {
     "name": "stdout",
     "output_type": "stream",
     "text": [
      "[-2.47677566]\n"
     ]
    },
    {
     "data": {
      "text/plain": [
       "array([[ 0.97 , -0.025, -0.949,  0.027, -0.036]])"
      ]
     },
     "execution_count": 271,
     "metadata": {},
     "output_type": "execute_result"
    }
   ],
   "source": [
    "w0 = lr.intercept_\n",
    "print(w0)\n",
    "w = lr.coef_\n",
    "w.round(3)"
   ]
  },
  {
   "cell_type": "code",
   "execution_count": 273,
   "id": "2a5e3102",
   "metadata": {},
   "outputs": [
    {
     "data": {
      "text/plain": [
       "{'contract=month-to-month': 0.97,\n",
       " 'contract=one year': -0.025,\n",
       " 'contract=two year': -0.949,\n",
       " 'monthlycharges': 0.027,\n",
       " 'tenure': -0.036}"
      ]
     },
     "execution_count": 273,
     "metadata": {},
     "output_type": "execute_result"
    }
   ],
   "source": [
    "features_coef_small = dict(zip(dv.get_feature_names(), lr.coef_[0].round(3)))\n",
    "features_coef_small "
   ]
  },
  {
   "cell_type": "markdown",
   "id": "2e1dbbd5",
   "metadata": {},
   "source": [
    "### Using The Model"
   ]
  },
  {
   "cell_type": "markdown",
   "id": "adda257e",
   "metadata": {},
   "source": [
    "###### Train the full train set"
   ]
  },
  {
   "cell_type": "code",
   "execution_count": 278,
   "id": "81f95ba8",
   "metadata": {},
   "outputs": [],
   "source": [
    "dict_full_train = df_full_train[categorical + numerical].to_dict(orient='records')\n",
    "dict_test = df_test[categorical + numerical].to_dict(orient='records')"
   ]
  },
  {
   "cell_type": "code",
   "execution_count": 279,
   "id": "155412f3",
   "metadata": {},
   "outputs": [],
   "source": [
    "dv_full = DictVectorizer(sparse=False)"
   ]
  },
  {
   "cell_type": "code",
   "execution_count": 280,
   "id": "4fe6bcce",
   "metadata": {},
   "outputs": [],
   "source": [
    "# fit and transform the fulltraining set\n",
    "X_full_train = dv_full.fit_transform(dict_full_train)\n",
    "\n",
    "# only tranform the test set\n",
    "X_test = dv_full.transform(dict_test)"
   ]
  },
  {
   "cell_type": "code",
   "execution_count": 282,
   "id": "6d7a4c85",
   "metadata": {},
   "outputs": [],
   "source": [
    "# obtain the target variable (churn) \n",
    "y_full_train = df_full_train.churn"
   ]
  },
  {
   "cell_type": "code",
   "execution_count": 283,
   "id": "11f140dd",
   "metadata": {},
   "outputs": [
    {
     "data": {
      "text/plain": [
       "LogisticRegression()"
      ]
     },
     "execution_count": 283,
     "metadata": {},
     "output_type": "execute_result"
    }
   ],
   "source": [
    "# create the logitiv regression object\n",
    "lr_full = LogisticRegression()\n",
    "\n",
    "# fit the model on the training examples \n",
    "lr_full.fit(X_full_train, y_full_train)"
   ]
  },
  {
   "cell_type": "code",
   "execution_count": 285,
   "id": "a50e7876",
   "metadata": {},
   "outputs": [],
   "source": [
    "pred_test = lr_full.predict_proba(X_test)[:, 1]"
   ]
  },
  {
   "cell_type": "code",
   "execution_count": 286,
   "id": "0a8a72ce",
   "metadata": {},
   "outputs": [],
   "source": [
    "churn_decision = pred_test >= 0.5"
   ]
  },
  {
   "cell_type": "code",
   "execution_count": 287,
   "id": "2bebc1eb",
   "metadata": {},
   "outputs": [
    {
     "data": {
      "text/plain": [
       "0.815471965933286"
      ]
     },
     "execution_count": 287,
     "metadata": {},
     "output_type": "execute_result"
    }
   ],
   "source": [
    "# evaluate the accuracy of model\n",
    "(churn_decision == y_test).mean()"
   ]
  },
  {
   "cell_type": "markdown",
   "id": "e7661f21",
   "metadata": {},
   "source": [
    "From the above, there is no much difference between the validation error `(0.80341)` and the test error `(0.815472)`"
   ]
  },
  {
   "cell_type": "markdown",
   "id": "efc5f118",
   "metadata": {},
   "source": [
    "###### Using the model to make prediction"
   ]
  },
  {
   "cell_type": "code",
   "execution_count": 288,
   "id": "f85bed31",
   "metadata": {},
   "outputs": [],
   "source": [
    "# predict the 10th obbservation from the test data set\n",
    "customer = dict_test[10]"
   ]
  },
  {
   "cell_type": "code",
   "execution_count": 289,
   "id": "b271275a",
   "metadata": {},
   "outputs": [],
   "source": [
    "# transform the customer data to one hot encode it\n",
    "X_customer = dv_full.transform(customer)"
   ]
  },
  {
   "cell_type": "code",
   "execution_count": 291,
   "id": "7839dc50",
   "metadata": {},
   "outputs": [
    {
     "data": {
      "text/plain": [
       "(1, 45)"
      ]
     },
     "execution_count": 291,
     "metadata": {},
     "output_type": "execute_result"
    }
   ],
   "source": [
    "X_customer.shape"
   ]
  },
  {
   "cell_type": "code",
   "execution_count": 292,
   "id": "7daa2c3b",
   "metadata": {},
   "outputs": [],
   "source": [
    "# make prediction of the probability of the custormer churning\n",
    "customer_pred = lr_full.predict_proba(X_customer)"
   ]
  },
  {
   "cell_type": "code",
   "execution_count": 293,
   "id": "5ac4bf33",
   "metadata": {},
   "outputs": [
    {
     "data": {
      "text/plain": [
       "array([[0.5943189, 0.4056811]])"
      ]
     },
     "execution_count": 293,
     "metadata": {},
     "output_type": "execute_result"
    }
   ],
   "source": [
    "customer_pred"
   ]
  },
  {
   "cell_type": "markdown",
   "id": "36a2a18d",
   "metadata": {},
   "source": [
    "Since the churn probability value is less than 0.5 (threshold above which customer will churn), we can say that this customer will not churn."
   ]
  },
  {
   "cell_type": "code",
   "execution_count": 294,
   "id": "fd3f4089",
   "metadata": {},
   "outputs": [
    {
     "data": {
      "text/plain": [
       "array([0])"
      ]
     },
     "execution_count": 294,
     "metadata": {},
     "output_type": "execute_result"
    }
   ],
   "source": [
    "lr_full.predict(X_customer)"
   ]
  },
  {
   "cell_type": "code",
   "execution_count": 298,
   "id": "37ca3aeb",
   "metadata": {},
   "outputs": [
    {
     "data": {
      "text/plain": [
       "0"
      ]
     },
     "execution_count": 298,
     "metadata": {},
     "output_type": "execute_result"
    }
   ],
   "source": [
    "# lets observe the actual value\n",
    "y_test.reset_index(drop=True)[10]"
   ]
  },
  {
   "cell_type": "markdown",
   "id": "6fc8b71c",
   "metadata": {},
   "source": [
    "We predicted that the customer will not churn and in truth, the customer did not churn."
   ]
  },
  {
   "cell_type": "code",
   "execution_count": null,
   "id": "3f23f30f",
   "metadata": {},
   "outputs": [],
   "source": []
  }
 ],
 "metadata": {
  "kernelspec": {
   "display_name": "Python 3",
   "language": "python",
   "name": "python3"
  },
  "language_info": {
   "codemirror_mode": {
    "name": "ipython",
    "version": 3
   },
   "file_extension": ".py",
   "mimetype": "text/x-python",
   "name": "python",
   "nbconvert_exporter": "python",
   "pygments_lexer": "ipython3",
   "version": "3.8.8"
  }
 },
 "nbformat": 4,
 "nbformat_minor": 5
}
